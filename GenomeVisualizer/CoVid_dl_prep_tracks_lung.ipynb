{
 "cells": [
  {
   "cell_type": "markdown",
   "metadata": {},
   "source": [
    "# Code to get tracks set up for CoVid-relevant regulatory architecture\n",
    "# Lung (epithelial-like) regulatory architecture"
   ]
  },
  {
   "cell_type": "markdown",
   "metadata": {},
   "source": [
    "# Minimal tracks to prepare \n",
    "Track : format - source\n",
    "\n",
    "    * CTCF : bigwig - Imputed CD8 T-cell ENCODE \n",
    "    * H3K27Ac : bigwig - ENCODE NHLF\n",
    "    * H3k4Me3 : bigwig - ENCODE SAEC\n",
    "    * H3k9Me3 : bigwig - ENCODE NHLF\n",
    "    * DNAse-seq : bigwig - ENCODE SAEC\n",
    "    * Methylation : bigwig - None\n",
    "    * Loops : links - hESC\n",
    "    * Hi-C : cool - IMR90 GItar\n",
    "    * Genes : genes_bed -  Gencode\n",
    "    * Repeats : bed - L1Base2\n",
    "    * Chromatin state : bed - ENCODE/Segway\n",
    "    * eQTL list : arcs - none\n",
    "    * GWAS : bed - pvals and bigwig Ellinghaus and Covid19Hg\n",
    "    * RNA-Seq : bigwig and txt - HBEC, BALF, BALF-Covid\n",
    "    "
   ]
  },
  {
   "cell_type": "code",
   "execution_count": null,
   "metadata": {},
   "outputs": [],
   "source": [
    "import pyensembl, os, sys, re, numpy as np\n",
    "from helper_funcs import *\n"
   ]
  },
  {
   "cell_type": "markdown",
   "metadata": {},
   "source": [
    "### Transcription factor and histones"
   ]
  },
  {
   "cell_type": "code",
   "execution_count": null,
   "metadata": {},
   "outputs": [],
   "source": [
    "%%bash\n",
    "#Get Histone marks:\n",
    "\n",
    "# Get bigwig H3k4me3 fold change over control \n",
    "wget -nc -O /input_dir/corona_analysis/tracks/ENCFF782BOR_H3k4Me3_SAEC.bw --quiet \\\n",
    "    \"https://encode-public.s3.amazonaws.com/2016/08/23/89ae3a85-af02-49bd-b378-e565595106b4/ENCFF782BOR.bigWig\"\n",
    "\n",
    "# Get bigwig H3K27Ac fold change over control\n",
    "wget -nc -O /input_dir/corona_analysis/tracks/ENCFF637KNN_H3k27Ac_NHLF.bw --quiet \\\n",
    "    \"https://encode-public.s3.amazonaws.com/2017/02/07/b8c9384f-af28-48bd-9474-2293237bba68/ENCFF637KNN.bigWig\"    \n",
    "\n",
    "# Get bigwig H3K9Me3 fold change over control\n",
    "wget -nc -O /input_dir/corona_analysis/tracks/ENCFF143LCY_H3k9Me3_NHLF.bw --quiet \\\n",
    "    \"https://encode-public.s3.amazonaws.com/2016/11/28/77fa3756-baeb-4a1b-967b-d2d02836db92/ENCFF143LCY.bigWig\"\n"
   ]
  },
  {
   "cell_type": "code",
   "execution_count": null,
   "metadata": {},
   "outputs": [],
   "source": [
    "%%bash\n",
    "#Get Bigwigs:\n",
    "\n",
    "# Get CTCF chip-seq fold change over control\n",
    "wget -nc -O /input_dir/corona_analysis/tracks/ENCFF117BRM_CTCF_NHLF.bw --quiet \\\n",
    "    \"https://encode-public.s3.amazonaws.com/2016/12/16/6f8d8132-8da6-467e-a4e3-5f720ae2370c/ENCFF117BRM.bigWig\"\n",
    "\n",
    "# Get called CTCF peaks\n",
    "wget -nc -O /input_dir/corona_analysis/tracks/ENCFF777ODE_CTCF_NHLF.bed.gz --quiet \\\n",
    "    \"https://encode-public.s3.amazonaws.com/2016/12/16/b9ad65ca-eb0d-4c6e-8d38-64346569f026/ENCFF777ODE.bed.gz\"\n",
    "gunzip /input_dir/corona_analysis/tracks/ENCFF777ODE_CTCF_NHLF.bed.gz\n",
    "    "
   ]
  },
  {
   "cell_type": "markdown",
   "metadata": {},
   "source": [
    "### Chromatin accessibility"
   ]
  },
  {
   "cell_type": "code",
   "execution_count": null,
   "metadata": {},
   "outputs": [],
   "source": [
    "%%bash\n",
    "\n",
    "# Get bigwig DNAse normalized read count \n",
    "wget -nc -O /input_dir/corona_analysis/tracks/ENCFF827VFY_DNAse_SAEC.bw --quiet \\\n",
    "\"https://encode-public.s3.amazonaws.com/2017/08/24/65b36dd7-fa4e-47ba-91a8-536ebcff4d93/ENCFF827VFY.bigWig\"\n"
   ]
  },
  {
   "cell_type": "code",
   "execution_count": null,
   "metadata": {},
   "outputs": [],
   "source": [
    "%%bash\n",
    "\n",
    "# Get bed narrowpeak DNAse \n",
    "wget -nc -O /input_dir/corona_analysis/tracks/ENCFF827VFY_DNAse_SAEC.bed.gz --quiet \\\n",
    "\"https://encode-public.s3.amazonaws.com/2018/05/14/0b8ae8d1-bac1-41b2-b8fd-7795544fcc19/ENCFF546QUZ.bed.gz\"\n",
    "gunzip /input_dir/corona_analysis/tracks/ENCFF827VFY_DNAse_SAEC.bed.gz\n"
   ]
  },
  {
   "cell_type": "markdown",
   "metadata": {},
   "source": [
    "### Chromatin looping"
   ]
  },
  {
   "cell_type": "code",
   "execution_count": null,
   "metadata": {},
   "outputs": [],
   "source": [
    "#Got loops from previous hESC paper in:\n",
    "# /input_dir/corona_analysis/tracks/primed_.7_origami_intra.arcs"
   ]
  },
  {
   "cell_type": "code",
   "execution_count": null,
   "metadata": {},
   "outputs": [],
   "source": [
    "%%bash\n",
    "\n",
    "#Get Hi-C contact matrix for IMR90 from GenomeGitar\n",
    "wget -O /input_dir/corona_analysis/tracks/GSM1551599_contact_matrices.zip --quiet -nc \\\n",
    "    https://data.genomegitar.org/GSM1551599/GSM1551599_contact_matrices.zip\n",
    "unzip /input_dir/corona_analysis/tracks/GSM1551599_contact_matrices.zip\n",
    "\n",
    "#Get Hi-C data in h5 for IMR90 from GenomeGitar\n",
    "wget -O /input_dir/corona_analysis/tracks/GSM1551599_hdf5.zip --quiet -nc \\\n",
    "    https://data.genomegitar.org/GSM1551599/GSM1551599_hdf5.zip\n",
    "unzip /input_dir/corona_analysis/tracks/GSM1551599_hdf5.zip\n"
   ]
  },
  {
   "cell_type": "code",
   "execution_count": null,
   "metadata": {},
   "outputs": [],
   "source": [
    "%%bash\n",
    "\n",
    "#Get Hi-C data from 4DN -- IMR90 In-situ Hi-C same as above\n",
    "https://data.4dnucleome.org/experiment-set-replicates/4DNES1ZEJNRU/\n",
    "    https://data.4dnucleome.org/files-processed/4DNFIH7TH4MF/@@download/4DNFIH7TH4MF.hic\n",
    "    "
   ]
  },
  {
   "cell_type": "markdown",
   "metadata": {},
   "source": [
    "### Chromatin state"
   ]
  },
  {
   "cell_type": "code",
   "execution_count": null,
   "metadata": {},
   "outputs": [],
   "source": [
    "%%bash\n",
    "\n",
    "#Get fetal kidney chromatin state as predicted by Segway HMM model\n",
    "wget --quiet -nc https://noble.gs.washington.edu/proj/encyclopedia/interpreted/BC_LUNG_01-11002.bed.gz \n",
    "gunzip BC_LUNG_01-11002.bed.gz \n",
    "sort-bed BC_LUNG_01-11002.bed | bgzip > /input_dir/corona_analysis/tracks/Segway_bc_lung.bed.gz\n",
    "rm BC_LUNG_01-11002.bed\n",
    "tabix -p bed /input_dir/corona_analysis/tracks/Segway_bc_lung.bed.gz\n"
   ]
  },
  {
   "cell_type": "code",
   "execution_count": null,
   "metadata": {},
   "outputs": [],
   "source": [
    "%%bash\n",
    "#Get NHLF ChromHmm model\n",
    "wget --quiet -nc -O E128_15_coreMarks_dense.bed.gz \\\n",
    "    https://egg2.wustl.edu/roadmap/data/byFileType/chromhmmSegmentations/ChmmModels/coreMarks/jointModel/final/E128_15_coreMarks_dense.bed.gz\n",
    "gunzip E128_15_coreMarks_dense.bed.gz\n",
    "sort-bed E128_15_coreMarks_dense.bed | bgzip > /input_dir/corona_analysis/tracks/E128_15_coreMarks_dense.bed.gz\n",
    "rm E128_15_coreMarks_dense.bed\n",
    "tabix -p bed /input_dir/corona_analysis/tracks/E128_15_coreMarks_dense.bed.gz\n"
   ]
  },
  {
   "cell_type": "markdown",
   "metadata": {},
   "source": [
    "### RNA-seq"
   ]
  },
  {
   "cell_type": "code",
   "execution_count": null,
   "metadata": {},
   "outputs": [],
   "source": [
    "%%bash\n",
    "\n",
    "#Get Human Bronchial Epithelial Cells (HBEC)\n",
    "\n",
    "#Get bigwig of alignments\n",
    "# Minus strand\n",
    "wget -nc -O /input_dir/corona_analysis/tracks/ENCFF730XSB_HBEC_rnaseq_minus.bw --quiet \\\n",
    "    \"https://encode-public.s3.amazonaws.com/2016/02/24/e2d0908f-7b88-40d5-ae12-526837091e9d/ENCFF730XSB.bigWig\"\n",
    "\n",
    "# Plus strand\n",
    "wget -nc -O /input_dir/corona_analysis/tracks/NCFF322WTN_HBEC_rnaseq_plus.bw --quiet \\\n",
    "    \"https://encode-public.s3.amazonaws.com/2016/02/24/a7520a56-fc0a-450c-80c1-12d201fbd405/ENCFF322WTN.bigWig\"\n",
    "\n",
    "#Transcript quantifications\n",
    "wget -nc -O /input_dir/corona_analysis/tracks/ENCFF679UBR_HBEC_rnaseq_transcript.tsv --quiet \\\n",
    "    \"https://encode-public.s3.amazonaws.com/2016/02/24/d293a404-1fb5-4aee-a300-b95ba3ca682c/ENCFF679UBR.tsv\"\n",
    "    \n",
    "#Gene quantifications\n",
    "wget -nc -O /input_dir/corona_analysis/tracks/ENCFF207VFL_HBEC_rnaseq_gene.tsv --quiet \\\n",
    "    \"https://encode-public.s3.amazonaws.com/2016/02/24/720e0bc2-c342-4542-946d-6c5728049c32/ENCFF207VFL.tsv\"\n",
    "    "
   ]
  },
  {
   "cell_type": "code",
   "execution_count": 5,
   "metadata": {},
   "outputs": [],
   "source": [
    "%%bash\n",
    "\n",
    "#Get NHLF Human lung fibroblast RNA-seq\n",
    "\n",
    "#Get bigwig of alignments\n",
    "# Minus strand\n",
    "wget -nc -O /input_dir/corona_analysis/tracks/ENCFF121EOD_NHLF_rnaseq_minus_hg38.bw --quiet \\\n",
    "    \"https://encode-public.s3.amazonaws.com/2016/02/29/378b154b-29e3-45d7-8eb5-74f2a335da9a/ENCFF121EOD.bigWig\"\n",
    "\n",
    "# Plus strand\n",
    "wget -nc -O /input_dir/corona_analysis/tracks/ENCFF996XPQ_NHLF_rnaseq_plus_hg38.bw --quiet \\\n",
    "    \"https://encode-public.s3.amazonaws.com/2016/02/29/f65439f6-4b3c-495b-91a5-a571b5937d33/ENCFF996XPQ.bigWig\"\n"
   ]
  },
  {
   "cell_type": "markdown",
   "metadata": {},
   "source": [
    "# Prepare wigs from BALF of control and COVID19 patients"
   ]
  },
  {
   "cell_type": "code",
   "execution_count": 4,
   "metadata": {},
   "outputs": [],
   "source": [
    "%%bash\n",
    "\n",
    "#Get chromosomes sizes and filter to canonical ones\n",
    "wget -nc --quiet http://hgdownload.cse.ucsc.edu/goldenPath/hg38/bigZips/hg38.chrom.sizes\n",
    "grep -v \"_alt\" hg38.chrom.sizes | grep -v \"_hap\" | grep -v \"Un_\" | grep -v \"random\" | sed 's/^chr//g' | sed 's/^M/MT/g' > hg38.chrom.filtered.sizes \n",
    "rm hg38.chrom.sizes\n"
   ]
  },
  {
   "cell_type": "markdown",
   "metadata": {},
   "source": [
    "### BALF RNA-seq control"
   ]
  },
  {
   "cell_type": "code",
   "execution_count": null,
   "metadata": {},
   "outputs": [],
   "source": [
    "%%bash\n",
    "\n",
    "#BALF Control wigs to bigwig \n",
    "#s1\n",
    "#Plus strand\n",
    "wigToBigWig /input_dir/corona_analysis/alignment_out/BALF_control_quant/BALF_control_s1_Signal.UniqueMultiple.str1.out.wig \\\n",
    "    hg38.chrom.filtered.sizes \\\n",
    "    /input_dir/corona_analysis/tracks/BALF_control_s1_rnaseq_plus_hg38.bw\n",
    "#Minus strand\n",
    "wigToBigWig /input_dir/corona_analysis/alignment_out/BALF_control_quant/BALF_control_s1_Signal.UniqueMultiple.str2.out.wig \\\n",
    "    hg38.chrom.filtered.sizes \\\n",
    "    /input_dir/corona_analysis/tracks/BALF_control_s1_rnaseq_minus_hg38.bw\n",
    "\n",
    "#s2\n",
    "#Plus strand\n",
    "wigToBigWig /input_dir/corona_analysis/alignment_out/BALF_control_quant/BALF_control_s2_Signal.UniqueMultiple.str1.out.wig \\\n",
    "    hg38.chrom.filtered.sizes \\\n",
    "    /input_dir/corona_analysis/tracks/BALF_control_s2_rnaseq_plus_hg38.bw\n",
    "#Minus strand\n",
    "wigToBigWig /input_dir/corona_analysis/alignment_out/BALF_control_quant/BALF_control_s2_Signal.UniqueMultiple.str2.out.wig \\\n",
    "    hg38.chrom.filtered.sizes \\\n",
    "    /input_dir/corona_analysis/tracks/BALF_control_s2_rnaseq_minus_hg38.bw\n",
    "\n",
    "#s3\n",
    "#Plus strand\n",
    "wigToBigWig /input_dir/corona_analysis/alignment_out/BALF_control_quant/BALF_control_s3_Signal.UniqueMultiple.str1.out.wig \\\n",
    "    hg38.chrom.filtered.sizes \\\n",
    "    /input_dir/corona_analysis/tracks/BALF_control_s3_rnaseq_plus_hg38.bw\n",
    "#Minus strand\n",
    "wigToBigWig /input_dir/corona_analysis/alignment_out/BALF_control_quant/BALF_control_s3_Signal.UniqueMultiple.str2.out.wig \\\n",
    "    hg38.chrom.filtered.sizes \\\n",
    "    /input_dir/corona_analysis/tracks/BALF_control_s3_rnaseq_minus_hg38.bw\n"
   ]
  },
  {
   "cell_type": "code",
   "execution_count": null,
   "metadata": {},
   "outputs": [],
   "source": [
    "%%bash\n",
    "\n",
    "#BALF Infected wigs to bigwig \n",
    "#s1\n",
    "#Plus strand\n",
    "wigToBigWig /input_dir/corona_analysis/alignment_out/BALF_infected_quant/BALF_corona_s1_Signal.UniqueMultiple.str1.out.wig \\\n",
    "    hg38.chrom.filtered.sizes \\\n",
    "    /input_dir/corona_analysis/tracks/BALF_corona_s1_rnaseq_plus_hg38.bw\n",
    "#Minus strand\n",
    "wigToBigWig /input_dir/corona_analysis/alignment_out/BALF_infected_quant/BALF_corona_s1_Signal.UniqueMultiple.str2.out.wig \\\n",
    "    hg38.chrom.filtered.sizes \\\n",
    "    /input_dir/corona_analysis/tracks/BALF_corona_s1_rnaseq_minus_hg38.bw\n",
    "   \n",
    "#s2\n",
    "#Plus strand\n",
    "wigToBigWig /input_dir/corona_analysis/alignment_out/BALF_infected_quant/BALF_corona_s2_Signal.UniqueMultiple.str1.out.wig \\\n",
    "    hg38.chrom.filtered.sizes \\\n",
    "    /input_dir/corona_analysis/tracks/BALF_corona_s2_rnaseq_plus_hg38.bw\n",
    "#Minus strand\n",
    "wigToBigWig /input_dir/corona_analysis/alignment_out/BALF_infected_quant/BALF_corona_s2_Signal.UniqueMultiple.str2.out.wig \\\n",
    "    hg38.chrom.filtered.sizes \\\n",
    "    /input_dir/corona_analysis/tracks/BALF_corona_s2_rnaseq_minus_hg38.bw\n"
   ]
  },
  {
   "cell_type": "markdown",
   "metadata": {},
   "source": [
    "### Flip BALF bw to hg19"
   ]
  },
  {
   "cell_type": "code",
   "execution_count": null,
   "metadata": {},
   "outputs": [],
   "source": [
    "%%bash\n",
    "\n",
    "#Control BALF S1\n",
    "CrossMap.py bigwig /input_dir/corona_analysis/annotations/hg38ToHg19.over.chain.gz /input_dir/corona_analysis/tracks/BALF_control_s1_rnaseq_plus_hg38.bw \\\n",
    "    /input_dir/corona_analysis/tracks/BALF_control_s1_rnaseq_plus_hg19\n",
    "CrossMap.py bigwig /input_dir/corona_analysis/annotations/hg38ToHg19.over.chain.gz /input_dir/corona_analysis/tracks/BALF_control_s1_rnaseq_minus_hg38.bw \\\n",
    "    /input_dir/corona_analysis/tracks/BALF_control_s1_rnaseq_minus_hg19\n",
    "\n",
    "#Infected BALF S1\n",
    "CrossMap.py bigwig /input_dir/corona_analysis/annotations/hg38ToHg19.over.chain.gz /input_dir/corona_analysis/tracks/BALF_corona_s1_rnaseq_plus_hg38.bw \\\n",
    "    /input_dir/corona_analysis/tracks/BALF_corona_s1_rnaseq_plus_hg19\n",
    "CrossMap.py bigwig /input_dir/corona_analysis/annotations/hg38ToHg19.over.chain.gz /input_dir/corona_analysis/tracks/BALF_corona_s1_rnaseq_minus_hg38.bw \\\n",
    "    /input_dir/corona_analysis/tracks/BALF_corona_s1_rnaseq_minus_hg19\n"
   ]
  },
  {
   "cell_type": "markdown",
   "metadata": {},
   "source": [
    "### eQTLs"
   ]
  },
  {
   "cell_type": "markdown",
   "metadata": {},
   "source": [
    "### Mendelian diseases"
   ]
  },
  {
   "cell_type": "code",
   "execution_count": null,
   "metadata": {},
   "outputs": [],
   "source": [
    "%%bash\n",
    "\n",
    "#Get mendelian variation tied to disease using clinvar hg38\n",
    "wget --quiet -nc -O disease_names_clinvar.txt ftp://ftp.ncbi.nlm.nih.gov/pub/clinvar/disease_names\n"
   ]
  },
  {
   "cell_type": "code",
   "execution_count": null,
   "metadata": {},
   "outputs": [],
   "source": [
    "%%bash\n",
    "\n",
    "wget --quiet -nc -O clinvar_curr_hg38.vcf.gz ftp://ftp.ncbi.nlm.nih.gov/pub/clinvar/vcf_GRCh38/clinvar_20200615.vcf.gz\n",
    "gunzip clinvar_curr_hg38.vcf.gz\n"
   ]
  },
  {
   "cell_type": "code",
   "execution_count": null,
   "metadata": {},
   "outputs": [],
   "source": [
    "%%bash\n",
    "\n",
    "wget --quiet -nc -O clinvar_curr_hg19.vcf.gz ftp://ftp.ncbi.nlm.nih.gov/pub/clinvar/vcf_GRCh37/clinvar_20200615.vcf.gz\n",
    "gunzip clinvar_curr_hg19.vcf.gz\n"
   ]
  },
  {
   "cell_type": "code",
   "execution_count": null,
   "metadata": {},
   "outputs": [],
   "source": [
    "%%bash\n",
    "\n",
    "#get only lung related disease ConceptIDs\n",
    "grep -i \"lung\\|COPD\" disease_names_clinvar.txt | cut -f 3 | sort -u | sed '/^$/d' > lung_names.txt\n"
   ]
  },
  {
   "cell_type": "code",
   "execution_count": null,
   "metadata": {},
   "outputs": [],
   "source": [
    "import vcf\n",
    "\n",
    "disease_ids = set()\n",
    "\n",
    "with open('lung_names.txt', 'r') as diseases:\n",
    "    for line in diseases.readlines():\n",
    "        disease_ids.add(line.strip())\n",
    "\n",
    "vcf_reader = vcf.Reader(open('clinvar_curr_hg19.vcf', 'r',encoding='utf-8'))\n",
    "\n",
    "bed_lung_var_out = open(\"/input_dir/corona_analysis/annotations/clinvar_kidney_variants_hg19.bed\",\"w\")\n",
    "\n",
    "for record in vcf_reader:\n",
    "    record_keys = record.INFO.keys()\n",
    "    if (\"CLNDISDB\" in record_keys and record.INFO[\"CLNDISDB\"][0] is not None and \"MedGen\" in record.INFO[\"CLNDISDB\"][0]):\n",
    "        cur_id = (record.INFO[\"CLNDISDB\"][0]).split(\":\")[1]\n",
    "        cur_disease = (record.INFO[\"CLNDN\"][0])\n",
    "        cur_rs = \"NA\"\n",
    "        if \"RS\" in record.INFO.keys():\n",
    "            cur_rs = \"rs\"+record.INFO[\"RS\"][0]\n",
    "        \n",
    "        if cur_id in disease_ids:\n",
    "            out_record = (\"chr\" + str(record.CHROM) +\n",
    "                \"\\t\" + str(record.start) + \n",
    "                \"\\t\" + str(record.end) + \n",
    "                \"\\t\" + cur_disease + \n",
    "                \":\" + cur_rs + \n",
    "                \"\\t\" + \"0\" + \n",
    "                \"\\t\" + \".\" + \"\\n\")\n",
    "            bed_lung_var_out.write(out_record)\n",
    "            \n",
    "bed_lung_var_out.close()"
   ]
  },
  {
   "cell_type": "markdown",
   "metadata": {},
   "source": [
    "### Methylation"
   ]
  },
  {
   "cell_type": "markdown",
   "metadata": {},
   "source": [
    "## GWAS CoVid"
   ]
  },
  {
   "cell_type": "code",
   "execution_count": null,
   "metadata": {},
   "outputs": [],
   "source": [
    "%%bash\n",
    "\n",
    "#Get GWAS from https://www.medrxiv.org/content/10.1101/2020.05.31.20114991v1\n",
    "#Got regions from supplementary table 2\n",
    "# saved in /input_dir/corona_analysis/tracks/Ellinghaus_covid_gwas_hg38.bed\n"
   ]
  },
  {
   "cell_type": "code",
   "execution_count": null,
   "metadata": {},
   "outputs": [],
   "source": [
    "%%bash\n",
    "\n",
    "CrossMap.py bed /input_dir/corona_analysis/annotations/hg38ToHg19.over.chain.gz /input_dir/corona_analysis/tracks/Ellinghaus_covid_gwas_hg38.bed \\\n",
    "    Ellinghaus_covid_gwas_hg19.bed\n",
    "\n"
   ]
  },
  {
   "cell_type": "code",
   "execution_count": null,
   "metadata": {},
   "outputs": [],
   "source": [
    "#Flip output to hg19\n",
    "liftover_bed(from_genome=\"hg38\",\n",
    "            to_genome=\"hg19\",\n",
    "            in_bed=\"/input_dir/corona_analysis/tracks/Ellinghaus_covid_gwas_hg38.bed\",\n",
    "            out_bed=\"/input_dir/corona_analysis/tracks/Ellinghaus_covid_gwas_hg19.bed\")\n"
   ]
  },
  {
   "cell_type": "code",
   "execution_count": null,
   "metadata": {},
   "outputs": [],
   "source": [
    "%%bash\n",
    "\n",
    "#Get GWAS from https://www.covid19hg.org ANA5 susceptibility \n",
    "wget -nc --quiet -O /input_dir/corona_analysis/gwas/covid19hg/COVID19_HGI_ANA5_20200513.txt.gz --no-check-certificate \\\n",
    "    https://storage.googleapis.com/covid19-hg-public/20200508/results/COVID19_HGI_ANA5_20200513.txt.gz\n",
    "    \n",
    "gunzip -f /input_dir/corona_analysis/gwas/covid19hg/COVID19_HGI_ANA5_20200513.txt.gz\n"
   ]
  },
  {
   "cell_type": "code",
   "execution_count": null,
   "metadata": {},
   "outputs": [],
   "source": [
    "\n",
    "#Generate filtered, sorted bed file of variants above threshold\n",
    "thresh = 1e-6\n",
    "input_bed = \"/input_dir/corona_analysis/gwas/covid19hg/COVID19_HGI_ANA5_20200513.txt\"\n",
    "out_bed = \"/input_dir/corona_analysis/tracks/covid_hg19_1e6_susceptibility.bed\"\n",
    "filter_gwas_2_bed(input_bed=input_bed, \n",
    "                  out_bed=out_bed, \n",
    "                  col_ix=[0,1,4,18], \n",
    "                  header=True, \n",
    "                  thresh=thresh, \n",
    "                  delim='\\t')\n"
   ]
  },
  {
   "cell_type": "code",
   "execution_count": null,
   "metadata": {},
   "outputs": [],
   "source": [
    "#Flip output to hg19\n",
    "liftover_bed(from_genome=\"hg38\",\n",
    "            to_genome=\"hg19\",\n",
    "            in_bed=\"/input_dir/corona_analysis/tracks/covid_hg19_1e6_susceptibility.bed\",\n",
    "            out_bed=\"/input_dir/corona_analysis/tracks/covid_hg38_1e6_susceptibility.bed\")\n"
   ]
  },
  {
   "cell_type": "code",
   "execution_count": null,
   "metadata": {},
   "outputs": [],
   "source": [
    "%%bash\n",
    "\n",
    "#Generate target regions by merging thresholded p-values - 10/19\n",
    "#hg19\n",
    "bedops --range 50000 -m \"/input_dir/corona_analysis/tracks/covid_hg19_1e6_susceptibility.bed\" \\\n",
    "    | sort-bed - > \"/input_dir/corona_analysis/tracks/covid_hg19_1e6_susceptibility_50kbMerged.bed\"\n"
   ]
  },
  {
   "cell_type": "code",
   "execution_count": null,
   "metadata": {},
   "outputs": [],
   "source": [
    "%%bash\n",
    "\n",
    "#Generate target regions by merging thresholded p-values - 10/19\n",
    "#hg38\n",
    "bedops --range 50000 -m \"/input_dir/corona_analysis/tracks/covid_hg38_1e6_susceptibility.bed\" \\\n",
    "    | sort-bed - > \"/input_dir/corona_analysis/tracks/covid_hg38_1e6_susceptibility_50kbMerged.bed\"\n"
   ]
  },
  {
   "cell_type": "code",
   "execution_count": null,
   "metadata": {},
   "outputs": [],
   "source": [
    "%%bash\n",
    "\n",
    "#Pad wide for wide look on loci\n",
    "\n",
    "#hg38\n",
    "bedops --range 500000 --everything /input_dir/corona_analysis/tracks/covid_hg38_1e6_susceptibility_50kbMerged.bed \\\n",
    "    | sort-bed - > /input_dir/corona_analysis/tracks/covid_hg38_1e6_susceptibility_500kbMerged.bed\n",
    "\n"
   ]
  },
  {
   "cell_type": "code",
   "execution_count": null,
   "metadata": {},
   "outputs": [],
   "source": [
    "%%bash\n",
    "\n",
    "#Get GWAS from https://www.covid19hg.org ANA2 hospitalization \n",
    "wget -nc --quiet -O /input_dir/corona_analysis/gwas/covid19hg/COVID19_HGI_ANA2_20200513.txt.gz --no-check-certificate \\\n",
    "    https://storage.googleapis.com/covid19-hg-public/20200508/results/COVID19_HGI_ANA2_20200513.txt.gz\n",
    "    \n",
    "gunzip -f /input_dir/corona_analysis/gwas/covid19hg/COVID19_HGI_ANA2_20200513.txt.gz\n"
   ]
  },
  {
   "cell_type": "code",
   "execution_count": null,
   "metadata": {},
   "outputs": [],
   "source": [
    "\n",
    "#Generate filtered, sorted bed file of variants above threshold\n",
    "thresh = 1e-6\n",
    "input_bed = \"/input_dir/corona_analysis/gwas/covid19hg/COVID19_HGI_ANA2_20200513.txt\"\n",
    "out_bed = \"/input_dir/corona_analysis/tracks/covid_hg19_1e6_hospitalization.bed\"\n",
    "filter_gwas_2_bed(input_bed=input_bed, \n",
    "                  out_bed=out_bed, \n",
    "                  col_ix=[0,1,4,13], \n",
    "                  header=True, \n",
    "                  thresh=thresh, \n",
    "                  delim='\\t')\n"
   ]
  },
  {
   "cell_type": "code",
   "execution_count": null,
   "metadata": {},
   "outputs": [],
   "source": [
    "#Flip output to hg19\n",
    "liftover_bed(from_genome=\"hg38\",\n",
    "            to_genome=\"hg19\",\n",
    "            in_bed=\"/input_dir/corona_analysis/tracks/covid_hg19_1e6_hospitalization.bed\",\n",
    "            out_bed=\"/input_dir/corona_analysis/tracks/covid_hg38_1e6_hospitalization.bed\")\n"
   ]
  },
  {
   "cell_type": "code",
   "execution_count": null,
   "metadata": {},
   "outputs": [],
   "source": [
    "%%bash\n",
    "\n",
    "#Generate target regions by merging thresholded p-values - 10/19\n",
    "#hg19\n",
    "bedops --range 50000 -m \"/input_dir/corona_analysis/tracks/covid_hg19_1e6_hospitalization.bed\" \\\n",
    "    | sort-bed - > \"/input_dir/corona_analysis/tracks/covid_hg19_1e6_hospitalization_50kbMerged.bed\"\n"
   ]
  },
  {
   "cell_type": "code",
   "execution_count": null,
   "metadata": {},
   "outputs": [],
   "source": [
    "%%bash\n",
    "\n",
    "#Generate target regions by merging thresholded p-values - 10/19\n",
    "#hg38\n",
    "bedops --range 50000 -m \"/input_dir/corona_analysis/tracks/covid_hg38_1e6_hospitalization.bed\" \\\n",
    "    | sort-bed - > \"/input_dir/corona_analysis/tracks/covid_hg38_1e6_hospitalization_50kbMerged.bed\"\n"
   ]
  }
 ],
 "metadata": {
  "kernelspec": {
   "display_name": "Python 3",
   "language": "python",
   "name": "python3"
  },
  "language_info": {
   "codemirror_mode": {
    "name": "ipython",
    "version": 3
   },
   "file_extension": ".py",
   "mimetype": "text/x-python",
   "name": "python",
   "nbconvert_exporter": "python",
   "pygments_lexer": "ipython3",
   "version": "3.7.6"
  }
 },
 "nbformat": 4,
 "nbformat_minor": 4
}

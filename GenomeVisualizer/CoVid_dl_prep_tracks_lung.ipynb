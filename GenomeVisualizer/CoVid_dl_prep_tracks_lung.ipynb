{
 "cells": [
  {
   "cell_type": "markdown",
   "metadata": {},
   "source": [
    "# Code to get tracks set up for CoVid-relevant regulatory architecture\n",
    "# Lung (epithelial-like) regulatory architecture"
   ]
  },
  {
   "cell_type": "markdown",
   "metadata": {},
   "source": [
    "# Minimal tracks to prepare \n",
    "Track : format - source\n",
    "\n",
    "    * CTCF : bigwig - Imputed CD8 T-cell ENCODE \n",
    "    * H3K27Ac : bigwig - ENCODE NHLF\n",
    "    * H3k4Me3 : bigwig - ENCODE SAEC\n",
    "    * H3k9Me3 : bigwig - ENCODE NHLF\n",
    "    * DNAse-seq : bigwig - ENCODE SAEC\n",
    "    * Methylation : bigwig - None\n",
    "    * Loops : links - hESC\n",
    "    * Hi-C : cool - IMR90 GItar\n",
    "    * Genes : genes_bed -  Gencode\n",
    "    * Repeats : bed - L1Base2\n",
    "    * Chromatin state : bed - ENCODE/Segway\n",
    "    * eQTL list : arcs - none\n",
    "    * GWAS : bed - pvals and bigwig Ellinghaus and Covid19Hg\n",
    "    * RNA-Seq : bigwig and txt - HBEC, BALF, BALF-Covid\n",
    "    "
   ]
  },
  {
   "cell_type": "code",
   "execution_count": null,
   "metadata": {},
   "outputs": [],
   "source": [
    "import pyensembl, os, sys, re, numpy as np\n",
    "from helper_funcs import *\n"
   ]
  },
  {
   "cell_type": "markdown",
   "metadata": {},
   "source": [
    "### Transcription factor and histones"
   ]
  },
  {
   "cell_type": "code",
   "execution_count": null,
   "metadata": {},
   "outputs": [],
   "source": [
    "%%bash\n",
    "#Get Histone marks:\n",
    "\n",
    "# Get bigwig H3k4me3 fold change over control \n",
    "wget -nc -O /input_dir/corona_analysis/tracks/ENCFF782BOR_H3k4Me3_SAEC.bw --quiet \\\n",
    "    \"https://encode-public.s3.amazonaws.com/2016/08/23/89ae3a85-af02-49bd-b378-e565595106b4/ENCFF782BOR.bigWig\"\n",
    "# Narrowpeaks\n",
    "wget -nc -O /input_dir/corona_analysis/tracks/ENCFF916HZY_H3k4Me3_SAEC_hg38.bed.gz --quiet \\\n",
    "    \"https://encode-public.s3.amazonaws.com/2020/08/14/45ae9a4a-78ce-4407-a9a2-b566955f17cf/ENCFF916HZY.bed.gz\"\n",
    "gunzip /input_dir/corona_analysis/tracks/ENCFF916HZY_H3k4Me3_SAEC_hg38.bed.gz\n",
    "\n",
    "# Get bigwig H3K27Ac fold change over control\n",
    "wget -nc -O /input_dir/corona_analysis/tracks/ENCFF637KNN_H3k27Ac_NHLF.bw --quiet \\\n",
    "    \"https://encode-public.s3.amazonaws.com/2017/02/07/b8c9384f-af28-48bd-9474-2293237bba68/ENCFF637KNN.bigWig\"\n",
    "# Narrowpeaks\n",
    "wget -nc -O /input_dir/corona_analysis/tracks/ENCFF731CHG_H3k27Ac_NHLF_hg38.bed.gz --quiet \\\n",
    "    \"https://encode-public.s3.amazonaws.com/2017/02/07/95c81178-c7fc-4129-a0c8-05ecf4957ad7/ENCFF731CHG.bed.gz\"    \n",
    "gunzip /input_dir/corona_analysis/tracks/ENCFF731CHG_H3k27Ac_NHLF_hg38.bed.gz\n",
    "\n",
    "# Get bigwig H3K9Me3 fold change over control\n",
    "wget -nc -O /input_dir/corona_analysis/tracks/ENCFF143LCY_H3k9Me3_NHLF.bw --quiet \\\n",
    "    \"https://encode-public.s3.amazonaws.com/2016/11/28/77fa3756-baeb-4a1b-967b-d2d02836db92/ENCFF143LCY.bigWig\"\n",
    "# Narrowpeaks\n",
    "wget -nc -O /input_dir/corona_analysis/tracks/ENCFF959LWN_H3k9Me3_NHLF_hg38.bed.gz --quiet \\\n",
    "    \"https://encode-public.s3.amazonaws.com/2016/11/28/432ec1c3-87ff-403c-9fa8-07fe166cb5c3/ENCFF959LWN.bed.gz\"\n",
    "gunzip /input_dir/corona_analysis/tracks/ENCFF959LWN_H3k9Me3_NHLF_hg38.bed.gz\n"
   ]
  },
  {
   "cell_type": "code",
   "execution_count": null,
   "metadata": {},
   "outputs": [],
   "source": [
    "%%bash\n",
    "#Get Bigwigs:\n",
    "\n",
    "# Get CTCF chip-seq fold change over control\n",
    "wget -nc -O /input_dir/corona_analysis/tracks/ENCFF117BRM_CTCF_NHLF.bw --quiet \\\n",
    "    \"https://encode-public.s3.amazonaws.com/2016/12/16/6f8d8132-8da6-467e-a4e3-5f720ae2370c/ENCFF117BRM.bigWig\"\n",
    "\n",
    "# Get called CTCF peaks\n",
    "wget -nc -O /input_dir/corona_analysis/tracks/ENCFF777ODE_CTCF_NHLF.bed.gz --quiet \\\n",
    "    \"https://encode-public.s3.amazonaws.com/2016/12/16/b9ad65ca-eb0d-4c6e-8d38-64346569f026/ENCFF777ODE.bed.gz\"\n",
    "gunzip /input_dir/corona_analysis/tracks/ENCFF777ODE_CTCF_NHLF.bed.gz\n",
    "    "
   ]
  },
  {
   "cell_type": "markdown",
   "metadata": {},
   "source": [
    "### ATRX\n",
    "\n",
    "Get ATRX binding from [ATRX binds to atypical chromatin domains at the 3′ exons of zinc finger genes to preserve H3K9me3 enrichment](https://www.ncbi.nlm.nih.gov/pmc/articles/PMC4939920/)\n",
    "\n",
    "Got chip-seq against ATRX from GSE70920\n"
   ]
  },
  {
   "cell_type": "code",
   "execution_count": null,
   "metadata": {},
   "outputs": [],
   "source": [
    "%%bash\n",
    "cd /input_dir/corona_analysis/tracks\n",
    "wget ftp://ftp.ncbi.nlm.nih.gov/geo/series/GSE70nnn/GSE70920/suppl/GSE70920_RAW.tar\n",
    "tar -xvf  GSE70920_RAW.tar \n",
    "\n",
    "#Visualize relevant bigwigs\n",
    "#GSM1821904_hg19-K562-ATRX_SC-enrichment_over_input.bigWig\n",
    "#GSM1821905_hg19-K562-ATRX_Abcam-enrichment_over_input.bigWig\n"
   ]
  },
  {
   "cell_type": "code",
   "execution_count": null,
   "metadata": {},
   "outputs": [],
   "source": [
    "%%bash\n",
    "\n",
    "#Flip bigwigs to hg38\n",
    "CrossMap.py bigwig /input_dir/corona_analysis/annotations/hg19ToHg38.over.chain.gz /input_dir/corona_analysis/tracks/GSM1821904_hg19-K562-ATRX_SC-enrichment_over_input.bigWig \\\n",
    "    /input_dir/corona_analysis/tracks/GSM1821904_hg38-K562-ATRX_SC-enrichment_over_input\n",
    "\n",
    "CrossMap.py bigwig /input_dir/corona_analysis/annotations/hg19ToHg38.over.chain.gz /input_dir/corona_analysis/tracks/GSM1821905_hg19-K562-ATRX_Abcam-enrichment_over_input.bigWig \\\n",
    "    /input_dir/corona_analysis/tracks/GSM1821905_hg38-K562-ATRX_Abcam-enrichment_over_input\n",
    "\n"
   ]
  },
  {
   "cell_type": "markdown",
   "metadata": {},
   "source": [
    "### G-Quadruplex\n",
    "\n",
    "\n",
    "Got from still pre pub paper [Promoter G-quadruplexes and transcription factors cooperate to shape the cell type-specific transcriptome](https://www.biorxiv.org/content/10.1101/2020.08.27.236778v1.full.pdf)\n",
    "\n",
    "Currently manually downloaded by using reviewer key from https://www.ncbi.nlm.nih.gov/geo/query/acc.cgi?acc=GSE145535\n",
    "\n",
    "Also [G-quadruplex structures mark human regulatory chromatin](https://www.nature.com/articles/ng.3662?proof=t)\n",
    "\n",
    "Got called bed peaks from ftp://ftp.ncbi.nlm.nih.gov/geo/series/GSE99nnn/GSE99205/suppl/GSE99205_common_HaCaT_G4_ChIP_peaks_RNase_treated.bed.gz\n"
   ]
  },
  {
   "cell_type": "code",
   "execution_count": null,
   "metadata": {},
   "outputs": [],
   "source": [
    "%%bash\n",
    "\n",
    "#Get called peaks from HaCAT lines\n",
    "\n",
    "cd /input_dir/corona_analysis/tracks\n",
    "wget ftp://ftp.ncbi.nlm.nih.gov/geo/series/GSE99nnn/GSE99205/suppl/GSE99205_common_HaCaT_G4_ChIP_peaks_RNase_treated.bed.gz\n",
    "gunzip GSE99205_common_HaCaT_G4_ChIP_peaks_RNase_treated.bed.gz\n",
    "sed 's/\\s/\\t/g' GSE99205_common_HaCaT_G4_ChIP_peaks_RNase_treated.bed | sort-bed - > t.bed\n",
    "mv t.bed GSE99205_common_HaCaT_G4_ChIP_peaks_RNase_treated_hg19.bed\n",
    "\n",
    "CrossMap.py bed /input_dir/corona_analysis/annotations/hg19ToHg38.over.chain.gz /input_dir/corona_analysis/tracks/GSE99205_common_HaCaT_G4_ChIP_peaks_RNase_treated_hg19.bed \\\n",
    "    /input_dir/corona_analysis/tracks/GSE99205_common_HaCaT_G4_ChIP_peaks_RNase_treated_hg38.bed\n",
    "\n",
    "sort-bed GSE99205_common_HaCaT_G4_ChIP_peaks_RNase_treated_hg38.bed > t.bed\n",
    "mv t.bed GSE99205_common_HaCaT_G4_ChIP_peaks_RNase_treated_hg38.bed\n"
   ]
  },
  {
   "cell_type": "code",
   "execution_count": null,
   "metadata": {},
   "outputs": [],
   "source": [
    "%%bash\n",
    "\n",
    "cd /input_dir/corona_analysis/tracks\n",
    "wget ftp://ftp.ncbi.nlm.nih.gov/geo/series/GSE99nnn/GSE99205/suppl/GSE70920_RAW.tar\n",
    "tar -xvf  GSE70920_RAW.tar \n"
   ]
  },
  {
   "cell_type": "code",
   "execution_count": null,
   "metadata": {},
   "outputs": [],
   "source": [
    "#Flip to hg19\n",
    "CrossMap.py bigwig /input_dir/annotations/hg38ToHg19.over.chain.gz /input_dir/corona_analysis/tracks/GSE145535_RAW/GSM4320548_ChIPseq_IP_BG4_rep2_93T449_m1.ucsc.bigWig \\\n",
    "    /input_dir/corona_analysis/tracks/GSE145535_RAW/GSM4320548_ChIPseq_IP_BG4_rep2_93T449_m1\n"
   ]
  },
  {
   "cell_type": "markdown",
   "metadata": {},
   "source": [
    "### Chromatin accessibility"
   ]
  },
  {
   "cell_type": "code",
   "execution_count": null,
   "metadata": {},
   "outputs": [],
   "source": [
    "%%bash\n",
    "\n",
    "# Get bigwig DNAse normalized read count \n",
    "wget -nc -O /input_dir/corona_analysis/tracks/ENCFF827VFY_DNAse_SAEC.bw --quiet \\\n",
    "\"https://encode-public.s3.amazonaws.com/2017/08/24/65b36dd7-fa4e-47ba-91a8-536ebcff4d93/ENCFF827VFY.bigWig\"\n"
   ]
  },
  {
   "cell_type": "code",
   "execution_count": null,
   "metadata": {},
   "outputs": [],
   "source": [
    "%%bash\n",
    "\n",
    "#Get bigwig scATAC-seq collapsed by tissue from \"A human cell atlas of fetal chromatin accessibility\" all in hg19\n",
    "wget -nc -O /input_dir/corona_analysis/tracks/lung_bronchiolar_and_alveolar_epithelial_cells_hg19.bw --quiet \\\n",
    "\"https://atlas.fredhutch.org/data/bbi/descartes/human_atac/bigwig/lung_bronchiolar_and_alveolar_epithelial_cells.bw\"\n",
    "wget -nc -O /input_dir/corona_analysis/tracks/lung_vascular_endothelial_cells_hg19.bw --quiet \\\n",
    "\"https://atlas.fredhutch.org/data/bbi/descartes/human_atac/bigwig/lung_vascular_endothelial_cells.bw\"\n"
   ]
  },
  {
   "cell_type": "code",
   "execution_count": null,
   "metadata": {},
   "outputs": [],
   "source": [
    "%%bash\n",
    "\n",
    "#Flip scATAC-seq bw to hg38\n",
    "#Lung / alveolar epithelial\n",
    "CrossMap.py bigwig /input_dir/annotations/hg19ToHg38.over.chain.gz /input_dir/corona_analysis/tracks/lung_bronchiolar_and_alveolar_epithelial_cells_hg19.bw \\\n",
    "    /input_dir/corona_analysis/tracks/lung_bronchiolar_and_alveolar_epithelial_cells_hg38\n",
    "#Lung vascular endothelial\n",
    "CrossMap.py bigwig /input_dir/annotations/hg19ToHg38.over.chain.gz /input_dir/corona_analysis/tracks/lung_vascular_endothelial_cells_hg19.bw \\\n",
    "    /input_dir/corona_analysis/tracks/lung_vascular_endothelial_cells_hg38\n"
   ]
  },
  {
   "cell_type": "code",
   "execution_count": null,
   "metadata": {},
   "outputs": [],
   "source": [
    "%%bash\n",
    "\n",
    "# Get bed narrowpeak DNAse \n",
    "wget -nc -O /input_dir/corona_analysis/tracks/ENCFF827VFY_DNAse_SAEC.bed.gz --quiet \\\n",
    "\"https://encode-public.s3.amazonaws.com/2018/05/14/0b8ae8d1-bac1-41b2-b8fd-7795544fcc19/ENCFF546QUZ.bed.gz\"\n",
    "gunzip /input_dir/corona_analysis/tracks/ENCFF827VFY_DNAse_SAEC.bed.gz\n"
   ]
  },
  {
   "cell_type": "markdown",
   "metadata": {},
   "source": [
    "### Called TADs\n",
    "\n",
    "Get TAD calls from IMR90 in ENCODE ENCSR852KQC\n"
   ]
  },
  {
   "cell_type": "code",
   "execution_count": null,
   "metadata": {},
   "outputs": [],
   "source": [
    "%%bash\n",
    "\n",
    "# Get bed narrowpeak DNAse \n",
    "wget -nc -O /input_dir/corona_analysis/tracks/ENCFF307RGV_IMR90_TAD.bedpe.gz --quiet \\\n",
    "\"https://encode-public.s3.amazonaws.com/2019/02/15/61c15e87-5f91-4eef-adeb-0fc6cc1303e1/ENCFF307RGV.bedpe.gz\"\n",
    "gunzip /input_dir/corona_analysis/tracks/ENCFF307RGV_IMR90_TAD.bedpe.gz\n",
    "#cut -f 1-3 "
   ]
  },
  {
   "cell_type": "code",
   "execution_count": null,
   "metadata": {},
   "outputs": [],
   "source": [
    "%%bash\n",
    "\n",
    "cat /input_dir/corona_analysis/tracks/ENCFF307RGV_IMR90_TAD.bedpe | \\\n",
    "    tail -n +2 | cut -f 1-3 | sort-bed - > /input_dir/corona_analysis/tracks/ENCFF307RGV_IMR90_TAD_hg19.bed\n",
    "\n",
    "#Flip bed to hg38\n",
    "CrossMap.py bed /input_dir/corona_analysis/annotations/hg19ToHg38.over.chain.gz /input_dir/corona_analysis/tracks/ENCFF307RGV_IMR90_TAD_hg19.bed \\\n",
    "    /input_dir/corona_analysis/tracks/ENCFF307RGV_IMR90_TAD_hg38.bed\n",
    "\n",
    "sort-bed /input_dir/corona_analysis/tracks/ENCFF307RGV_IMR90_TAD_hg38.bed > t.bed; mv t.bed /input_dir/corona_analysis/tracks/ENCFF307RGV_IMR90_TAD_hg38.bed\n"
   ]
  },
  {
   "cell_type": "markdown",
   "metadata": {},
   "source": [
    "### Rough XYZ Hi-C recovered\n",
    "\n",
    "Using big database of 3D simulations: \n",
    "[GSDB](http://sysbio.rnet.missouri.edu/3dgenome/GSDB/browse.php)\n",
    "\n",
    "Paper: [here](https://bmcmolcellbiol.biomedcentral.com/articles/10.1186/s12860-020-00304-y)\n"
   ]
  },
  {
   "cell_type": "code",
   "execution_count": null,
   "metadata": {},
   "outputs": [],
   "source": [
    "%%bash\n",
    "\n",
    "#Get IMR90 and use MiniMDS run\n",
    "wget -nc -O /input_dir/corona_analysis/tracks/IMR90_GDSB_all.tar.gz --quiet \\\n",
    "    \"http://calla.rnet.missouri.edu/genome3d/GSDB/Database/BB8015WF/hIMR90_3DStructures.tar.gz\"\n",
    "cd /input_dir/corona_analysis/tracks/\n",
    "tar -xzf /input_dir/corona_analysis/tracks/IMR90_GDSB_all.tar.gz\n"
   ]
  },
  {
   "cell_type": "code",
   "execution_count": null,
   "metadata": {},
   "outputs": [],
   "source": [
    "import os\n",
    "out_xyz = \"/input_dir/corona_analysis/tracks/hIMR90_miniMDS_hg18.bed\"\n",
    "\n",
    "with open(out_xyz, \"w\") as out_mini:\n",
    "    for i in range(1,24):\n",
    "        with open(\"/input_dir/corona_analysis/tracks/Yaffe_Tanay/miniMDS/chr\"+str(i)+\"_miniMDS.tsv\",\"r\") as miniMDS_in:\n",
    "            cur_chr = miniMDS_in.readline().strip()\n",
    "            if (cur_chr == \"chr23\"):\n",
    "                cur_chr = \"chrX\"\n",
    "            cur_res = int(miniMDS_in.readline().strip())\n",
    "            cur_start = int(miniMDS_in.readline().strip())\n",
    "            for line in miniMDS_in.readlines():\n",
    "                #Toss lines that didn't work\n",
    "                if (\"nan\" not in line):\n",
    "                    cur_arr = line.strip().split(\"\\t\")\n",
    "                    cur_bin = int(cur_arr[0])\n",
    "                    cur_line = (cur_chr + \"\\t\" + \n",
    "                        str(1+cur_start+(cur_bin*cur_res)) + \"\\t\" +\n",
    "                        str(cur_start+((cur_bin+1)*cur_res)) + \"\\t\" +\n",
    "                        cur_arr[1] + \",\" +\n",
    "                        cur_arr[2] + \",\" +\n",
    "                        cur_arr[3] + \"\\n\")\n",
    "                    out_mini.write(cur_line)\n",
    "\n",
    "os.system(\"sort-bed \" + out_xyz + \" > t.bed; mv t.bed \" + out_xyz)\n"
   ]
  },
  {
   "cell_type": "code",
   "execution_count": null,
   "metadata": {},
   "outputs": [],
   "source": [
    "%%bash\n",
    "\n",
    "#Flip xyz to hg18\n",
    "\n",
    "CrossMap.py bed /input_dir/corona_analysis/annotations/hg18ToHg38.over.chain.gz /input_dir/corona_analysis/tracks/hIMR90_miniMDS_hg18.bed \\\n",
    "    /input_dir/corona_analysis/tracks/hIMR90_miniMDS_hg38.bed\n",
    "sort-bed /input_dir/corona_analysis/tracks/hIMR90_miniMDS_hg38.bed > t.bed\n",
    "mv t.bed /input_dir/corona_analysis/tracks/hIMR90_miniMDS_hg38.bed\n"
   ]
  },
  {
   "cell_type": "markdown",
   "metadata": {},
   "source": [
    "### Chromatin looping"
   ]
  },
  {
   "cell_type": "code",
   "execution_count": null,
   "metadata": {},
   "outputs": [],
   "source": [
    "#Got loops from previous hESC paper in:\n",
    "# /input_dir/corona_analysis/tracks/primed_.7_origami_intra.arcs"
   ]
  },
  {
   "cell_type": "code",
   "execution_count": null,
   "metadata": {},
   "outputs": [],
   "source": [
    "%%bash\n",
    "\n",
    "#Get Hi-C contact matrix for IMR90 from GenomeGitar\n",
    "wget -O /input_dir/corona_analysis/tracks/GSM1551599_contact_matrices.zip --quiet -nc \\\n",
    "    https://data.genomegitar.org/GSM1551599/GSM1551599_contact_matrices.zip\n",
    "unzip /input_dir/corona_analysis/tracks/GSM1551599_contact_matrices.zip\n",
    "\n",
    "#Get Hi-C data in h5 for IMR90 from GenomeGitar\n",
    "wget -O /input_dir/corona_analysis/tracks/GSM1551599_hdf5.zip --quiet -nc \\\n",
    "    https://data.genomegitar.org/GSM1551599/GSM1551599_hdf5.zip\n",
    "unzip /input_dir/corona_analysis/tracks/GSM1551599_hdf5.zip\n"
   ]
  },
  {
   "cell_type": "code",
   "execution_count": null,
   "metadata": {},
   "outputs": [],
   "source": [
    "%%bash\n",
    "\n",
    "#Get Hi-C data from 4DN -- IMR90 In-situ Hi-C same as above\n",
    "https://data.4dnucleome.org/experiment-set-replicates/4DNES1ZEJNRU/\n",
    "    https://data.4dnucleome.org/files-processed/4DNFIH7TH4MF/@@download/4DNFIH7TH4MF.hic\n",
    "    "
   ]
  },
  {
   "cell_type": "markdown",
   "metadata": {},
   "source": [
    "### Chromatin state"
   ]
  },
  {
   "cell_type": "code",
   "execution_count": null,
   "metadata": {},
   "outputs": [],
   "source": [
    "%%bash\n",
    "\n",
    "#Get fetal kidney chromatin state as predicted by Segway HMM model\n",
    "wget --quiet -nc https://noble.gs.washington.edu/proj/encyclopedia/interpreted/BC_LUNG_01-11002.bed.gz \n",
    "gunzip BC_LUNG_01-11002.bed.gz \n",
    "sort-bed BC_LUNG_01-11002.bed | bgzip > /input_dir/corona_analysis/tracks/Segway_bc_lung.bed.gz\n",
    "rm BC_LUNG_01-11002.bed\n",
    "tabix -p bed /input_dir/corona_analysis/tracks/Segway_bc_lung.bed.gz\n"
   ]
  },
  {
   "cell_type": "code",
   "execution_count": null,
   "metadata": {},
   "outputs": [],
   "source": [
    "%%bash\n",
    "#Get NHLF ChromHmm model\n",
    "wget --quiet -nc -O E128_15_coreMarks_dense.bed.gz \\\n",
    "    https://egg2.wustl.edu/roadmap/data/byFileType/chromhmmSegmentations/ChmmModels/coreMarks/jointModel/final/E128_15_coreMarks_dense.bed.gz\n",
    "gunzip E128_15_coreMarks_dense.bed.gz\n",
    "sort-bed E128_15_coreMarks_dense.bed | bgzip > /input_dir/corona_analysis/tracks/E128_15_coreMarks_dense.bed.gz\n",
    "rm E128_15_coreMarks_dense.bed\n",
    "tabix -p bed /input_dir/corona_analysis/tracks/E128_15_coreMarks_dense.bed.gz\n"
   ]
  },
  {
   "cell_type": "markdown",
   "metadata": {},
   "source": [
    "### RNA-seq"
   ]
  },
  {
   "cell_type": "code",
   "execution_count": null,
   "metadata": {},
   "outputs": [],
   "source": [
    "%%bash\n",
    "\n",
    "#Get Human Bronchial Epithelial Cells (HBEC)\n",
    "\n",
    "#Get bigwig of alignments\n",
    "# Minus strand\n",
    "wget -nc -O /input_dir/corona_analysis/tracks/ENCFF730XSB_HBEC_rnaseq_minus.bw --quiet \\\n",
    "    \"https://encode-public.s3.amazonaws.com/2016/02/24/e2d0908f-7b88-40d5-ae12-526837091e9d/ENCFF730XSB.bigWig\"\n",
    "\n",
    "# Plus strand\n",
    "wget -nc -O /input_dir/corona_analysis/tracks/NCFF322WTN_HBEC_rnaseq_plus.bw --quiet \\\n",
    "    \"https://encode-public.s3.amazonaws.com/2016/02/24/a7520a56-fc0a-450c-80c1-12d201fbd405/ENCFF322WTN.bigWig\"\n",
    "\n",
    "#Transcript quantifications\n",
    "wget -nc -O /input_dir/corona_analysis/tracks/ENCFF679UBR_HBEC_rnaseq_transcript.tsv --quiet \\\n",
    "    \"https://encode-public.s3.amazonaws.com/2016/02/24/d293a404-1fb5-4aee-a300-b95ba3ca682c/ENCFF679UBR.tsv\"\n",
    "    \n",
    "#Gene quantifications\n",
    "wget -nc -O /input_dir/corona_analysis/tracks/ENCFF207VFL_HBEC_rnaseq_gene.tsv --quiet \\\n",
    "    \"https://encode-public.s3.amazonaws.com/2016/02/24/720e0bc2-c342-4542-946d-6c5728049c32/ENCFF207VFL.tsv\"\n",
    "    "
   ]
  },
  {
   "cell_type": "code",
   "execution_count": null,
   "metadata": {},
   "outputs": [],
   "source": [
    "%%bash\n",
    "\n",
    "#Get NHLF Human lung fibroblast RNA-seq\n",
    "\n",
    "#Get bigwig of alignments\n",
    "# Minus strand\n",
    "wget -nc -O /input_dir/corona_analysis/tracks/ENCFF121EOD_NHLF_rnaseq_minus_hg38.bw --quiet \\\n",
    "    \"https://encode-public.s3.amazonaws.com/2016/02/29/378b154b-29e3-45d7-8eb5-74f2a335da9a/ENCFF121EOD.bigWig\"\n",
    "\n",
    "# Plus strand\n",
    "wget -nc -O /input_dir/corona_analysis/tracks/ENCFF996XPQ_NHLF_rnaseq_plus_hg38.bw --quiet \\\n",
    "    \"https://encode-public.s3.amazonaws.com/2016/02/29/f65439f6-4b3c-495b-91a5-a571b5937d33/ENCFF996XPQ.bigWig\"\n"
   ]
  },
  {
   "cell_type": "markdown",
   "metadata": {},
   "source": [
    "# Prepare wigs from BALF of control and COVID19 patients"
   ]
  },
  {
   "cell_type": "code",
   "execution_count": null,
   "metadata": {},
   "outputs": [],
   "source": [
    "%%bash\n",
    "\n",
    "#Get chromosomes sizes and filter to canonical ones\n",
    "wget -nc --quiet http://hgdownload.cse.ucsc.edu/goldenPath/hg38/bigZips/hg38.chrom.sizes\n",
    "grep -v \"_alt\" hg38.chrom.sizes | grep -v \"_hap\" | grep -v \"Un_\" | grep -v \"random\" | sed 's/^chr//g' | sed 's/^M/MT/g' > hg38.chrom.filtered.sizes \n",
    "rm hg38.chrom.sizes\n"
   ]
  },
  {
   "cell_type": "markdown",
   "metadata": {},
   "source": [
    "### BALF RNA-seq control"
   ]
  },
  {
   "cell_type": "code",
   "execution_count": null,
   "metadata": {},
   "outputs": [],
   "source": [
    "%%bash\n",
    "\n",
    "#BALF Control wigs to bigwig \n",
    "#s1\n",
    "#Plus strand\n",
    "wigToBigWig /input_dir/corona_analysis/alignment_out/BALF_control_quant/BALF_control_s1_Signal.UniqueMultiple.str1.out.wig \\\n",
    "    hg38.chrom.filtered.sizes \\\n",
    "    /input_dir/corona_analysis/tracks/BALF_control_s1_rnaseq_plus_hg38.bw\n",
    "#Minus strand\n",
    "wigToBigWig /input_dir/corona_analysis/alignment_out/BALF_control_quant/BALF_control_s1_Signal.UniqueMultiple.str2.out.wig \\\n",
    "    hg38.chrom.filtered.sizes \\\n",
    "    /input_dir/corona_analysis/tracks/BALF_control_s1_rnaseq_minus_hg38.bw\n",
    "\n",
    "#s2\n",
    "#Plus strand\n",
    "wigToBigWig /input_dir/corona_analysis/alignment_out/BALF_control_quant/BALF_control_s2_Signal.UniqueMultiple.str1.out.wig \\\n",
    "    hg38.chrom.filtered.sizes \\\n",
    "    /input_dir/corona_analysis/tracks/BALF_control_s2_rnaseq_plus_hg38.bw\n",
    "#Minus strand\n",
    "wigToBigWig /input_dir/corona_analysis/alignment_out/BALF_control_quant/BALF_control_s2_Signal.UniqueMultiple.str2.out.wig \\\n",
    "    hg38.chrom.filtered.sizes \\\n",
    "    /input_dir/corona_analysis/tracks/BALF_control_s2_rnaseq_minus_hg38.bw\n",
    "\n",
    "#s3\n",
    "#Plus strand\n",
    "wigToBigWig /input_dir/corona_analysis/alignment_out/BALF_control_quant/BALF_control_s3_Signal.UniqueMultiple.str1.out.wig \\\n",
    "    hg38.chrom.filtered.sizes \\\n",
    "    /input_dir/corona_analysis/tracks/BALF_control_s3_rnaseq_plus_hg38.bw\n",
    "#Minus strand\n",
    "wigToBigWig /input_dir/corona_analysis/alignment_out/BALF_control_quant/BALF_control_s3_Signal.UniqueMultiple.str2.out.wig \\\n",
    "    hg38.chrom.filtered.sizes \\\n",
    "    /input_dir/corona_analysis/tracks/BALF_control_s3_rnaseq_minus_hg38.bw\n"
   ]
  },
  {
   "cell_type": "code",
   "execution_count": null,
   "metadata": {},
   "outputs": [],
   "source": [
    "%%bash\n",
    "\n",
    "#BALF Infected wigs to bigwig \n",
    "#s1\n",
    "#Plus strand\n",
    "wigToBigWig /input_dir/corona_analysis/alignment_out/BALF_infected_quant/BALF_corona_s1_Signal.UniqueMultiple.str1.out.wig \\\n",
    "    hg38.chrom.filtered.sizes \\\n",
    "    /input_dir/corona_analysis/tracks/BALF_corona_s1_rnaseq_plus_hg38.bw\n",
    "#Minus strand\n",
    "wigToBigWig /input_dir/corona_analysis/alignment_out/BALF_infected_quant/BALF_corona_s1_Signal.UniqueMultiple.str2.out.wig \\\n",
    "    hg38.chrom.filtered.sizes \\\n",
    "    /input_dir/corona_analysis/tracks/BALF_corona_s1_rnaseq_minus_hg38.bw\n",
    "   \n",
    "#s2\n",
    "#Plus strand\n",
    "wigToBigWig /input_dir/corona_analysis/alignment_out/BALF_infected_quant/BALF_corona_s2_Signal.UniqueMultiple.str1.out.wig \\\n",
    "    hg38.chrom.filtered.sizes \\\n",
    "    /input_dir/corona_analysis/tracks/BALF_corona_s2_rnaseq_plus_hg38.bw\n",
    "#Minus strand\n",
    "wigToBigWig /input_dir/corona_analysis/alignment_out/BALF_infected_quant/BALF_corona_s2_Signal.UniqueMultiple.str2.out.wig \\\n",
    "    hg38.chrom.filtered.sizes \\\n",
    "    /input_dir/corona_analysis/tracks/BALF_corona_s2_rnaseq_minus_hg38.bw\n"
   ]
  },
  {
   "cell_type": "markdown",
   "metadata": {},
   "source": [
    "### Flip BALF bw to hg19"
   ]
  },
  {
   "cell_type": "code",
   "execution_count": null,
   "metadata": {},
   "outputs": [],
   "source": [
    "%%bash\n",
    "\n",
    "#Control BALF S1\n",
    "CrossMap.py bigwig /input_dir/corona_analysis/annotations/hg38ToHg19.over.chain.gz /input_dir/corona_analysis/tracks/BALF_control_s1_rnaseq_plus_hg38.bw \\\n",
    "    /input_dir/corona_analysis/tracks/BALF_control_s1_rnaseq_plus_hg19\n",
    "CrossMap.py bigwig /input_dir/corona_analysis/annotations/hg38ToHg19.over.chain.gz /input_dir/corona_analysis/tracks/BALF_control_s1_rnaseq_minus_hg38.bw \\\n",
    "    /input_dir/corona_analysis/tracks/BALF_control_s1_rnaseq_minus_hg19\n",
    "\n",
    "#Infected BALF S1\n",
    "CrossMap.py bigwig /input_dir/corona_analysis/annotations/hg38ToHg19.over.chain.gz /input_dir/corona_analysis/tracks/BALF_corona_s1_rnaseq_plus_hg38.bw \\\n",
    "    /input_dir/corona_analysis/tracks/BALF_corona_s1_rnaseq_plus_hg19\n",
    "CrossMap.py bigwig /input_dir/corona_analysis/annotations/hg38ToHg19.over.chain.gz /input_dir/corona_analysis/tracks/BALF_corona_s1_rnaseq_minus_hg38.bw \\\n",
    "    /input_dir/corona_analysis/tracks/BALF_corona_s1_rnaseq_minus_hg19\n"
   ]
  },
  {
   "cell_type": "markdown",
   "metadata": {},
   "source": [
    "### eQTLs"
   ]
  },
  {
   "cell_type": "markdown",
   "metadata": {},
   "source": [
    "### Mendelian diseases"
   ]
  },
  {
   "cell_type": "code",
   "execution_count": null,
   "metadata": {},
   "outputs": [],
   "source": [
    "%%bash\n",
    "\n",
    "#Get mendelian variation tied to disease using clinvar hg38\n",
    "wget --quiet -nc -O disease_names_clinvar.txt ftp://ftp.ncbi.nlm.nih.gov/pub/clinvar/disease_names\n"
   ]
  },
  {
   "cell_type": "code",
   "execution_count": null,
   "metadata": {},
   "outputs": [],
   "source": [
    "%%bash\n",
    "\n",
    "wget --quiet -nc -O clinvar_curr_hg38.vcf.gz ftp://ftp.ncbi.nlm.nih.gov/pub/clinvar/vcf_GRCh38/clinvar_20200615.vcf.gz\n",
    "gunzip clinvar_curr_hg38.vcf.gz\n"
   ]
  },
  {
   "cell_type": "code",
   "execution_count": null,
   "metadata": {},
   "outputs": [],
   "source": [
    "%%bash\n",
    "\n",
    "wget --quiet -nc -O clinvar_curr_hg19.vcf.gz ftp://ftp.ncbi.nlm.nih.gov/pub/clinvar/vcf_GRCh37/clinvar_20200615.vcf.gz\n",
    "gunzip clinvar_curr_hg19.vcf.gz\n"
   ]
  },
  {
   "cell_type": "code",
   "execution_count": null,
   "metadata": {},
   "outputs": [],
   "source": [
    "%%bash\n",
    "\n",
    "#get only lung related disease ConceptIDs\n",
    "grep -i \"lung\\|COPD\" disease_names_clinvar.txt | cut -f 3 | sort -u | sed '/^$/d' > lung_names.txt\n"
   ]
  },
  {
   "cell_type": "code",
   "execution_count": null,
   "metadata": {},
   "outputs": [],
   "source": [
    "import vcf\n",
    "\n",
    "disease_ids = set()\n",
    "\n",
    "with open('lung_names.txt', 'r') as diseases:\n",
    "    for line in diseases.readlines():\n",
    "        disease_ids.add(line.strip())\n",
    "\n",
    "vcf_reader = vcf.Reader(open('clinvar_curr_hg19.vcf', 'r',encoding='utf-8'))\n",
    "\n",
    "bed_lung_var_out = open(\"/input_dir/corona_analysis/annotations/clinvar_kidney_variants_hg19.bed\",\"w\")\n",
    "\n",
    "for record in vcf_reader:\n",
    "    record_keys = record.INFO.keys()\n",
    "    if (\"CLNDISDB\" in record_keys and record.INFO[\"CLNDISDB\"][0] is not None and \"MedGen\" in record.INFO[\"CLNDISDB\"][0]):\n",
    "        cur_id = (record.INFO[\"CLNDISDB\"][0]).split(\":\")[1]\n",
    "        cur_disease = (record.INFO[\"CLNDN\"][0])\n",
    "        cur_rs = \"NA\"\n",
    "        if \"RS\" in record.INFO.keys():\n",
    "            cur_rs = \"rs\"+record.INFO[\"RS\"][0]\n",
    "        \n",
    "        if cur_id in disease_ids:\n",
    "            out_record = (\"chr\" + str(record.CHROM) +\n",
    "                \"\\t\" + str(record.start) + \n",
    "                \"\\t\" + str(record.end) + \n",
    "                \"\\t\" + cur_disease + \n",
    "                \":\" + cur_rs + \n",
    "                \"\\t\" + \"0\" + \n",
    "                \"\\t\" + \".\" + \"\\n\")\n",
    "            bed_lung_var_out.write(out_record)\n",
    "            \n",
    "bed_lung_var_out.close()"
   ]
  },
  {
   "cell_type": "markdown",
   "metadata": {},
   "source": [
    "### Methylation"
   ]
  },
  {
   "cell_type": "markdown",
   "metadata": {},
   "source": [
    "## GWAS CoVid"
   ]
  },
  {
   "cell_type": "code",
   "execution_count": null,
   "metadata": {},
   "outputs": [],
   "source": [
    "%%bash\n",
    "\n",
    "#Get GWAS from https://www.medrxiv.org/content/10.1101/2020.05.31.20114991v1\n",
    "#Got regions from supplementary table 2\n",
    "# saved in /input_dir/corona_analysis/tracks/Ellinghaus_covid_gwas_hg38.bed\n"
   ]
  },
  {
   "cell_type": "code",
   "execution_count": null,
   "metadata": {},
   "outputs": [],
   "source": [
    "%%bash\n",
    "\n",
    "CrossMap.py bed /input_dir/corona_analysis/annotations/hg38ToHg19.over.chain.gz /input_dir/corona_analysis/tracks/Ellinghaus_covid_gwas_hg38.bed \\\n",
    "    Ellinghaus_covid_gwas_hg19.bed\n"
   ]
  },
  {
   "cell_type": "code",
   "execution_count": null,
   "metadata": {},
   "outputs": [],
   "source": [
    "#Flip output to hg19\n",
    "liftover_bed(from_genome=\"hg38\",\n",
    "            to_genome=\"hg19\",\n",
    "            in_bed=\"/input_dir/corona_analysis/tracks/Ellinghaus_covid_gwas_hg38.bed\",\n",
    "            out_bed=\"/input_dir/corona_analysis/tracks/Ellinghaus_covid_gwas_hg19.bed\")\n"
   ]
  },
  {
   "cell_type": "code",
   "execution_count": null,
   "metadata": {},
   "outputs": [],
   "source": [
    "%%bash\n",
    "\n",
    "#Get GWAS from https://www.covid19hg.org ANA5 susceptibility \n",
    "wget -nc --quiet -O /input_dir/corona_analysis/gwas/covid19hg/COVID19_HGI_ANA_C2_V2_20200701.txt.gz --no-check-certificate \\\n",
    "    https://storage.googleapis.com/covid19-hg-public/20200619/results/COVID19_HGI_ANA_C2_V2_20200701.txt.gz\n",
    "    \n",
    "gunzip -f /input_dir/corona_analysis/gwas/covid19hg/COVID19_HGI_ANA_C2_V2_20200701.txt.gz\n"
   ]
  },
  {
   "cell_type": "code",
   "execution_count": null,
   "metadata": {},
   "outputs": [],
   "source": [
    "\n",
    "#Generate filtered, sorted bed file of variants above threshold\n",
    "thresh = 1e-6\n",
    "input_bed = \"/input_dir/corona_analysis/gwas/covid19hg/COVID19_HGI_ANA_C2_V2_20200701.txt\"\n",
    "out_bed = \"/input_dir/corona_analysis/tracks/covid_hg38_1e6_susceptibility.bed\"\n",
    "filter_gwas_2_bed(input_bed=input_bed, \n",
    "                  out_bed=out_bed, \n",
    "                  col_ix=[0,1,4,62], \n",
    "                  header=True, \n",
    "                  thresh=thresh, \n",
    "                  delim='\\t')\n"
   ]
  },
  {
   "cell_type": "code",
   "execution_count": null,
   "metadata": {},
   "outputs": [],
   "source": [
    "#Flip output to hg19\n",
    "liftover_bed(from_genome=\"hg38\",\n",
    "            to_genome=\"hg19\",\n",
    "            in_bed=\"/input_dir/corona_analysis/tracks/covid_hg38_1e6_susceptibility.bed\",\n",
    "            out_bed=\"/input_dir/corona_analysis/tracks/covid_hg19_1e6_susceptibility.bed\")\n"
   ]
  },
  {
   "cell_type": "code",
   "execution_count": null,
   "metadata": {},
   "outputs": [],
   "source": [
    "%%bash\n",
    "\n",
    "#Generate target regions by merging thresholded p-values - 10/19\n",
    "#hg19\n",
    "bedops --range 50000 -m \"/input_dir/corona_analysis/tracks/covid_hg19_1e6_susceptibility.bed\" \\\n",
    "    | sort-bed - > \"/input_dir/corona_analysis/tracks/covid_hg19_1e6_susceptibility_50kbMerged.bed\"\n"
   ]
  },
  {
   "cell_type": "code",
   "execution_count": null,
   "metadata": {},
   "outputs": [],
   "source": [
    "%%bash\n",
    "\n",
    "#Generate target regions by merging thresholded p-values - 10/19\n",
    "#hg38\n",
    "bedops --range 50000 -m \"/input_dir/corona_analysis/tracks/covid_hg38_1e6_susceptibility.bed\" \\\n",
    "    | sort-bed - > \"/input_dir/corona_analysis/tracks/covid_hg38_1e6_susceptibility_50kbMerged.bed\"\n"
   ]
  },
  {
   "cell_type": "code",
   "execution_count": null,
   "metadata": {},
   "outputs": [],
   "source": [
    "%%bash\n",
    "\n",
    "#Pad wide for wide look on loci\n",
    "\n",
    "#hg38\n",
    "bedops --range 500000 --everything /input_dir/corona_analysis/tracks/covid_hg38_1e6_susceptibility_50kbMerged.bed \\\n",
    "    | sort-bed - > /input_dir/corona_analysis/tracks/covid_hg38_1e6_susceptibility_500kbMerged.bed\n",
    "\n"
   ]
  },
  {
   "cell_type": "code",
   "execution_count": null,
   "metadata": {},
   "outputs": [],
   "source": [
    "%%bash\n",
    "\n",
    "#Get GWAS from https://www.covid19hg.org ANA2 hospitalization \n",
    "wget -nc --quiet -O /input_dir/corona_analysis/gwas/covid19hg/COVID19_HGI_ANA2_20200513.txt.gz --no-check-certificate \\\n",
    "    https://storage.googleapis.com/covid19-hg-public/20200508/results/COVID19_HGI_ANA2_20200513.txt.gz\n",
    "    \n",
    "gunzip -f /input_dir/corona_analysis/gwas/covid19hg/COVID19_HGI_ANA2_20200513.txt.gz\n"
   ]
  },
  {
   "cell_type": "code",
   "execution_count": null,
   "metadata": {},
   "outputs": [],
   "source": [
    "\n",
    "#Generate filtered, sorted bed file of variants above threshold\n",
    "thresh = 1e-6\n",
    "input_bed = \"/input_dir/corona_analysis/gwas/covid19hg/COVID19_HGI_ANA2_20200513.txt\"\n",
    "out_bed = \"/input_dir/corona_analysis/tracks/covid_hg19_1e6_hospitalization.bed\"\n",
    "filter_gwas_2_bed(input_bed=input_bed, \n",
    "                  out_bed=out_bed, \n",
    "                  col_ix=[0,1,4,13], \n",
    "                  header=True, \n",
    "                  thresh=thresh, \n",
    "                  delim='\\t')\n"
   ]
  },
  {
   "cell_type": "code",
   "execution_count": null,
   "metadata": {},
   "outputs": [],
   "source": [
    "#Flip output to hg19\n",
    "liftover_bed(from_genome=\"hg38\",\n",
    "            to_genome=\"hg19\",\n",
    "            in_bed=\"/input_dir/corona_analysis/tracks/covid_hg19_1e6_hospitalization.bed\",\n",
    "            out_bed=\"/input_dir/corona_analysis/tracks/covid_hg38_1e6_hospitalization.bed\")\n"
   ]
  },
  {
   "cell_type": "code",
   "execution_count": null,
   "metadata": {},
   "outputs": [],
   "source": [
    "%%bash\n",
    "\n",
    "#Generate target regions by merging thresholded p-values - 10/19\n",
    "#hg19\n",
    "bedops --range 50000 -m \"/input_dir/corona_analysis/tracks/covid_hg19_1e6_hospitalization.bed\" \\\n",
    "    | sort-bed - > \"/input_dir/corona_analysis/tracks/covid_hg19_1e6_hospitalization_50kbMerged.bed\"\n"
   ]
  },
  {
   "cell_type": "code",
   "execution_count": null,
   "metadata": {},
   "outputs": [],
   "source": [
    "%%bash\n",
    "\n",
    "#Generate target regions by merging thresholded p-values - 10/19\n",
    "#hg38\n",
    "bedops --range 50000 -m \"/input_dir/corona_analysis/tracks/covid_hg38_1e6_hospitalization.bed\" \\\n",
    "    | sort-bed - > \"/input_dir/corona_analysis/tracks/covid_hg38_1e6_hospitalization_50kbMerged.bed\"\n"
   ]
  },
  {
   "cell_type": "markdown",
   "metadata": {},
   "source": [
    "# GWAS SCLC\n",
    "\n",
    "Pulled McKay GWAS from [Large-scale association analysis identifies new lung cancer susceptibility loci and heterogeneity in genetic susceptibility across histological subtypes](https://www.nature.com/articles/ng.3892)\n",
    "\n",
    "Pulled GWAS from [Genome-Wide Interrogation Identifies YAP1 Variants Associated with Survival of Small-Cell Lung Cancer Patients](https://cancerres.aacrjournals.org/content/70/23/9721)\n"
   ]
  },
  {
   "cell_type": "code",
   "execution_count": null,
   "metadata": {},
   "outputs": [],
   "source": [
    "%%bash\n",
    "\n",
    "#Flip to hg38 from hg19\n",
    "CrossMap.py bed /input_dir/corona_analysis/annotations/hg19ToHg38.over.chain.gz /input_dir/corona_analysis/tracks/mckay_2017_sclc_overall_hg19.bed \\\n",
    "    /input_dir/corona_analysis/tracks/mckay_2017_sclc_overall_hg38.bed\n",
    "\n",
    "CrossMap.py bed /input_dir/corona_analysis/annotations/hg19ToHg38.over.chain.gz /input_dir/corona_analysis/tracks/gwas_catalog_sclc_hg19.bed \\\n",
    "    /input_dir/corona_analysis/tracks/gwas_catalog_sclc_hg38.bed\n"
   ]
  },
  {
   "cell_type": "code",
   "execution_count": null,
   "metadata": {},
   "outputs": [],
   "source": [
    "%%bash\n",
    "\n",
    "#Make merged overlapped regions as targets\n",
    "bedops --range 50000 -m /input_dir/corona_analysis/tracks/mckay_2017_sclc_overall_hg38.bed \\\n",
    "    | sort-bed - | bedops --range 20000 --everything - > mckay_2017_sclc_overall_hg38_merge.bed\n",
    "\n",
    "bedops --range 50000 -m /input_dir/corona_analysis/tracks/gwas_catalog_sclc_hg38.bed \\\n",
    "    | sort-bed - | bedops --range 20000 --everything - > gwas_catalog_sclc_hg38_merge.bed\n",
    "\n",
    "bedops -e 1 mckay_2017_sclc_overall_hg38_merge.bed gwas_catalog_sclc_hg38_merge.bed \\\n",
    "    | sort-bed - > /input_dir/corona_analysis/tracks/mckay_merge_hg38_sclc.bed\n",
    "\n",
    "bedops -e 1 mckay_2017_sclc_overall_hg38_merge.bed gwas_catalog_sclc_hg38_merge.bed \\\n",
    "    | sort-bed - > /input_dir/corona_analysis/tracks/mckay_merge_hg38_sclc.bed\n",
    "\n",
    "bedops --everything --range 700000 mckay_merge_hg38_sclc.bed \\\n",
    "    | sort-bed - > /input_dir/corona_analysis/tracks/mckay_merge_wide_hg38_sclc.bed\n",
    "\n",
    "rm mckay_2017_sclc_overall_hg38_merge.bed gwas_catalog_sclc_hg38_merge.bed\n"
   ]
  },
  {
   "cell_type": "code",
   "execution_count": null,
   "metadata": {},
   "outputs": [],
   "source": []
  },
  {
   "cell_type": "markdown",
   "metadata": {},
   "source": [
    "## GWAS IPF\n",
    "\n",
    "\n",
    "Emailed author of [Genome-Wide Association Study of Susceptibility to Idiopathic Pulmonary Fibrosis](https://www.ncbi.nlm.nih.gov/pmc/articles/PMC7047454/)\n",
    "\n",
    "Got permission to download and use summary statistics in figs (no publish of data) (yay) (Louise Wain)\n"
   ]
  },
  {
   "cell_type": "code",
   "execution_count": null,
   "metadata": {},
   "outputs": [],
   "source": [
    "## downloaded sum stats and stored in: \n",
    "from helper_funcs import *"
   ]
  },
  {
   "cell_type": "code",
   "execution_count": null,
   "metadata": {},
   "outputs": [],
   "source": [
    "\n",
    "\n",
    "#Generate filtered, sorted bed file of variants above threshold\n",
    "thresh = 5e-8\n",
    "input_bed = \"/input_dir/corona_analysis/gwas/ipf/allen_et_al_2019_ipf_meta_gwas_summary_statistics_public_download.txt\"\n",
    "out_bed = \"/input_dir/corona_analysis/tracks/ipf_gwas_hg19_allen_5e-8.bed\"\n",
    "filter_gwas_2_bed(input_bed=input_bed, \n",
    "                  out_bed=out_bed, \n",
    "                  col_ix=[1,2,0,11], \n",
    "                  header=True, \n",
    "                  thresh=thresh, \n",
    "                  delim=' ')\n"
   ]
  },
  {
   "cell_type": "code",
   "execution_count": null,
   "metadata": {},
   "outputs": [],
   "source": [
    "#Generate filtered, sorted bed file of variants above threshold\n",
    "thresh = 5e-6\n",
    "input_bed = \"/input_dir/corona_analysis/gwas/ipf/allen_et_al_2019_ipf_meta_gwas_summary_statistics_public_download.txt\"\n",
    "out_bed = \"/input_dir/corona_analysis/tracks/ipf_gwas_hg19_allen_5e-6.bed\"\n",
    "filter_gwas_2_bed(input_bed=input_bed, \n",
    "                  out_bed=out_bed, \n",
    "                  col_ix=[1,2,0,11], \n",
    "                  header=True, \n",
    "                  thresh=thresh, \n",
    "                  delim=' ')\n"
   ]
  },
  {
   "cell_type": "code",
   "execution_count": null,
   "metadata": {},
   "outputs": [],
   "source": [
    "%%bash\n",
    "\n",
    "CrossMap.py bed /input_dir/corona_analysis/annotations/hg19ToHg38.over.chain.gz /input_dir/corona_analysis/tracks/ipf_gwas_hg19_allen_5e-8.bed \\\n",
    "    /input_dir/corona_analysis/tracks/ipf_gwas_hg38_allen_5e-8.bed\n"
   ]
  },
  {
   "cell_type": "markdown",
   "metadata": {},
   "source": [
    "# DTI plasmid catalog\n"
   ]
  },
  {
   "cell_type": "code",
   "execution_count": 2,
   "metadata": {},
   "outputs": [
    {
     "name": "stderr",
     "output_type": "stream",
     "text": [
      "@ 2020-12-09 17:51:33: Read the chain file:  /input_dir/corona_analysis/annotations/hg38ToHg19.over.chain.gz\n"
     ]
    }
   ],
   "source": [
    "%%bash\n",
    "\n",
    "#Took all plasmid sgRNA locations from excel spreadsheet and PAINFULLY converted to bed files\n",
    "cd /input_dir/corona_analysis/tracks/DTI_plasmids\n",
    "cat * | sort -u | sort-bed - > DTI_all_plasmids_hg38.bed\n",
    "CrossMap.py bed /input_dir/corona_analysis/annotations/hg38ToHg19.over.chain.gz /input_dir/corona_analysis/tracks/DTI_plasmids/DTI_all_plasmids_hg38.bed \\\n",
    "    /input_dir/corona_analysis/tracks/DTI_plasmids/DTI_all_plasmids_hg19.bed\n",
    "\n"
   ]
  },
  {
   "cell_type": "code",
   "execution_count": null,
   "metadata": {},
   "outputs": [],
   "source": []
  }
 ],
 "metadata": {
  "kernelspec": {
   "display_name": "Python 3",
   "language": "python",
   "name": "python3"
  },
  "language_info": {
   "codemirror_mode": {
    "name": "ipython",
    "version": 3
   },
   "file_extension": ".py",
   "mimetype": "text/x-python",
   "name": "python",
   "nbconvert_exporter": "python",
   "pygments_lexer": "ipython3",
   "version": "3.8.6"
  }
 },
 "nbformat": 4,
 "nbformat_minor": 4
}

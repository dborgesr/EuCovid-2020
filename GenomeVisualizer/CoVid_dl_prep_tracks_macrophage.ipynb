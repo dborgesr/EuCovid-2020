{
 "cells": [
  {
   "cell_type": "markdown",
   "metadata": {},
   "source": [
    "# Code to get tracks set up for CoVid-relevant regulatory architecture\n",
    "# Macrophage regulatory architecture"
   ]
  },
  {
   "cell_type": "markdown",
   "metadata": {},
   "source": [
    "# Minimal tracks to prepare \n",
    "Track : format - source\n",
    "\n",
    "    * CTCF : bigwig - Encode CD14+ monocyte \n",
    "    * H3K27Ac : bigwig - Blueprint Macrophage \n",
    "    * H3k4Me3 : bigwig - Blueprint Macrophage  \n",
    "    * H3k9Me3 : bigwig - Blueprint Macrophage\n",
    "    * ATAC-seq/DNAse-seq : bigwig - Blueprint Macrophage \n",
    "    * Methylation : bigwig - Blueprint Macrophage\n",
    "    * Loops : links - hESC\n",
    "    * Hi-C : cool - Mphage diff paper\n",
    "    * Genes : genes_bed -  Gencode\n",
    "    * Repeats : bed - L1Base2\n",
    "    * Chromatin state : bed - ENCODE/Segway\n",
    "    * eQTL list : arcs - none\n",
    "    * GWAS : bed - pvals and bigwig Ellinghaus and Covid19Hg\n",
    "    * RNA-Seq : bigwig and txt - Macrophage Blueprint, Macrophage Activated Blueprint\n",
    "    "
   ]
  },
  {
   "cell_type": "code",
   "execution_count": null,
   "metadata": {},
   "outputs": [],
   "source": [
    "import pyensembl, os, sys, re, numpy as np\n",
    "from helper_funcs import *\n"
   ]
  },
  {
   "cell_type": "markdown",
   "metadata": {},
   "source": [
    "### Transcription factor and histones"
   ]
  },
  {
   "cell_type": "code",
   "execution_count": 1,
   "metadata": {},
   "outputs": [],
   "source": [
    "%%bash\n",
    "#Get Histone marks:\n",
    "\n",
    "# Get bigwig H3k4me3 fold change over control \n",
    "wget -nc -O /input_dir/corona_analysis/tracks/S0022IH1_macrophage_h3k4me3_hg38.bw --quiet \\\n",
    "    \"http://ftp.ebi.ac.uk/pub/databases/blueprint/data/homo_sapiens/GRCh38/venous_blood/S0022I/macrophage/ChIP-Seq/NCMLS/S0022IH1.ERX300718.H3K4me3.bwa.GRCh38.20150528.bw\"\n",
    "\n",
    "# Get bigwig H3K27Ac fold change over control\n",
    "wget -nc -O /input_dir/corona_analysis/tracks/S0022IH1_macrophage_h3k27Ac_hg38.bw --quiet \\\n",
    "    \"http://ftp.ebi.ac.uk/pub/databases/blueprint/data/homo_sapiens/GRCh38/venous_blood/S0022I/macrophage/ChIP-Seq/NCMLS/S0022IH1.ERX300726.H3K27ac.bwa.GRCh38.20150528.bw\"    \n",
    "\n",
    "# Get bigwig H3K9Me3 fold change over control\n",
    "wget -nc -O /input_dir/corona_analysis/tracks/S0022IH1_macrophage_h3k9me3_hg38.bw --quiet \\\n",
    "    \"http://ftp.ebi.ac.uk/pub/databases/blueprint/data/homo_sapiens/GRCh38/venous_blood/S0022I/macrophage/ChIP-Seq/NCMLS/S0022IH1.ERX300730.H3K9me3.bwa.GRCh38.20150528.bw\"\n"
   ]
  },
  {
   "cell_type": "code",
   "execution_count": null,
   "metadata": {},
   "outputs": [],
   "source": [
    "%%bash\n",
    "\n",
    "#Use crossmap to flip hg38 bigwigs to hg19\n",
    "# pip3 install crossmap\n",
    "# get chain files\n",
    "wget -nc -O /input_dir/corona_analysis/annotations/hg38ToHg19.over.chain.gz \\\n",
    "    http://hgdownload.soe.ucsc.edu/goldenPath/hg38/liftOver/hg38ToHg19.over.chain.gz\n",
    "wget -nc -O /input_dir/corona_analysis/annotations/hg19ToHg38.over.chain.gz \\\n",
    "    http://hgdownload.soe.ucsc.edu/goldenPath/hg19/liftOver/hg19ToHg38.over.chain.gz\n",
    "\n",
    "CrossMap.py bigwig /input_dir/corona_analysis/annotations/hg38ToHg19.over.chain.gz /input_dir/corona_analysis/tracks/S0022IH1_macrophage_h3k4me3_hg38.bw \\\n",
    "    /input_dir/corona_analysis/tracks/S0022IH1_macrophage_h3k4me3_hg19\n",
    "\n",
    "CrossMap.py bigwig /input_dir/corona_analysis/annotations/hg38ToHg19.over.chain.gz /input_dir/corona_analysis/tracks/S0022IH1_macrophage_h3k27Ac_hg38.bw \\\n",
    "    /input_dir/corona_analysis/tracks/S0022IH1_macrophage_h3k27Ac_hg19\n",
    "\n",
    "CrossMap.py bigwig /input_dir/corona_analysis/annotations/hg38ToHg19.over.chain.gz /input_dir/corona_analysis/tracks/S0022IH1_macrophage_h3k9me3_hg38.bw \\\n",
    "    /input_dir/corona_analysis/tracks/S0022IH1_macrophage_h3k9me3_hg19\n"
   ]
  },
  {
   "cell_type": "code",
   "execution_count": null,
   "metadata": {},
   "outputs": [],
   "source": [
    "%%bash\n",
    "#Get Bigwigs:\n",
    "\n",
    "# Get CTCF chip-seq fold change over control\n",
    "#Might have to process from source https://www.ncbi.nlm.nih.gov/sra?term=SRX2655461\n",
    "\n",
    "#ENCODE CD14+ monocyte ctcf\n",
    "wget -nc --quiet -O /input_dir/corona_analysis/tracks/ENCFF114WQR_cd14_monocyte_hg19_CTCF.bw \\\n",
    "    https://encode-public.s3.amazonaws.com/2017/04/11/c61bd1f7-1379-4ae1-b2b6-605ae1be9b0a/ENCFF114WQR.bigWig\n",
    "wget -nc --quiet -O /input_dir/corona_analysis/tracks/ENCFF437LHG_cd14_monocyte_hg19_CTCF_peaks.bed.gz \\\n",
    "    https://encode-public.s3.amazonaws.com/2017/04/11/73258d7d-e741-4ed7-86a8-76679735c997/ENCFF437LHG.bed.gz\n",
    "\n",
    "    \n",
    "# Get called CTCF peaks\n",
    "#Raw edgeR output https://ftp.ncbi.nlm.nih.gov/geo/series/GSE96nnn/GSE96800/suppl/GSE96800_CTCF_peak_edgeR_raw.txt.gz\n",
    "    "
   ]
  },
  {
   "cell_type": "markdown",
   "metadata": {},
   "source": [
    "### Chromatin accessibility"
   ]
  },
  {
   "cell_type": "code",
   "execution_count": 2,
   "metadata": {},
   "outputs": [],
   "source": [
    "%%bash\n",
    "\n",
    "# Get bigwig average scATAC-seq of monocytes 2 \n",
    "wget -nc -O /input_dir/corona_analysis/tracks/Mono_2_scATAC_hg19.bw --quiet \\\n",
    "\"https://chang-public-data.s3-us-west-1.amazonaws.com/10X_scATAC/Heme/Cluster13.RIP_norm.bw\"\n"
   ]
  },
  {
   "cell_type": "code",
   "execution_count": null,
   "metadata": {},
   "outputs": [],
   "source": [
    "%%bash\n",
    "\n",
    "# Get bigwig DNAse normalized read count \n",
    "wget -nc -O /input_dir/corona_analysis/tracks/S0022I44_macrophage_DNAse_hg38.bw --quiet \\\n",
    "\"http://ftp.ebi.ac.uk/pub/databases/blueprint/data/homo_sapiens/GRCh38/venous_blood/S0022I/macrophage/DNase-Hypersensitivity/NCMLS/S0022I44.ERX616977.Dnase.bwa.GRCh38.20150529.bw\"\n"
   ]
  },
  {
   "cell_type": "code",
   "execution_count": null,
   "metadata": {},
   "outputs": [],
   "source": [
    "%%bash\n",
    "\n",
    "CrossMap.py bigwig /input_dir/corona_analysis/annotations/hg38ToHg19.over.chain.gz /input_dir/corona_analysis/tracks/S0022I44_macrophage_DNAse_hg38.bw \\\n",
    "    /input_dir/corona_analysis/tracks/S0022I44_macrophage_DNAse_hg19\n"
   ]
  },
  {
   "cell_type": "code",
   "execution_count": 30,
   "metadata": {},
   "outputs": [],
   "source": [
    "%%bash\n",
    "\n",
    "# Get bed narrowpeak DNAse \n",
    "wget -nc -O /input_dir/corona_analysis/tracks/S0022I44_macrophage_DNAse_hg38.bed.gz --quiet \\\n",
    "\"http://ftp.ebi.ac.uk/pub/databases/blueprint/data/homo_sapiens/GRCh38/venous_blood/S0022I/macrophage/DNase-Hypersensitivity/NCMLS/S0022I44.ERX616977.Dnase.GRCh38.hotspot.20150709.bed.gz\"\n",
    "gunzip /input_dir/corona_analysis/tracks/S0022I44_macrophage_DNAse_hg38.bed.gz\n"
   ]
  },
  {
   "cell_type": "code",
   "execution_count": null,
   "metadata": {},
   "outputs": [],
   "source": [
    "%%bash\n",
    "\n",
    "CrossMap.py bed /input_dir/corona_analysis/annotations/hg38ToHg19.over.chain.gz /input_dir/corona_analysis/tracks/S0022I44_macrophage_DNAse_hg38.bed  \\\n",
    "    /input_dir/corona_analysis/tracks/S0022I44_macrophage_DNAse_hg19.bed\n"
   ]
  },
  {
   "cell_type": "markdown",
   "metadata": {},
   "source": [
    "### Chromatin looping"
   ]
  },
  {
   "cell_type": "code",
   "execution_count": null,
   "metadata": {},
   "outputs": [],
   "source": [
    "#Got loops from previous hESC paper in:\n",
    "# /input_dir/corona_analysis/tracks/primed_.7_origami_intra.arcs\n",
    "#Get loops from Macrophage differentiation paper:\n",
    "https://www.cell.com/cms/10.1016/j.molcel.2017.08.006/attachment/0a5229f1-46bb-4aae-aa42-33651377e633/mmc3.zip\n",
    "    "
   ]
  },
  {
   "cell_type": "code",
   "execution_count": null,
   "metadata": {},
   "outputs": [],
   "source": [
    "%%bash\n",
    "\n",
    "#Found dope dataset from Static and Dynamic DNA Loops form AP-1-Bound Activation Hubs during Macrophage Development\n",
    "# https://www.cell.com/molecular-cell/pdfExtended/S1097-2765(17)30603-2\n",
    "# https://bcm.app.box.com/v/aidenlab/folder/47796980666\n",
    "\n",
    "#Flip from Hic to cool\n",
    "hicConvertFormat -m A_inter.hic --inputFormat hic --outputFormat cool -o Macrophage_HiC_hg19_50kb_50000.cool --resolutions 50000\n"
   ]
  },
  {
   "cell_type": "code",
   "execution_count": null,
   "metadata": {},
   "outputs": [],
   "source": [
    "hicConvertFormat -m A_inter.hic --inputFormat hic --outputFormat h5 -o Macrophage_HiC_hg19.h5 --resolutions 50000\n"
   ]
  },
  {
   "cell_type": "code",
   "execution_count": null,
   "metadata": {},
   "outputs": [],
   "source": [
    "#Get PCHiC from CD4+ T-Cells\n",
    "https://genomebiology.biomedcentral.com/articles/10.1186/s13059-017-1285-0#Sec27\n",
    "    "
   ]
  },
  {
   "cell_type": "markdown",
   "metadata": {},
   "source": [
    "### Chromatin state"
   ]
  },
  {
   "cell_type": "code",
   "execution_count": null,
   "metadata": {},
   "outputs": [],
   "source": [
    "%%bash\n",
    "\n",
    "#Get monocyte CD14+ chromatin state as predicted by Segway HMM model\n",
    "wget --quiet -nc https://noble.gs.washington.edu/proj/encyclopedia/interpreted/MONOCYTES-CD14+_RO01746.bed.gz\n",
    "gunzip MONOCYTES-CD14+_RO01746.bed.gz\n",
    "sort-bed MONOCYTES-CD14+_RO01746.bed | bgzip > /input_dir/corona_analysis/tracks/Segway_CD14_mono.bed.gz\n",
    "rm MONOCYTES-CD14+_RO01746.bed\n",
    "tabix -p bed /input_dir/corona_analysis/tracks/Segway_CD14_mono.bed.gz\n"
   ]
  },
  {
   "cell_type": "code",
   "execution_count": null,
   "metadata": {},
   "outputs": [],
   "source": [
    "#Add for E046 (NK) and E034 (T-Cell)"
   ]
  },
  {
   "cell_type": "code",
   "execution_count": 28,
   "metadata": {},
   "outputs": [],
   "source": [
    "%%bash\n",
    "#Get CD14+ monocyte ChromHmm model\n",
    "wget --quiet -nc -O E124_15_coreMarks_dense.bed.gz \\\n",
    "    https://egg2.wustl.edu/roadmap/data/byFileType/chromhmmSegmentations/ChmmModels/coreMarks/jointModel/final/E124_15_coreMarks_dense.bed.gz\n",
    "gunzip E124_15_coreMarks_dense.bed.gz\n",
    "sort-bed E124_15_coreMarks_dense.bed | bgzip > /input_dir/corona_analysis/tracks/E124_15_coreMarks_dense.bed.gz\n",
    "rm E124_15_coreMarks_dense.bed\n",
    "tabix -p bed /input_dir/corona_analysis/tracks/E124_15_coreMarks_dense.bed.gz\n"
   ]
  },
  {
   "cell_type": "markdown",
   "metadata": {},
   "source": [
    "### RNA-seq - non-activated"
   ]
  },
  {
   "cell_type": "code",
   "execution_count": null,
   "metadata": {},
   "outputs": [],
   "source": [
    "%%bash\n",
    "\n",
    "#Get Macrophage total RNA-seq\n",
    "\n",
    "#Get bigwig of alignments\n",
    "# Minus strand\n",
    "wget -nc -O /input_dir/corona_analysis/tracks/S0022I12_Mphage_rnaseq_minus.bw --quiet \\\n",
    "    \"http://ftp.ebi.ac.uk/pub/databases/blueprint/data/homo_sapiens/GRCh38/venous_blood/S0022I/macrophage/RNA-Seq/MPIMG/S0022I12.minusStrandMulti.star_grape2_crg.GRCh38.20150815.bw\"\n",
    "\n",
    "# Plus strand\n",
    "wget -nc -O /input_dir/corona_analysis/tracks/S0022I12_Mphage_rnaseq_plus.bw --quiet \\\n",
    "    \"http://ftp.ebi.ac.uk/pub/databases/blueprint/data/homo_sapiens/GRCh38/venous_blood/S0022I/macrophage/RNA-Seq/MPIMG/S0022I12.plusStrandMulti.star_grape2_crg.GRCh38.20150815.bw\"\n",
    "\n",
    "#Transcript quantifications\n",
    "wget -nc -O /input_dir/corona_analysis/tracks/S0022I12_Mphage_transcript.tsv --quiet \\\n",
    "    \"http://ftp.ebi.ac.uk/pub/databases/blueprint/data/homo_sapiens/GRCh38/venous_blood/S0022I/macrophage/RNA-Seq/MPIMG/S0022I12.transcript_quantification.rsem_grape2_crg.GRCh38.20150622.results\"\n",
    "    \n",
    "#Gene quantifications\n",
    "wget -nc -O /input_dir/corona_analysis/tracks/S0022I12_Mphage_gene.tsv --quiet \\\n",
    "    \"http://ftp.ebi.ac.uk/pub/databases/blueprint/data/homo_sapiens/GRCh38/venous_blood/S0022I/macrophage/RNA-Seq/MPIMG/S0022I12.gene_quantification.rsem_grape2_crg.GRCh38.20150622.results\"\n",
    "    "
   ]
  },
  {
   "cell_type": "code",
   "execution_count": 1,
   "metadata": {},
   "outputs": [
    {
     "name": "stderr",
     "output_type": "stream",
     "text": [
      "@ 2020-07-05 18:54:10: Read the chain file:  /input_dir/corona_analysis/annotations/hg38ToHg19.over.chain.gz\n",
      "@ 2020-07-05 18:54:11: Liftover bigwig file: /input_dir/corona_analysis/tracks/S0022I12_Mphage_rnaseq_minus.bw ==> /input_dir/corona_analysis/tracks/S0022I12_Mphage_rnaseq_minus_hg19.bgr\n",
      "@ 2020-07-05 19:00:51: Merging overlapped entries in bedGraph file ...\n",
      "@ 2020-07-05 19:00:51: Sorting bedGraph file:/input_dir/corona_analysis/tracks/S0022I12_Mphage_rnaseq_minus_hg19.bgr\n",
      "@ 2020-07-05 19:05:55: Writing header to \"/input_dir/corona_analysis/tracks/S0022I12_Mphage_rnaseq_minus_hg19.bw\" ...\n",
      "@ 2020-07-05 19:05:55: Writing entries to \"/input_dir/corona_analysis/tracks/S0022I12_Mphage_rnaseq_minus_hg19.bw\" ...\n",
      "@ 2020-07-05 19:08:21: Read the chain file:  /input_dir/corona_analysis/annotations/hg38ToHg19.over.chain.gz\n",
      "@ 2020-07-05 19:08:22: Liftover bigwig file: /input_dir/corona_analysis/tracks/S0022I12_Mphage_rnaseq_plus.bw ==> /input_dir/corona_analysis/tracks/.bgr\n",
      "@ 2020-07-05 19:15:26: Merging overlapped entries in bedGraph file ...\n",
      "@ 2020-07-05 19:15:26: Sorting bedGraph file:/input_dir/corona_analysis/tracks/.bgr\n",
      "@ 2020-07-05 19:20:44: Writing header to \"/input_dir/corona_analysis/tracks/.bw\" ...\n",
      "@ 2020-07-05 19:20:44: Writing entries to \"/input_dir/corona_analysis/tracks/.bw\" ...\n"
     ]
    }
   ],
   "source": [
    "%%bash\n",
    "\n",
    "CrossMap.py bigwig /input_dir/corona_analysis/annotations/hg38ToHg19.over.chain.gz /input_dir/corona_analysis/tracks/S0022I12_Mphage_rnaseq_minus.bw \\\n",
    "    /input_dir/corona_analysis/tracks/S0022I12_Mphage_rnaseq_minus_hg19\n",
    "\n",
    "CrossMap.py bigwig /input_dir/corona_analysis/annotations/hg38ToHg19.over.chain.gz /input_dir/corona_analysis/tracks/S0022I12_Mphage_rnaseq_plus.bw \\\n",
    "    /input_dir/corona_analysis/tracks/\n"
   ]
  },
  {
   "cell_type": "markdown",
   "metadata": {},
   "source": [
    "### Get activated M-phage RNA-seq"
   ]
  },
  {
   "cell_type": "code",
   "execution_count": null,
   "metadata": {},
   "outputs": [],
   "source": [
    "%%bash\n",
    "\n",
    "#Get activated Macrophage total RNA-seq\n",
    "\n",
    "#Get bigwig of alignments\n",
    "# Minus strand\n",
    "wget -nc -O /input_dir/corona_analysis/tracks/S0022I12_Mphage_activ_rnaseq_minus.bw --quiet \\\n",
    "    \"http://ftp.ebi.ac.uk/pub/databases/blueprint/data/homo_sapiens/GRCh38/venous_blood/S001MJ/inflammatory_macrophage/RNA-Seq/MPIMG/S001MJ12.minusStrandMulti.star_grape2_crg.GRCh38.20150815.bw\"\n",
    "\n",
    "# Plus strand\n",
    "wget -nc -O /input_dir/corona_analysis/tracks/S0022I12_Mphage_activ_rnaseq_plus.bw --quiet \\\n",
    "    \"http://ftp.ebi.ac.uk/pub/databases/blueprint/data/homo_sapiens/GRCh38/venous_blood/S001MJ/inflammatory_macrophage/RNA-Seq/MPIMG/S001MJ12.plusStrandMulti.star_grape2_crg.GRCh38.20150815.bw\"\n",
    "\n",
    "#Transcript quantifications\n",
    "wget -nc -O /input_dir/corona_analysis/tracks/S0022I12_Mphage_activ_transcript.tsv --quiet \\\n",
    "    \"http://ftp.ebi.ac.uk/pub/databases/blueprint/data/homo_sapiens/GRCh38/venous_blood/S001MJ/inflammatory_macrophage/RNA-Seq/MPIMG/S001MJ12.transcript_quantification.rsem_grape2_crg.GRCh38.20150622.results\"\n",
    "    \n",
    "#Gene quantifications\n",
    "wget -nc -O /input_dir/corona_analysis/tracks/S0022I12_Mphage_activ_gene.tsv --quiet \\\n",
    "    \"http://ftp.ebi.ac.uk/pub/databases/blueprint/data/homo_sapiens/GRCh38/venous_blood/S001MJ/inflammatory_macrophage/RNA-Seq/MPIMG/S001MJ12.gene_quantification.rsem_grape2_crg.GRCh38.20150622.results\"\n",
    "\n"
   ]
  },
  {
   "cell_type": "code",
   "execution_count": null,
   "metadata": {},
   "outputs": [],
   "source": [
    "%%bash\n",
    "\n",
    "CrossMap.py bigwig /input_dir/corona_analysis/annotations/hg38ToHg19.over.chain.gz /input_dir/corona_analysis/tracks/S0022I12_Mphage_activ_rnaseq_minus.bw \\\n",
    "    /input_dir/corona_analysis/tracks/S0022I12_Mphage_activ_rnaseq_minus_hg19\n",
    "\n",
    "CrossMap.py bigwig /input_dir/corona_analysis/annotations/hg38ToHg19.over.chain.gz /input_dir/corona_analysis/tracks/S0022I12_Mphage_activ_rnaseq_plus.bw \\\n",
    "    /input_dir/corona_analysis/tracks/S0022I12_Mphage_activ_rnaseq_plus_hg19\n"
   ]
  },
  {
   "cell_type": "markdown",
   "metadata": {},
   "source": [
    "### Repeats"
   ]
  },
  {
   "cell_type": "markdown",
   "metadata": {},
   "source": [
    "#### L1 elements"
   ]
  },
  {
   "cell_type": "code",
   "execution_count": null,
   "metadata": {},
   "outputs": [],
   "source": [
    "%%bash\n",
    "\n",
    "#Get LINE elements from L1Base2 all full length (>4500nt) in hg38 and flip to hg19\n",
    "# http://l1base.charite.de/BED/hsflil1_3836.bed == intact ones\n",
    "wget --quiet http://l1base.charite.de/BED/hsflnil1_8438_rm.bed\n",
    "sort-bed hsflnil1_8438_rm.bed > /input_dir/corona_analysis/annotations/hsflnil1_hg38_sorted.bed\n",
    "rm hsflnil1_8438_rm.bed\n"
   ]
  },
  {
   "cell_type": "code",
   "execution_count": null,
   "metadata": {},
   "outputs": [],
   "source": [
    "\n",
    "#LINE elements from hg38 to hg19\n",
    "liftover_bed(from_genome=\"hg38\",\n",
    "             to_genome=\"hg19\",\n",
    "             in_bed=\"/input_dir/corona_analysis/annotations/hsflnil1_hg38_sorted.bed\",\n",
    "             out_bed=\"/input_dir/corona_analysis/annotations/hsflnil1_hg19_sorted.bed\",\n",
    "            canonical_chrom_filter = True)\n",
    "\n"
   ]
  },
  {
   "cell_type": "markdown",
   "metadata": {},
   "source": [
    "### eQTLs"
   ]
  },
  {
   "cell_type": "markdown",
   "metadata": {},
   "source": [
    "### Mendelian diseases"
   ]
  },
  {
   "cell_type": "code",
   "execution_count": null,
   "metadata": {},
   "outputs": [],
   "source": [
    "%%bash\n",
    "\n",
    "#Get mendelian variation tied to disease using clinvar hg38\n",
    "wget --quiet -nc -O disease_names_clinvar.txt ftp://ftp.ncbi.nlm.nih.gov/pub/clinvar/disease_names\n"
   ]
  },
  {
   "cell_type": "code",
   "execution_count": null,
   "metadata": {},
   "outputs": [],
   "source": [
    "%%bash\n",
    "\n",
    "wget --quiet -nc -O clinvar_curr_hg38.vcf.gz ftp://ftp.ncbi.nlm.nih.gov/pub/clinvar/vcf_GRCh38/clinvar_20200615.vcf.gz\n",
    "gunzip clinvar_curr_hg38.vcf.gz\n"
   ]
  },
  {
   "cell_type": "code",
   "execution_count": null,
   "metadata": {},
   "outputs": [],
   "source": [
    "%%bash\n",
    "\n",
    "wget --quiet -nc -O clinvar_curr_hg19.vcf.gz ftp://ftp.ncbi.nlm.nih.gov/pub/clinvar/vcf_GRCh37/clinvar_20200615.vcf.gz\n",
    "gunzip clinvar_curr_hg19.vcf.gz\n"
   ]
  },
  {
   "cell_type": "code",
   "execution_count": null,
   "metadata": {},
   "outputs": [],
   "source": [
    "%%bash\n",
    "\n",
    "#get only lung related disease ConceptIDs\n",
    "grep -i \"lung\\|COPD\" disease_names_clinvar.txt | cut -f 3 | sort -u | sed '/^$/d' > lung_names.txt\n"
   ]
  },
  {
   "cell_type": "code",
   "execution_count": null,
   "metadata": {},
   "outputs": [],
   "source": [
    "import vcf\n",
    "\n",
    "disease_ids = set()\n",
    "\n",
    "with open('lung_names.txt', 'r') as diseases:\n",
    "    for line in diseases.readlines():\n",
    "        disease_ids.add(line.strip())\n",
    "\n",
    "vcf_reader = vcf.Reader(open('clinvar_curr_hg19.vcf', 'r',encoding='utf-8'))\n",
    "\n",
    "bed_lung_var_out = open(\"/input_dir/corona_analysis/annotations/clinvar_kidney_variants_hg19.bed\",\"w\")\n",
    "\n",
    "for record in vcf_reader:\n",
    "    record_keys = record.INFO.keys()\n",
    "    if (\"CLNDISDB\" in record_keys and record.INFO[\"CLNDISDB\"][0] is not None and \"MedGen\" in record.INFO[\"CLNDISDB\"][0]):\n",
    "        cur_id = (record.INFO[\"CLNDISDB\"][0]).split(\":\")[1]\n",
    "        cur_disease = (record.INFO[\"CLNDN\"][0])\n",
    "        cur_rs = \"NA\"\n",
    "        if \"RS\" in record.INFO.keys():\n",
    "            cur_rs = \"rs\"+record.INFO[\"RS\"][0]\n",
    "        \n",
    "        if cur_id in disease_ids:\n",
    "            out_record = (\"chr\" + str(record.CHROM) +\n",
    "                \"\\t\" + str(record.start) + \n",
    "                \"\\t\" + str(record.end) + \n",
    "                \"\\t\" + cur_disease + \n",
    "                \":\" + cur_rs + \n",
    "                \"\\t\" + \"0\" + \n",
    "                \"\\t\" + \".\" + \"\\n\")\n",
    "            bed_lung_var_out.write(out_record)\n",
    "            \n",
    "bed_lung_var_out.close()"
   ]
  },
  {
   "cell_type": "markdown",
   "metadata": {},
   "source": [
    "### Methylation"
   ]
  },
  {
   "cell_type": "code",
   "execution_count": null,
   "metadata": {},
   "outputs": [],
   "source": [
    "%%bash\n",
    "# download methylation differences in upper vs lower lobe macrophages\n",
    "\n",
    "https://www.immunohorizons.org/content/suppl/2019/07/02/3.7.274.DCSupplemental\n"
   ]
  },
  {
   "cell_type": "code",
   "execution_count": null,
   "metadata": {},
   "outputs": [],
   "source": [
    "%%bash\n",
    "\n",
    "#Get methylation coverage in macrophages\n",
    "wget --quiet -nc -O /input_dir/corona_analysis/tracks/S0022I51_macrophage_CPG_meth_hg38.bw \\\n",
    "    http://ftp.ebi.ac.uk/pub/databases/blueprint/data/homo_sapiens/GRCh38/venous_blood/S0022I/macrophage/Bisulfite-Seq/CNAG/S0022I51.CPG_methylation_calls.bs_call.GRCh38.20160531.bw\n",
    "\n",
    "    \n",
    "#Get methylation coverage in activated macrophages\n",
    "wget --quiet -nc -O /input_dir/corona_analysis/tracks/S00BS451_activ_macrophage_CPG_meth_hg38.bw \\\n",
    "    http://ftp.ebi.ac.uk/pub/databases/blueprint/data/homo_sapiens/GRCh38/venous_blood/S00BS4/alternatively_activated_macrophage/Bisulfite-Seq/CNAG/S00BS451.CPG_methylation_calls.bs_call.GRCh38.20160531.bw\n"
   ]
  },
  {
   "cell_type": "code",
   "execution_count": null,
   "metadata": {},
   "outputs": [],
   "source": [
    "%%bash\n",
    "\n",
    "CrossMap.py bigwig /input_dir/corona_analysis/annotations/hg38ToHg19.over.chain.gz /input_dir/corona_analysis/tracks/S0022I51_macrophage_CPG_meth_hg38.bw \\\n",
    "    /input_dir/corona_analysis/tracks/S0022I51_macrophage_CPG_meth_hg19\n",
    "\n",
    "CrossMap.py bigwig /input_dir/corona_analysis/annotations/hg38ToHg19.over.chain.gz /input_dir/corona_analysis/tracks/S00BS451_activ_macrophage_CPG_meth_hg38.bw \\\n",
    "    /input_dir/corona_analysis/tracks/S00BS451_activ_macrophage_CPG_meth_hg19\n"
   ]
  }
 ],
 "metadata": {
  "kernelspec": {
   "display_name": "Python 3",
   "language": "python",
   "name": "python3"
  },
  "language_info": {
   "codemirror_mode": {
    "name": "ipython",
    "version": 3
   },
   "file_extension": ".py",
   "mimetype": "text/x-python",
   "name": "python",
   "nbconvert_exporter": "python",
   "pygments_lexer": "ipython3",
   "version": "3.8.6"
  }
 },
 "nbformat": 4,
 "nbformat_minor": 4
}

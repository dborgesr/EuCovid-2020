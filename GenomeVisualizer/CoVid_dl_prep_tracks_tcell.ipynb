{
 "cells": [
  {
   "cell_type": "markdown",
   "metadata": {},
   "source": [
    "# Code to get tracks set up for CoVid-relevant regulatory architecture\n",
    "# CD8 T Cell regulatory architecture"
   ]
  },
  {
   "cell_type": "markdown",
   "metadata": {},
   "source": [
    "# Minimal tracks to prepare \n",
    "Track : format - source\n",
    "\n",
    "    * CTCF : bigwig - Imputed CD8 T-cell ENCODE \n",
    "    * H3K27Ac : bigwig - Blueprint CD8 eff mem Tcell \n",
    "    * H3k4Me3 : bigwig - Blueprint CD8 eff mem Tcell  \n",
    "    * H3k9Me3 : bigwig - Blueprint CD8 eff mem Tcell \n",
    "    * scATAC-seq/DNAse-seq : bigwig - Clustered scATAC-seq Blood paper\n",
    "    * Methylation : bigwig - Blueprint CD8 Tcell\n",
    "    * Loops : links - hESC\n",
    "    * Hi-C : cool - Mphage diff paper\n",
    "    * Genes : genes_bed -  Gencode\n",
    "    * Repeats : bed - L1Base2\n",
    "    * Chromatin state : bed - ENCODE/Segway\n",
    "    * eQTL list : arcs - none\n",
    "    * GWAS : bed - pvals and bigwig Ellinghaus and Covid19Hg\n",
    "    * RNA-Seq : bigwig and txt - CD8 eff mem T cell Blueprint\n",
    "    "
   ]
  },
  {
   "cell_type": "code",
   "execution_count": null,
   "metadata": {},
   "outputs": [],
   "source": [
    "import pyensembl, os, sys, re, numpy as np\n",
    "from helper_funcs import *"
   ]
  },
  {
   "cell_type": "markdown",
   "metadata": {},
   "source": [
    "### Transcription factor and histones"
   ]
  },
  {
   "cell_type": "code",
   "execution_count": 1,
   "metadata": {},
   "outputs": [],
   "source": [
    "%%bash\n",
    "#Get Histone marks C0054X from Blueprint DCC:\n",
    "\n",
    "# Get bigwig H3k4me3 fold change over control \n",
    "wget -nc -O /input_dir/corona_analysis/tracks/C0054X_cd8_tcell_h3k4me3_hg38.bw --quiet \\\n",
    "    \"http://ftp.ebi.ac.uk/pub/databases/blueprint/data/homo_sapiens/GRCh38/venous_blood/C0054X/effector_memory_CD8-positive_alpha-beta_T_cell/ChIP-Seq/NCMLS/C0054XH3.ERX547963.H3K4me3.bwa.GRCh38.20150528.bw\"\n",
    "\n",
    "# Get bigwig H3K27Ac fold change over control\n",
    "wget -nc -O /input_dir/corona_analysis/tracks/C0054X_cd8_tcell_h3k27Ac_hg38.bw --quiet \\\n",
    "    \"http://ftp.ebi.ac.uk/pub/databases/blueprint/data/homo_sapiens/GRCh38/venous_blood/C0054X/effector_memory_CD8-positive_alpha-beta_T_cell/ChIP-Seq/NCMLS/C0054XH3.ERX682362.H3K27ac.bwa.GRCh38.20150529.bw\"    \n",
    "\n",
    "# Get bigwig H3K9Me3 fold change over control\n",
    "wget -nc -O /input_dir/corona_analysis/tracks/C0054X_cd8_tcell_h3k9me3_hg38.bw --quiet \\\n",
    "    \"http://ftp.ebi.ac.uk/pub/databases/blueprint/data/homo_sapiens/GRCh38/venous_blood/C0054X/effector_memory_CD8-positive_alpha-beta_T_cell/ChIP-Seq/NCMLS/C0054XH3.ERX406992.H3K9me3.bwa.GRCh38.20150528.bw\"\n"
   ]
  },
  {
   "cell_type": "code",
   "execution_count": 1,
   "metadata": {},
   "outputs": [],
   "source": [
    "%%bash\n",
    "#Get Bigwigs:\n",
    "\n",
    "# Get imputed CTCF chip-seq from CD8 T cells\n",
    "wget -nc --quiet -O /input_dir/corona_analysis/tracks/ENCFF518JVS_cd8_tcell_imputed_hg38.bw \\\n",
    "    https://encode-public.s3.amazonaws.com/2020/01/11/b00516d0-c081-4daf-bb06-9ef9911c5169/ENCFF518JVS.bigWig\n"
   ]
  },
  {
   "cell_type": "markdown",
   "metadata": {},
   "source": [
    "### Chromatin accessibility"
   ]
  },
  {
   "cell_type": "code",
   "execution_count": null,
   "metadata": {},
   "outputs": [],
   "source": [
    "%%bash\n",
    "\n",
    "# Get bigwig DNAse normalized read count for CD8 T-Cells in diff states from \n",
    "#http://epigenomegateway.wustl.edu/legacy/?genome=hg19&session=HcbHMSgBCc&statusId=28207718\n",
    "\n",
    "#Get From Fig 2 of https://www.nature.com/articles/s41587-019-0206-z clusters 26-30\n",
    "wget -nc -O /input_dir/corona_analysis/tracks/CD8_N_T1_scATAC_hg19.bw --quiet \\\n",
    "\"https://chang-public-data.s3-us-west-1.amazonaws.com/10X_scATAC/Heme/Cluster26.RIP_norm.bw\"\n",
    "wget -nc -O /input_dir/corona_analysis/tracks/CD8_N_T2_scATAC_hg19.bw --quiet \\\n",
    "\"https://chang-public-data.s3-us-west-1.amazonaws.com/10X_scATAC/Heme/Cluster27.RIP_norm.bw\"\n",
    "wget -nc -O /input_dir/corona_analysis/tracks/CD8_N_T3_scATAC_hg19.bw --quiet \\\n",
    "\"https://chang-public-data.s3-us-west-1.amazonaws.com/10X_scATAC/Heme/Cluster28.RIP_norm.bw\"\n",
    "wget -nc -O /input_dir/corona_analysis/tracks/CD8_CM_T_scATAC_hg19.bw --quiet \\\n",
    "\"https://chang-public-data.s3-us-west-1.amazonaws.com/10X_scATAC/Heme/Cluster29.RIP_norm.bw\"\n",
    "wget -nc -O /input_dir/corona_analysis/tracks/CD8_EM_T_scATAC_hg19.bw --quiet \\\n",
    "\"https://chang-public-data.s3-us-west-1.amazonaws.com/10X_scATAC/Heme/Cluster30.RIP_norm.bw\"\n"
   ]
  },
  {
   "cell_type": "code",
   "execution_count": null,
   "metadata": {},
   "outputs": [],
   "source": [
    "%%bash\n",
    "\n",
    "#Flip chromatin accessibility to hg38 from hg19\n",
    "CrossMap.py bigwig /input_dir/corona_analysis/annotations/hg19ToHg38.over.chain.gz /input_dir/corona_analysis/tracks/CD8_N_T1_scATAC_hg19.bw \\\n",
    "    /input_dir/corona_analysis/tracks/CD8_N_T1_scATAC_hg38\n",
    "CrossMap.py bigwig /input_dir/corona_analysis/annotations/hg19ToHg38.over.chain.gz /input_dir/corona_analysis/tracks/CD8_N_T2_scATAC_hg19.bw \\\n",
    "    /input_dir/corona_analysis/tracks/CD8_N_T2_scATAC_hg38\n",
    "CrossMap.py bigwig /input_dir/corona_analysis/annotations/hg19ToHg38.over.chain.gz /input_dir/corona_analysis/tracks/CD8_N_T3_scATAC_hg19.bw \\\n",
    "    /input_dir/corona_analysis/tracks/CD8_N_T3_scATAC_hg38\n",
    "CrossMap.py bigwig /input_dir/corona_analysis/annotations/hg19ToHg38.over.chain.gz /input_dir/corona_analysis/tracks/CD8_CM_T_scATAC_hg19.bw \\\n",
    "    /input_dir/corona_analysis/tracks/CD8_CM_T_scATAC_hg38\n",
    "CrossMap.py bigwig /input_dir/corona_analysis/annotations/hg19ToHg38.over.chain.gz /input_dir/corona_analysis/tracks/CD8_EM_T_scATAC_hg19.bw \\\n",
    "    /input_dir/corona_analysis/tracks/CD8_EM_T_scATAC_hg38\n",
    "\n"
   ]
  },
  {
   "cell_type": "markdown",
   "metadata": {},
   "source": [
    "### Chromatin looping"
   ]
  },
  {
   "cell_type": "code",
   "execution_count": null,
   "metadata": {},
   "outputs": [],
   "source": [
    "#Get in-situ Hi-C for CD8 T cells from \n",
    "#https://ftp.ncbi.nlm.nih.gov/geo/samples/GSM2827nnn/GSM2827788/suppl/GSM2827788_CD8T1_hg_t.mtx.gz\n"
   ]
  },
  {
   "cell_type": "code",
   "execution_count": null,
   "metadata": {},
   "outputs": [],
   "source": [
    "%%R\n",
    "#Flipped using R container + Ginteractions + DiffHic\n",
    "library(diffHiC)\n",
    "library(GInteractions)\n",
    "\n",
    "#Get Data from paper in MTX and flip to gints tsv\n",
    "cd8_t1_hg38_iset = readMTX2IntSet(mtx=\"/input_dir/corona_analysis/tracks/GSM2827788_CD8T1_hg_t.mtx\",\n",
    "                      bed=\"/input_dir/corona_analysis/tracks/GSE105776_GenomicRegions.bed\")\n",
    "hic_count = as.integer(assays(cd8_t1_hg38_iset)[[1]])\n",
    "hic_ints = interactions(cd8_t1_hg38_iset)\n",
    "hic_ints$counts = hic_count\n",
    "out_gint_tsv = \"/input_dir/corona_analysis/tracks/GSM2827788_CD8T1_hg_t.gints\"\n",
    "export.bedpe(hic_ints, out_gint_tsv, score=\"counts\")\n",
    "\n",
    "#Second sample CD8 T2\n",
    "cd8_t2_hg38_iset = readMTX2IntSet(mtx=\"/input_dir/corona_analysis/tracks/GSM2827789_CD8T2_hg_t.mtx\",\n",
    "                                  bed=\"/input_dir/corona_analysis/tracks/GSE105776_GenomicRegions.bed\")\n",
    "hic_count = as.integer(assays(cd8_t2_hg38_iset)[[1]])\n",
    "hic_ints = interactions(cd8_t2_hg38_iset)\n",
    "hic_ints$counts = hic_count\n",
    "out_gint_tsv = \"/input_dir/corona_analysis/tracks/GSM2827789_CD8T2_hg_t.gints\"\n",
    "export.bedpe(hic_ints, out_gint_tsv, score=\"counts\")\n"
   ]
  },
  {
   "cell_type": "code",
   "execution_count": null,
   "metadata": {},
   "outputs": [],
   "source": [
    "#Flip to cool\n",
    "cooler load --assembly hg38 --field count=8 -f bg2 \\\n",
    "    /input_dir/corona_analysis/tracks/GSE105776_GenomicRegions.bed \\\n",
    "    /input_dir/corona_analysis/tracks/GSM2827788_CD8T1_hg_t.gints \\\n",
    "    /input_dir/corona_analysis/tracks/GSM2827788_CD8T1_hg_t.cool\n",
    "\n",
    "cooler load --assembly hg38 --field count=8 -f bg2 \\\n",
    "    /input_dir/corona_analysis/tracks/GSE105776_GenomicRegions.bed \\\n",
    "    /input_dir/corona_analysis/tracks/GSM2827789_CD8T2_hg_t.gints \\\n",
    "    /input_dir/corona_analysis/tracks/GSM2827789_CD8T2_hg_t.cool\n"
   ]
  },
  {
   "cell_type": "markdown",
   "metadata": {},
   "source": [
    "### Chromatin state"
   ]
  },
  {
   "cell_type": "code",
   "execution_count": null,
   "metadata": {},
   "outputs": [],
   "source": [
    "%%bash\n",
    "\n",
    "#Get naive and memory CD8+ T-cell state tracks\n",
    "wget --quiet -nc https://noble.gs.washington.edu/proj/encyclopedia/interpreted/CD8_MEMORY_PRIMARY_CELLS.bed.gz\n",
    "wget --quiet -nc https://noble.gs.washington.edu/proj/encyclopedia/interpreted/CD8_NAIVE_PRIMARY_CELLS.bed.gz   \n",
    "    \n",
    "gunzip CD8_MEMORY_PRIMARY_CELLS.bed.gz\n",
    "gunzip CD8_NAIVE_PRIMARY_CELLS.bed.gz\n",
    "sort-bed CD8_MEMORY_PRIMARY_CELLS.bed | bgzip > /input_dir/corona_analysis/tracks/CD8_MEMORY_PRIMARY_CELLS.bed.gz\n",
    "sort-bed CD8_NAIVE_PRIMARY_CELLS.bed | bgzip > /input_dir/corona_analysis/tracks/CD8_NAIVE_PRIMARY_CELLS.bed.gz\n",
    "\n",
    "rm CD8_MEMORY_PRIMARY_CELLS.bed\n",
    "rm CD8_NAIVE_PRIMARY_CELLS.bed\n",
    "\n",
    "tabix -p bed /input_dir/corona_analysis/tracks/CD8_MEMORY_PRIMARY_CELLS.bed.gz\n",
    "tabix -p bed /input_dir/corona_analysis/tracks/CD8_NAIVE_PRIMARY_CELLS.bed.gz\n"
   ]
  },
  {
   "cell_type": "code",
   "execution_count": null,
   "metadata": {},
   "outputs": [],
   "source": [
    "%%bash\n",
    "\n",
    "#Flip chromatin state to hg38 from hg19\n",
    "CrossMap.py bed /input_dir/corona_analysis/annotations/hg19ToHg38.over.chain.gz /input_dir/corona_analysis/tracks/CD8_MEMORY_PRIMARY_CELLS.bed.gz \\\n",
    "    /input_dir/corona_analysis/tracks/CD8_MEMORY_PRIMARY_CELLS_hg38\n",
    "CrossMap.py bed /input_dir/corona_analysis/annotations/hg19ToHg38.over.chain.gz /input_dir/corona_analysis/tracks/CD8_NAIVE_PRIMARY_CELLS.bed.gz \\\n",
    "    /input_dir/corona_analysis/tracks/CD8_NAIVE_PRIMARY_CELLS_hg38\n"
   ]
  },
  {
   "cell_type": "code",
   "execution_count": null,
   "metadata": {},
   "outputs": [],
   "source": [
    "#Add for E046 (NK) and E034 (T-Cell)"
   ]
  },
  {
   "cell_type": "code",
   "execution_count": 28,
   "metadata": {},
   "outputs": [],
   "source": [
    "%%bash\n",
    "#Get CD8 T Naive ChromHmm model\n",
    "wget --quiet -nc -O E047_15_coreMarks_dense.bed.gz \\\n",
    "    https://egg2.wustl.edu/roadmap/data/byFileType/chromhmmSegmentations/ChmmModels/coreMarks/jointModel/final/E047_15_coreMarks_dense.bed.gz\n",
    "gunzip E047_15_coreMarks_dense.bed.gz\n",
    "sort-bed E047_15_coreMarks_dense.bed | bgzip > /input_dir/corona_analysis/tracks/E047_15_coreMarks_dense.bed.gz\n",
    "rm E047_15_coreMarks_dense.bed\n",
    "tabix -p bed /input_dir/corona_analysis/tracks/E047_15_coreMarks_dense.bed.gz\n",
    "\n",
    "#Get CD8 T Memory ChromHmm model\n",
    "wget --quiet -nc -O E048_15_coreMarks_dense.bed.gz \\\n",
    "    https://egg2.wustl.edu/roadmap/data/byFileType/chromhmmSegmentations/ChmmModels/coreMarks/jointModel/final/E048_15_coreMarks_dense.bed.gz\n",
    "gunzip E048_15_coreMarks_dense.bed.gz\n",
    "sort-bed E048_15_coreMarks_dense.bed | bgzip > /input_dir/corona_analysis/tracks/E048_15_coreMarks_dense.bed.gz\n",
    "rm E048_15_coreMarks_dense.bed\n",
    "tabix -p bed /input_dir/corona_analysis/tracks/E048_15_coreMarks_dense.bed.gz\n"
   ]
  },
  {
   "cell_type": "code",
   "execution_count": null,
   "metadata": {},
   "outputs": [],
   "source": [
    "%%bash\n",
    "\n",
    "#Flip chromatin state to hg38 from hg19\n",
    "CrossMap.py bed /input_dir/corona_analysis/annotations/hg19ToHg38.over.chain.gz /input_dir/corona_analysis/tracks/E047_15_coreMarks_dense.bed.gz \\\n",
    "    E047_15_coreMarks_dense_hg38.bed\n",
    "CrossMap.py bed /input_dir/corona_analysis/annotations/hg19ToHg38.over.chain.gz /input_dir/corona_analysis/tracks/E048_15_coreMarks_dense.bed.gz \\\n",
    "    E048_15_coreMarks_dense_hg38.bed\n",
    "\n",
    "sort-bed E047_15_coreMarks_dense_hg38.bed | bgzip > /input_dir/corona_analysis/tracks/E047_15_coreMarks_dense_hg38.bed.gz\n",
    "sort-bed E048_15_coreMarks_dense_hg38.bed | bgzip > /input_dir/corona_analysis/tracks/E048_15_coreMarks_dense_hg38.bed.gz\n",
    " \n",
    "rm E047_15_coreMarks_dense_hg38.bed E048_15_coreMarks_dense_hg38.bed\n",
    "tabix -p bed /input_dir/corona_analysis/tracks/E047_15_coreMarks_dense_hg38.bed.gz\n",
    "tabix -p bed /input_dir/corona_analysis/tracks/E048_15_coreMarks_dense_hg38.bed.gz\n",
    "\n"
   ]
  },
  {
   "cell_type": "markdown",
   "metadata": {},
   "source": [
    "### RNA-seq"
   ]
  },
  {
   "cell_type": "code",
   "execution_count": null,
   "metadata": {},
   "outputs": [],
   "source": [
    "%%bash\n",
    "\n",
    "#Get C001HN total RNA-seq Blueprint Effector memory CD8 T cell\n",
    "\n",
    "#Get bigwig of alignments\n",
    "# Minus strand multi\n",
    "wget -nc -O /input_dir/corona_analysis/tracks/C001HN_CD8_T_mem_rnaseq_minus.bw --quiet \\\n",
    "    \"http://ftp.ebi.ac.uk/pub/databases/blueprint/data/homo_sapiens/GRCh38/venous_blood/C001HN/central_memory_CD8-positive_alpha-beta_T_cell/RNA-Seq/MPIMG/C001HNB2.minusStrandMulti.star_grape2_crg.GRCh38.20150815.bw\"\n",
    "\n",
    "# Plus strand multi\n",
    "wget -nc -O /input_dir/corona_analysis/tracks/C001HN_CD8_T_mem_rnaseq_plus.bw --quiet \\\n",
    "    \"http://ftp.ebi.ac.uk/pub/databases/blueprint/data/homo_sapiens/GRCh38/venous_blood/C001HN/central_memory_CD8-positive_alpha-beta_T_cell/RNA-Seq/MPIMG/C001HNB2.plusStrandMulti.star_grape2_crg.GRCh38.20150815.bw\"\n",
    "\n",
    "#Transcript quantifications\n",
    "wget -nc -O /input_dir/corona_analysis/tracks/C001HN_CD8_T_mem_transcript.tsv --quiet \\\n",
    "    \"http://ftp.ebi.ac.uk/pub/databases/blueprint/data/homo_sapiens/GRCh38/venous_blood/C001HN/central_memory_CD8-positive_alpha-beta_T_cell/RNA-Seq/MPIMG/C001HNB2.transcript_quantification.rsem_grape2_crg.GRCh38.20150622.results\"\n",
    "    \n",
    "#Gene quantifications\n",
    "wget -nc -O /input_dir/corona_analysis/tracks/C001HN_CD8_T_mem_gene.tsv --quiet \\\n",
    "    \"http://ftp.ebi.ac.uk/pub/databases/blueprint/data/homo_sapiens/GRCh38/venous_blood/C001HN/central_memory_CD8-positive_alpha-beta_T_cell/RNA-Seq/MPIMG/C001HNB2.gene_quantification.rsem_grape2_crg.GRCh38.20150622.results\"\n",
    "    "
   ]
  },
  {
   "cell_type": "markdown",
   "metadata": {},
   "source": [
    "### eQTLs"
   ]
  },
  {
   "cell_type": "markdown",
   "metadata": {},
   "source": [
    "### Mendelian diseases"
   ]
  },
  {
   "cell_type": "code",
   "execution_count": null,
   "metadata": {},
   "outputs": [],
   "source": [
    "%%bash\n",
    "\n",
    "#Get mendelian variation tied to disease using clinvar hg38\n",
    "wget --quiet -nc -O disease_names_clinvar.txt ftp://ftp.ncbi.nlm.nih.gov/pub/clinvar/disease_names\n"
   ]
  },
  {
   "cell_type": "code",
   "execution_count": null,
   "metadata": {},
   "outputs": [],
   "source": [
    "%%bash\n",
    "\n",
    "wget --quiet -nc -O clinvar_curr_hg38.vcf.gz ftp://ftp.ncbi.nlm.nih.gov/pub/clinvar/vcf_GRCh38/clinvar_20200615.vcf.gz\n",
    "gunzip clinvar_curr_hg38.vcf.gz\n"
   ]
  },
  {
   "cell_type": "code",
   "execution_count": null,
   "metadata": {},
   "outputs": [],
   "source": [
    "%%bash\n",
    "\n",
    "#get only lung related disease ConceptIDs\n",
    "grep -i \"lung\\|COPD\" disease_names_clinvar.txt | cut -f 3 | sort -u | sed '/^$/d' > lung_names.txt\n"
   ]
  },
  {
   "cell_type": "code",
   "execution_count": null,
   "metadata": {},
   "outputs": [],
   "source": [
    "import vcf\n",
    "\n",
    "disease_ids = set()\n",
    "\n",
    "with open('lung_names.txt', 'r') as diseases:\n",
    "    for line in diseases.readlines():\n",
    "        disease_ids.add(line.strip())\n",
    "\n",
    "vcf_reader = vcf.Reader(open('clinvar_curr_hg38.vcf', 'r',encoding='utf-8'))\n",
    "\n",
    "bed_lung_var_out = open(\"/input_dir/corona_analysis/annotations/clinvar_kidney_variants_hg38.bed\",\"w\")\n",
    "\n",
    "for record in vcf_reader:\n",
    "    record_keys = record.INFO.keys()\n",
    "    if (\"CLNDISDB\" in record_keys and record.INFO[\"CLNDISDB\"][0] is not None and \"MedGen\" in record.INFO[\"CLNDISDB\"][0]):\n",
    "        cur_id = (record.INFO[\"CLNDISDB\"][0]).split(\":\")[1]\n",
    "        cur_disease = (record.INFO[\"CLNDN\"][0])\n",
    "        cur_rs = \"NA\"\n",
    "        if \"RS\" in record.INFO.keys():\n",
    "            cur_rs = \"rs\"+record.INFO[\"RS\"][0]\n",
    "        \n",
    "        if cur_id in disease_ids:\n",
    "            out_record = (\"chr\" + str(record.CHROM) +\n",
    "                \"\\t\" + str(record.start) + \n",
    "                \"\\t\" + str(record.end) + \n",
    "                \"\\t\" + cur_disease + \n",
    "                \":\" + cur_rs + \n",
    "                \"\\t\" + \"0\" + \n",
    "                \"\\t\" + \".\" + \"\\n\")\n",
    "            bed_lung_var_out.write(out_record)\n",
    "            \n",
    "bed_lung_var_out.close()"
   ]
  },
  {
   "cell_type": "markdown",
   "metadata": {},
   "source": [
    "### Methylation"
   ]
  },
  {
   "cell_type": "code",
   "execution_count": null,
   "metadata": {},
   "outputs": [],
   "source": [
    "%%bash\n",
    "\n",
    "#Get methylation coverage in effector CD8 Memory T cells\n",
    "wget --quiet -nc -O /input_dir/corona_analysis/tracks/S002ND51_CD8_effmemT_CPG_meth_hg38.bw \\\n",
    "    http://ftp.ebi.ac.uk/pub/databases/blueprint/data/homo_sapiens/GRCh38/venous_blood/S002ND/effector_memory_CD8-positive_alpha-beta_T_cell_terminally_differentiated/Bisulfite-Seq/CNAG/S002ND51.CPG_methylation_calls.bs_call.GRCh38.20160531.bw\n"
   ]
  }
 ],
 "metadata": {
  "kernelspec": {
   "display_name": "Python 3",
   "language": "python",
   "name": "python3"
  },
  "language_info": {
   "codemirror_mode": {
    "name": "ipython",
    "version": 3
   },
   "file_extension": ".py",
   "mimetype": "text/x-python",
   "name": "python",
   "nbconvert_exporter": "python",
   "pygments_lexer": "ipython3",
   "version": "3.7.6"
  }
 },
 "nbformat": 4,
 "nbformat_minor": 4
}

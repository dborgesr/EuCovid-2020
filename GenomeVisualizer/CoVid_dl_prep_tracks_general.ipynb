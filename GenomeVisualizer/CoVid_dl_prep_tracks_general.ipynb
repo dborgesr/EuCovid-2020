{
 "cells": [
  {
   "cell_type": "markdown",
   "metadata": {},
   "source": [
    "# Code to get tracks set up for CoVid-relevant regulatory architecture\n",
    "# General tracks"
   ]
  },
  {
   "cell_type": "markdown",
   "metadata": {},
   "source": [
    "### Genes"
   ]
  },
  {
   "cell_type": "code",
   "execution_count": null,
   "metadata": {},
   "outputs": [],
   "source": [
    "%%bash\n",
    "\n",
    "#First, download UCSC scripts\n",
    "wget --quiet -nc http://hgdownload.cse.ucsc.edu/admin/exe/linux.x86_64/gtfToGenePred\n",
    "wget --quiet -nc http://hgdownload.cse.ucsc.edu/admin/exe/linux.x86_64/genePredToBed\n",
    "wget --quiet -nc http://hgdownload.cse.ucsc.edu/admin/exe/linux.x86_64/bigWigToWig\n",
    "chmod +x gtfToGenePred genePredToBed bigWigToWig\n"
   ]
  },
  {
   "cell_type": "code",
   "execution_count": null,
   "metadata": {},
   "outputs": [],
   "source": [
    "%%bash\n",
    "\n",
    "#Get gencode GTF (basic or full) and flip it to bed12\n",
    "wget --quiet -nc -O gencode_v37.gtf.gz \\\n",
    "    ftp://ftp.ebi.ac.uk/pub/databases/gencode/Gencode_human/release_30/GRCh37_mapping/gencode.v30lift37.basic.annotation.gtf.gz\n",
    "#wget --quiet -O gencode_v37.gtf.gz \\\n",
    "#    ftp://ftp.ebi.ac.uk/pub/databases/gencode/Gencode_human/release_30/GRCh37_mapping/gencode.v30lift37.annotation.gtf.gz\n",
    "gunzip gencode_v37.gtf.gz\n",
    "\n",
    "#Get chromosomes sizes\n",
    "wget -nc --quiet http://hgdownload.cse.ucsc.edu/goldenPath/hg19/bigZips/hg19.chrom.sizes\n",
    "grep -v chrM hg19.chrom.sizes| grep -v _hap | grep -v Un_gl |grep -v random > hg19.chrom.filtered.sizes\n",
    "rm hg19.chrom.sizes\n",
    "\n",
    "# Convert Gtf to genePred\n",
    "./gtfToGenePred -genePredExt -geneNameAsName2 gencode_v37.gtf gencode_v37.genePred\n",
    "#Swap the Ensembl transcript ID for the geneID\n",
    "awk ' { t = $1; $1 = $12; $12 = t; print; } ' gencode_v37.genePred > gencode_v37_name.genePred\n",
    "# Convert genPred to bed12\n",
    "./genePredToBed gencode_v37_name.genePred gencode_v37.bed12\n",
    "# sort bed12\n",
    "sort -k1,1 -k2,2n gencode_v37.bed12 > /input_dir/corona_analysis/annotations/gencode_v37.sorted.bed\n",
    "#cleanup\n",
    "rm gencode_v37.gtf \\\n",
    "    gencode_v37.genePred \\\n",
    "    gencode_v37.bed12\n"
   ]
  },
  {
   "cell_type": "code",
   "execution_count": null,
   "metadata": {},
   "outputs": [],
   "source": [
    "%%bash\n",
    "\n",
    "#Redo for hg38\n",
    "#Get gencode GTF (basic or full) and flip it to bed12\n",
    "wget --quiet -nc -O gencode_v38.gtf.gz \\\n",
    "    ftp://ftp.ebi.ac.uk/pub/databases/gencode/Gencode_human/release_32/gencode.v32.basic.annotation.gtf.gz\n",
    "gunzip gencode_v38.gtf.gz\n",
    "\n",
    "#Get chromosomes sizes\n",
    "wget -nc --quiet http://hgdownload.cse.ucsc.edu/goldenPath/hg38/bigZips/hg38.chrom.sizes\n",
    "grep -v chrM hg38.chrom.sizes| grep -v _hap | grep -v Un_gl |grep -v random > hg38.chrom.filtered.sizes\n",
    "rm hg38.chrom.sizes\n",
    "\n",
    "# Convert Gtf to genePred\n",
    "./gtfToGenePred -genePredExt -geneNameAsName2 gencode_v38.gtf gencode_v38.genePred\n",
    "#Swap the Ensembl transcript ID for the geneID\n",
    "awk ' { t = $1; $1 = $12; $12 = t; print; } ' gencode_v38.genePred > gencode_v38_name.genePred\n",
    "# Convert genPred to bed12\n",
    "./genePredToBed gencode_v38_name.genePred gencode_v38.bed12\n",
    "# sort bed12\n",
    "sort -k1,1 -k2,2n gencode_v38.bed12 > /input_dir/corona_analysis/annotations/gencode_v38.sorted.bed\n",
    "#cleanup\n",
    "rm  \\\n",
    "    gencode_v38.genePred \\\n",
    "    gencode_v38.bed12 \\\n",
    "    gencode_v38.gtf \n"
   ]
  },
  {
   "cell_type": "markdown",
   "metadata": {},
   "source": [
    "### Repeats"
   ]
  },
  {
   "cell_type": "markdown",
   "metadata": {},
   "source": [
    "#### L1 elements"
   ]
  },
  {
   "cell_type": "code",
   "execution_count": null,
   "metadata": {},
   "outputs": [],
   "source": [
    "%%bash\n",
    "\n",
    "#Get LINE elements from L1Base2 all full length (>4500nt) in hg38 and flip to hg19\n",
    "# http://l1base.charite.de/BED/hsflil1_3836.bed == intact ones\n",
    "wget --quiet http://l1base.charite.de/BED/hsflnil1_8438_rm.bed\n",
    "sort-bed hsflnil1_8438_rm.bed > /input_dir/corona_analysis/annotations/hsflnil1_hg38_sorted.bed\n",
    "rm hsflnil1_8438_rm.bed\n"
   ]
  },
  {
   "cell_type": "code",
   "execution_count": null,
   "metadata": {},
   "outputs": [],
   "source": [
    "\n",
    "#LINE elements from hg38 to hg19\n",
    "liftover_bed(from_genome=\"hg38\",\n",
    "             to_genome=\"hg19\",\n",
    "             in_bed=\"/input_dir/corona_analysis/annotations/hsflnil1_hg38_sorted.bed\",\n",
    "             out_bed=\"/input_dir/corona_analysis/annotations/hsflnil1_hg19_sorted.bed\",\n",
    "            canonical_chrom_filter = True)\n",
    "\n"
   ]
  }
 ],
 "metadata": {
  "kernelspec": {
   "display_name": "Python 3",
   "language": "python",
   "name": "python3"
  },
  "language_info": {
   "codemirror_mode": {
    "name": "ipython",
    "version": 3
   },
   "file_extension": ".py",
   "mimetype": "text/x-python",
   "name": "python",
   "nbconvert_exporter": "python",
   "pygments_lexer": "ipython3",
   "version": "3.7.6"
  }
 },
 "nbformat": 4,
 "nbformat_minor": 4
}

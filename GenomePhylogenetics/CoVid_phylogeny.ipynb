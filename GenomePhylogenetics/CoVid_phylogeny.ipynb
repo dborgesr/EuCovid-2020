{
 "cells": [
  {
   "cell_type": "markdown",
   "metadata": {},
   "source": [
    "# Generate nice little phylogeny tree for CoVid\n",
    "\n",
    "Start w/ sequences from the [SARS NCBI database](https://www.ncbi.nlm.nih.gov/genbank/sars-cov-2-seqs/) and make a nice little Phylogeny and maybe a few multiple alignment views of key proteins / areas\n"
   ]
  },
  {
   "cell_type": "code",
   "execution_count": null,
   "metadata": {},
   "outputs": [],
   "source": [
    "CoVid_ncbi_all.fa"
   ]
  }
 ],
 "metadata": {
  "kernelspec": {
   "display_name": "Python 3",
   "language": "python",
   "name": "python3"
  },
  "language_info": {
   "codemirror_mode": {
    "name": "ipython",
    "version": 3
   },
   "file_extension": ".py",
   "mimetype": "text/x-python",
   "name": "python",
   "nbconvert_exporter": "python",
   "pygments_lexer": "ipython3",
   "version": "3.6.9"
  }
 },
 "nbformat": 4,
 "nbformat_minor": 4
}

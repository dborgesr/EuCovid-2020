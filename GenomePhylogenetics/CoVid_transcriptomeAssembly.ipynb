{
 "cells": [
  {
   "cell_type": "markdown",
   "metadata": {},
   "source": [
    "# Hybrid assemble CoVid transcriptome using RNAspades\n",
    "\n",
    "```  conda install -c bioconda spades ```"
   ]
  },
  {
   "cell_type": "code",
   "execution_count": null,
   "metadata": {},
   "outputs": [],
   "source": [
    "%%bash \n",
    "#Get DBS-seq that aligned to reference gRNA\n",
    "samtools fastq -c 6 -@ 8 \\\n",
    "    -1 Covid_aligned_reads_1.fq.gz \\\n",
    "    -2 Covid_aligned_reads_2.fq.gz \\\n",
    "    Covid_EPI_ISL_407193Aligned.sortedByCoord.out.bam"
   ]
  },
  {
   "cell_type": "code",
   "execution_count": null,
   "metadata": {},
   "outputs": [],
   "source": [
    "%%bash\n",
    "#Get nanopore reads which mapped\n",
    "samtools fastq -c 6 -@ 8 \\\n",
    "    -1 Covid_aligned_nanopore_reads_1.fq.gz \\\n",
    "    -2 Covid_aligned_nanopore_reads_2.fq.gz \\\n",
    "    Covid_EPI_ISL_407193_nanopore.sortedByCoord.out.bam"
   ]
  },
  {
   "cell_type": "code",
   "execution_count": null,
   "metadata": {},
   "outputs": [],
   "source": [
    " spades.py -o /input_dir/corona_analysis/transcriptome_assembly/ \\\n",
    "          --rna -1 t1.fq -2 t2.fq \\\n",
    "          --nanopore /input_dir/corona_analysis/VeroInf24h.all.fastq \\\n",
    "          -t 8 --trusted-contigs /input_dir/corona_analysis/annotations/EPI_ISL_407193_edit.fasta"
   ]
  }
 ],
 "metadata": {
  "kernelspec": {
   "display_name": "Python 3",
   "language": "python",
   "name": "python3"
  },
  "language_info": {
   "codemirror_mode": {
    "name": "ipython",
    "version": 3
   },
   "file_extension": ".py",
   "mimetype": "text/x-python",
   "name": "python",
   "nbconvert_exporter": "python",
   "pygments_lexer": "ipython3",
   "version": "3.6.9"
  }
 },
 "nbformat": 4,
 "nbformat_minor": 4
}

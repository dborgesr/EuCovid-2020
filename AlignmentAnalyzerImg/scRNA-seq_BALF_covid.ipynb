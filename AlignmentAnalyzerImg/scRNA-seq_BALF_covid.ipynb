{
 "cells": [
  {
   "cell_type": "markdown",
   "metadata": {},
   "source": [
    "## BALF CoVid data\n",
    "\n",
    "\n",
    "Found some good BALF CoVid data from [Single-cell landscape of bronchoalveolar immune cells in patients with COVID-19](https://www.nature.com/articles/s41591-020-0901-9)\n",
    "\n",
    "* SRR11181954 - BALF, C141\n"
   ]
  },
  {
   "cell_type": "code",
   "execution_count": null,
   "metadata": {},
   "outputs": [],
   "source": [
    "prefetch -o /input_dir/crispr_analysis/input_reads/pbmc/SRR11181954.sra SRR11181954\n"
   ]
  },
  {
   "cell_type": "code",
   "execution_count": null,
   "metadata": {},
   "outputs": [],
   "source": [
    "parallel-fastq-dump -t 8 --tmpdir /input_dir/crispr_analysis/temp/ \\\n",
    "    -s /input_dir/crispr_analysis/input_reads/pbmc/SRR11181954.sra \\\n",
    "    --dumpbase --clip --readids \\\n",
    "    --read-filter pass --split-files --origfmt \\\n",
    "    --outdir /input_dir/crispr_analysis/input_reads/pbmc\n"
   ]
  },
  {
   "cell_type": "code",
   "execution_count": null,
   "metadata": {},
   "outputs": [],
   "source": [
    "salmon alevin -l ISR \\\n",
    "              -1 SRR8718860_pass_1.fastq \\\n",
    "              -2 SRR8718860_pass_2.fastq \\\n",
    "              --chromium \\\n",
    "              -i /data_dir/corona_analysis/annotations/human/salmon_ann/salmon_hg38_index \\\n",
    "              -p 10 --dumpMtx \\\n",
    "              --mrna /data_dir/corona_analysis/annotations/human/gencode_mt.txt \\\n",
    "              --rrna /data_dir/corona_analysis/annotations/human/rRNA_ensembl.txt \\\n",
    "              -o /data_dir/crispr_analysis/alignment_out/pbmc/donor_2_1 \\\n",
    "              --tgMap /data_dir/corona_analysis/annotations/human/salmon_grch38_gencode_tran2gene.txt\n"
   ]
  }
 ],
 "metadata": {
  "kernelspec": {
   "display_name": "Python 3",
   "language": "python",
   "name": "python3"
  },
  "language_info": {
   "codemirror_mode": {
    "name": "ipython",
    "version": 3
   },
   "file_extension": ".py",
   "mimetype": "text/x-python",
   "name": "python",
   "nbconvert_exporter": "python",
   "pygments_lexer": "ipython3",
   "version": "3.9.1"
  }
 },
 "nbformat": 4,
 "nbformat_minor": 4
}

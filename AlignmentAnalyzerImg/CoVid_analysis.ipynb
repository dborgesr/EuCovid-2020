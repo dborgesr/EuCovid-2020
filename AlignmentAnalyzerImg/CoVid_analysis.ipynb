{
 "cells": [
  {
   "cell_type": "markdown",
   "metadata": {},
   "source": [
    "## CoViD-2 Pandemic analysis\n",
    "\n",
    "\n",
    "\n"
   ]
  },
  {
   "cell_type": "code",
   "execution_count": null,
   "metadata": {},
   "outputs": [],
   "source": [
    "%%bash\n",
    "#get sequence transcriptome data\n",
    "osf -p 8f6n9 fetch \"osfstorage/DNBseq/Vero-Infected/Vero_SCV2_1.fq0.zst\"\n",
    "osf -p 8f6n9 fetch \"osfstorage/DNBseq/Vero-Infected/Vero_SCV2_1.fq1.zst\"\n",
    "osf -p 8f6n9 fetch \"osfstorage/DNBseq/Vero-Infected/Vero_SCV2_1.fq2.zst\"\n",
    "osf -p 8f6n9 fetch \"osfstorage/DNBseq/Vero-Infected/Vero_SCV2_1.fq3.zst\"\n",
    "osf -p 8f6n9 fetch \"osfstorage/DNBseq/Vero-Infected/Vero_SCV2_1.fq4.zst\"\n",
    "osf -p 8f6n9 fetch \"osfstorage/DNBseq/Vero-Infected/Vero_SCV2_1.fq5.zst\"\n",
    "osf -p 8f6n9 fetch \"osfstorage/DNBseq/Vero-Infected/Vero_SCV2_1.fq6.zst\"\n",
    "osf -p 8f6n9 fetch \"osfstorage/DNBseq/Vero-Infected/Vero_SCV2_2.fq0.zst\"\n",
    "osf -p 8f6n9 fetch \"osfstorage/DNBseq/Vero-Infected/Vero_SCV2_2.fq1.zst\"\n",
    "osf -p 8f6n9 fetch \"osfstorage/DNBseq/Vero-Infected/Vero_SCV2_2.fq2.zst\"\n",
    "osf -p 8f6n9 fetch \"osfstorage/DNBseq/Vero-Infected/Vero_SCV2_2.fq3.zst\"\n",
    "osf -p 8f6n9 fetch \"osfstorage/DNBseq/Vero-Infected/Vero_SCV2_2.fq4.zst\"\n",
    "osf -p 8f6n9 fetch \"osfstorage/DNBseq/Vero-Infected/Vero_SCV2_2.fq5.zst\"\n",
    "osf -p 8f6n9 fetch \"osfstorage/DNBseq/Vero-Infected/Vero_SCV2_2.fq6.zst\"\n",
    "\n",
    "#get junctions table\n",
    "osf -p 8f6n9 fetch \"osfstorage/SupplementaryTables/Table S2.xlsx\"\n"
   ]
  },
  {
   "cell_type": "code",
   "execution_count": 2,
   "metadata": {},
   "outputs": [],
   "source": [
    "#Get junctions from paper into pandas and spit out as bed file\n",
    "\n",
    "import pandas as pd\n",
    "\n",
    "jxs_covid = pd.read_excel(\"/input_dir/corona_analysis/Table_s2_junctions.xlsx\")"
   ]
  },
  {
   "cell_type": "code",
   "execution_count": 3,
   "metadata": {},
   "outputs": [],
   "source": [
    "#Make bed files for covid junctions\n",
    "jx_read_thresh = 5000\n",
    "bed_out_jx = \"/input_dir/corona_analysis/annotations/jx_s2_covid.bed\"\n",
    "\n",
    "with open(bed_out_jx,\"w\") as bed_out:\n",
    "    for index, row in jxs_covid.iterrows():\n",
    "        if (row[\"count\"] > jx_read_thresh):\n",
    "            b = (\"hCoV-19/South_Korea/KCDC03/2020|EPI_ISL_407193\" + \n",
    "                 \"\\t\" + str(row[\"5' site\"]) + \n",
    "                 \"\\t\" + str(row[\"3' site\"]) +\n",
    "                 \"\\t\" + \".\" + \"\\n\")\n",
    "            bed_out.write(b)\n",
    "        "
   ]
  },
  {
   "cell_type": "code",
   "execution_count": null,
   "metadata": {},
   "outputs": [],
   "source": [
    "%%bash\n",
    "\n",
    "#Flip junctions bed file to gtf\n",
    "bedToGenePred /input_dir/corona_analysis/annotations/jx_s2_covid.bed stdout \\\n",
    "| genePredToGtf file stdin /input_dir/corona_analysis/annotations/jx_s2_covid.gtf\n"
   ]
  },
  {
   "cell_type": "code",
   "execution_count": null,
   "metadata": {},
   "outputs": [],
   "source": [
    "%%bash\n",
    "# Align Nanopore called fq reads to GISAID: EPI_ISL_407193 using minimap2\n",
    "minimap2 -k 8 -w 1 --splice -g 30000 -G 30000 -A1 -B2 -O2,24 \\\n",
    "         -E1,0 -C0 -z 400,200 --no-end-flt --junc-bonus=100 \\\n",
    "         -F 40000 -N 32 --splice-flank=no --max-chain-skip=40 \\\n",
    "         -un --junc-bed=/input_dir/corona_analysis/annotations/jx_s2_covid.bed -p 0.7 -t 16 -a \\\n",
    "            /input_dir/corona_analysis/annotations/EPI_ISL_407193_edit.fasta \\\n",
    "            /input_dir/corona_analysis/VeroInf24h.all.fastq \\\n",
    "            | samtools sort -T /input_dir/corona_analysis/temp -@ 8 \\\n",
    "            | samtools view -hbS - > /input_dir/corona_analysis/alignment_out/Covid_EPI_ISL_407193_nanopore.bam\n",
    "        "
   ]
  },
  {
   "cell_type": "code",
   "execution_count": null,
   "metadata": {},
   "outputs": [],
   "source": [
    "%%bash\n",
    "#Generate genome indices for STAR\n",
    "STAR --runThreadN 16 \\\n",
    "     --runMode genomeGenerate \\\n",
    "     --genomeDir /input_dir/corona_analysis/annotations/STAR_ix \\\n",
    "     --genomeFastaFiles /input_dir/corona_analysis/annotations/EPI_ISL_407193_edit.fasta \\\n",
    "     --sjdbGTFfile /input_dir/corona_analysis/annotations/jx_s2_covid.gtf \\\n",
    "     --sjdbOverhang 99 --genomeSAindexNbases 8\n",
    "    "
   ]
  },
  {
   "cell_type": "code",
   "execution_count": null,
   "metadata": {},
   "outputs": [],
   "source": [
    "%%bash\n",
    "#Align DNBSeq output to Covid genome using STAR\n",
    "\n",
    "STAR --runMode alignReads --outFilterType BySJout --outFilterMultimapNmax 20 \\\n",
    "     --alignSJoverhangMin 8 --outSJfilterOverhangMin 12 12 12 12 \\\n",
    "     --outSJfilterCountUniqueMin 1 1 1 1 --outSJfilterCountTotalMin 1 1 1 1 \\\n",
    "     --outSJfilterDistToOtherSJmin 0 0 0 0 --outFilterMismatchNmax 999 \\\n",
    "     --outFilterMismatchNoverReadLmax 0.04 --scoreGapNoncan -4 \\\n",
    "     --scoreGapATAC -4 --chimOutType WithinBAM HardClip \\\n",
    "     --genomeDir /input_dir/corona_analysis/annotations/STAR_ix \\\n",
    "     --chimScoreJunctionNonGTAG 0 --alignSJstitchMismatchNmax -1 -1 -1 -1 \\\n",
    "     --alignIntronMin 20 --alignIntronMax 1000000 --alignMatesGapMax 1000000 \\\n",
    "     --outSAMtype BAM SortedByCoordinate --runThreadN 16 \\\n",
    "     --outFileNamePrefix /input_dir/corona_analysis/alignment_out/Covid_EPI_ISL_407193 \\\n",
    "     --outTmpDir /input_dir/corona_analysis/temp/star \\\n",
    "     --outReadsUnmapped Fastx --limitBAMsortRAM 18000000000 \\\n",
    "     --outWigType wiggle --readFilesCommand zstdcat \\\n",
    "     --readFilesIn /input_dir/corona_analysis/Vero_SCV2_1.fq_all.zst /input_dir/corona_analysis/Vero_SCV2_2.fq_all.zst\n"
   ]
  }
 ],
 "metadata": {
  "kernelspec": {
   "display_name": "Python 3",
   "language": "python",
   "name": "python3"
  },
  "language_info": {
   "codemirror_mode": {
    "name": "ipython",
    "version": 3
   },
   "file_extension": ".py",
   "mimetype": "text/x-python",
   "name": "python",
   "nbconvert_exporter": "python",
   "pygments_lexer": "ipython3",
   "version": "3.8.2"
  }
 },
 "nbformat": 4,
 "nbformat_minor": 4
}

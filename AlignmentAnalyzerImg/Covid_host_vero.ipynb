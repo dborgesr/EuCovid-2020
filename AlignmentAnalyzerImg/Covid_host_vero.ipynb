{
 "cells": [
  {
   "cell_type": "markdown",
   "metadata": {},
   "source": [
    "## Analysis "
   ]
  },
  {
   "cell_type": "code",
   "execution_count": null,
   "metadata": {},
   "outputs": [],
   "source": [
    "%%bash\n",
    "# Download african green monkey genome and gene annotations\n",
    "\n",
    "#Make African monkey annotation dir\n",
    "mkdir /input_dir/corona_analysis/annotations/AGM\n",
    "cd /input_dir/corona_analysis/annotations/AGM"
   ]
  },
  {
   "cell_type": "code",
   "execution_count": 1,
   "metadata": {},
   "outputs": [],
   "source": [
    "%%bash\n",
    "#Make african green monkey genome from chromosomes fa, no primary_assembly file \n",
    "cd /input_dir/corona_analysis/annotations/AGM/\n",
    "array=( 1 2 3 4 5 6 7 8 9 10 11 12 13 14 15 16 17 18 19 20 21 22 23 24 25 26 27 28 29 X Y MT )\n",
    "for i in \"${array[@]}\"\n",
    "do\n",
    "    curl -s -L ftp://ftp.ensembl.org/pub/release-99/fasta/chlorocebus_sabaeus/dna/Chlorocebus_sabaeus.ChlSab1.1.dna_rm.chromosome.\"$i\".fa.gz > \\\n",
    "        Chlorocebus_sabaeus.ChlSab1.1.dna_rm.chromosome.\"$i\".fa.gz   \n",
    "done\n",
    "\n",
    "cat Chlorocebus_sabaeus.ChlSab1.1.dna_rm.chromosome.*.fa.gz > Chlorocebus_sabaeus.ChlSab1.1.dna_rm.all_chr.fa.gz\n",
    "gunzip Chlorocebus_sabaeus.ChlSab1.1.dna_rm.all_chr.fa.gz"
   ]
  },
  {
   "cell_type": "code",
   "execution_count": null,
   "metadata": {},
   "outputs": [],
   "source": [
    "%%bash\n",
    "#Get gene annotation\n",
    "curl -s -L ftp://ftp.ensembl.org/pub/release-99/gtf/chlorocebus_sabaeus/Chlorocebus_sabaeus.ChlSab1.1.99.gtf.gz > \\\n",
    "    Chlorocebus_sabaeus.ChlSab1.1.99.gtf.gz\n",
    "gunzip Chlorocebus_sabaeus.ChlSab1.1.99.gtf.gz\n",
    "\n",
    "    "
   ]
  },
  {
   "cell_type": "markdown",
   "metadata": {},
   "source": [
    "# Get reference transcriptome for vero cells\n",
    "\n",
    "* DRX017021 - DRR018832\n",
    "* DRX017022 - DRR018833\n",
    "* DRX017023 - DRR018834\n",
    "* DRX017024 - DRR018835\n"
   ]
  },
  {
   "cell_type": "code",
   "execution_count": null,
   "metadata": {},
   "outputs": [],
   "source": [
    "%%bash\n",
    "##prefetch SRA files\n",
    "prefetch -o /input_dir/corona_analysis/input_reads/DRX017021.sra DRX017021\n",
    "prefetch -o /input_dir/corona_analysis/input_reads/DRX017022.sra DRX017022\n",
    "prefetch -o /input_dir/corona_analysis/input_reads/DRX017023.sra DRX017023\n",
    "prefetch -o /input_dir/corona_analysis/input_reads/DRX017024.sra DRX017024\n"
   ]
  },
  {
   "cell_type": "code",
   "execution_count": null,
   "metadata": {},
   "outputs": [],
   "source": [
    "%%bash\n",
    "#Unpack SRA files, toss technicals, zip into fq.gz files\n",
    "parallel-fastq-dump -t 8 --tmpdir /input_dir/corona_analysis/temp/ \\\n",
    "    -s /input_dir/corona_analysis/input_reads/DRX017021.sra \\\n",
    "    --dumpbase --clip --gzip --skip-technical --readids \\\n",
    "    --read-filter pass --split-files \\\n",
    "    --outdir /input_dir/corona_analysis/input_reads/\n",
    "\n",
    "parallel-fastq-dump -t 8 --tmpdir /input_dir/corona_analysis/temp/ \\\n",
    "    -s /input_dir/corona_analysis/input_reads/DRX017022.sra \\\n",
    "    --dumpbase --clip --gzip --skip-technical --readids \\\n",
    "    --read-filter pass --split-files \\\n",
    "    --outdir /input_dir/corona_analysis/input_reads/\n",
    "\n",
    "parallel-fastq-dump -t 8 --tmpdir /input_dir/corona_analysis/temp/ \\\n",
    "    -s /input_dir/corona_analysis/input_reads/DRX017023.sra \\\n",
    "    --dumpbase --clip --gzip --skip-technical --readids \\\n",
    "    --read-filter pass --split-files \\\n",
    "    --outdir /input_dir/corona_analysis/input_reads/\n",
    "\n",
    "parallel-fastq-dump -t 8 --tmpdir /input_dir/corona_analysis/temp/ \\\n",
    "    -s /input_dir/corona_analysis/input_reads/DRX017024.sra \\\n",
    "    --dumpbase --clip --gzip --skip-technical --readids \\\n",
    "    --read-filter pass --split-files \\\n",
    "    --outdir /input_dir/corona_analysis/input_reads/\n"
   ]
  },
  {
   "cell_type": "code",
   "execution_count": null,
   "metadata": {},
   "outputs": [],
   "source": [
    "# Filter reads and QC runs using Fastp\n",
    "\n",
    "fastp -p 8 -i /input_dir/corona_analysis/input_reads/DRX017021_pass_1.fastq.gz \\\n",
    "      -I /input_dir/corona_analysis/input_reads/DRX017021_pass_2.fastq.gz \\\n",
    "      -o /input_dir/corona_analysis/input_reads/DRX017021_filt_1.fastq.gz \\\n",
    "      -O /input_dir/corona_analysis/input_reads/DRX017021_filt_2.fastq.gz \\\n",
    "      -h /input_dir/corona_analysis/input_reads/DRX017021_fastp.html \\\n",
    "      -j /input_dir/corona_analysis/input_reads/DRX017021_fastp.json \n",
    "\n",
    "fastp -p 8 -i /input_dir/corona_analysis/input_reads/DRX017022_pass_1.fastq.gz \\\n",
    "      -I /input_dir/corona_analysis/input_reads/DRX017022_pass_2.fastq.gz \\\n",
    "      -o /input_dir/corona_analysis/input_reads/DRX017022_filt_1.fastq.gz \\\n",
    "      -O /input_dir/corona_analysis/input_reads/DRX017022_filt_2.fastq.gz \\\n",
    "      -h /input_dir/corona_analysis/input_reads/DRX017022_fastp.html \\\n",
    "      -j /input_dir/corona_analysis/input_reads/DRX017022_fastp.json \n",
    "\n",
    "fastp -p 8 -i /input_dir/corona_analysis/input_reads/DRX017023_pass_1.fastq.gz \\\n",
    "      -I /input_dir/corona_analysis/input_reads/DRX017023_pass_2.fastq.gz \\\n",
    "      -o /input_dir/corona_analysis/input_reads/DRX017023_filt_1.fastq.gz \\\n",
    "      -O /input_dir/corona_analysis/input_reads/DRX017023_filt_2.fastq.gz \\\n",
    "      -h /input_dir/corona_analysis/input_reads/DRX017023_fastp.html \\\n",
    "      -j /input_dir/corona_analysis/input_reads/DRX017023_fastp.json \n",
    "\n",
    "fastp -p 8 -i /input_dir/corona_analysis/input_reads/DRX017024_pass_1.fastq.gz \\\n",
    "      -I /input_dir/corona_analysis/input_reads/DRX017024_pass_2.fastq.gz \\\n",
    "      -o /input_dir/corona_analysis/input_reads/DRX017024_filt_1.fastq.gz \\\n",
    "      -O /input_dir/corona_analysis/input_reads/DRX017024_filt_2.fastq.gz \\\n",
    "      -h /input_dir/corona_analysis/input_reads/DRX017024_fastp.html \\\n",
    "      -j /input_dir/corona_analysis/input_reads/DRX017024_fastp.json \n"
   ]
  },
  {
   "cell_type": "code",
   "execution_count": null,
   "metadata": {},
   "outputs": [],
   "source": [
    "%%bash\n",
    "\n",
    "#Align vero transcriptome control reads to AGM transcriptome using STAR\n",
    "#Note sjdbOverhang is wrong for this dataset, read length here is 80bp while in other 100bp\n",
    "cd /input_dir/corona_analysis/input_reads/\n",
    "STAR --runMode alignReads      \\\n",
    "     --genomeDir /input_dir/corona_analysis/annotations/AGM/STAR_ix \\\n",
    "     --outSAMtype BAM SortedByCoordinate --runThreadN 14 \\\n",
    "     --outFileNamePrefix /input_dir/corona_analysis/alignment_out/AGM_vero_control\\\n",
    "     --outTmpDir /input_dir/corona_analysis/temp/star2\\\n",
    "     --outReadsUnmapped Fastx --limitBAMsortRAM 25000000000\\\n",
    "     --outWigType wiggle --quantMode TranscriptomeSAM   --readFilesCommand zcat \\\n",
    "     --readFilesIn DRX017021_filt_1.fastq.gz,DRX017022_filt_1.fastq.gz,DRX017023_filt_1.fastq.gz,DRX017024_filt_1.fastq.gz \\\n",
    "                   DRX017021_filt_2.fastq.gz,DRX017022_filt_2.fastq.gz,DRX017023_filt_2.fastq.gz,DRX017024_filt_2.fastq.gz\n"
   ]
  },
  {
   "cell_type": "code",
   "execution_count": null,
   "metadata": {},
   "outputs": [],
   "source": [
    "%%bash \n",
    "\n",
    "#Quantify control vero transcriptome using RSEM\n",
    "rsem-calculate-expression --paired-end \\\n",
    "                       --alignments \\\n",
    "                       -p 14 --no-bam-output \\\n",
    "                       AGM_vero_controlAligned.toTranscriptome.out.bam \\\n",
    "                      /input_dir/corona_analysis/annotations/AGM/RSEM_ix/Chlorocebus_sabaeus_rsem \\\n",
    "                       AGM_rsem_control_vero\n"
   ]
  },
  {
   "cell_type": "code",
   "execution_count": null,
   "metadata": {},
   "outputs": [],
   "source": [
    "%%bash\n",
    "#Generate genome indices for STAR\n",
    "mkdir /input_dir/corona_analysis/annotations/AGM/STAR_ix\n",
    "STAR --runThreadN 16 \\\n",
    "     --runMode genomeGenerate \\\n",
    "     --genomeDir /input_dir/corona_analysis/annotations/AGM/STAR_ix \\\n",
    "     --genomeFastaFiles /input_dir/corona_analysis/annotations/AGM/Chlorocebus_sabaeus.ChlSab1.1.dna_rm.all_chr.fa \\\n",
    "     --sjdbGTFfile /input_dir/corona_analysis/annotations/AGM/Chlorocebus_sabaeus.ChlSab1.1.99.gtf \\\n",
    "     --sjdbOverhang 99 --limitGenomeGenerateRAM 18000000000\n"
   ]
  },
  {
   "cell_type": "code",
   "execution_count": null,
   "metadata": {},
   "outputs": [],
   "source": [
    "%%bash\n",
    "#Align reads that didn't map to covid to AGM transcriptome\n",
    "STAR --runMode alignReads \\\n",
    "     --genomeDir /input_dir/corona_analysis/annotations/AGM/STAR_ix \\\n",
    "     --outSAMtype BAM SortedByCoordinate --runThreadN 14 \\\n",
    "     --outFileNamePrefix /input_dir/corona_analysis/alignment_out/AGM_host_GCF_000409795 \\\n",
    "     --outTmpDir /input_dir/corona_analysis/temp/star \\\n",
    "     --outReadsUnmapped Fastx --limitBAMsortRAM 25000000000 \\\n",
    "     --outWigType wiggle --quantMode TranscriptomeSAM \\\n",
    "     --readFilesIn /input_dir/corona_analysis/alignment_out/Covid_EPI_ISL_407193Unmapped.out.mate1 \\\n",
    "                   /input_dir/corona_analysis/alignment_out/Covid_EPI_ISL_407193Unmapped.out.mate2\n"
   ]
  },
  {
   "cell_type": "markdown",
   "metadata": {},
   "source": [
    "# Use  RSEM to quantify"
   ]
  },
  {
   "cell_type": "code",
   "execution_count": null,
   "metadata": {},
   "outputs": [],
   "source": [
    "rsem-prepare-reference --gtf /input_dir/corona_analysis/annotations/AGM/Chlorocebus_sabaeus.ChlSab1.1.99.gtf  \\\n",
    "                       /input_dir/corona_analysis/annotations/AGM/Chlorocebus_sabaeus.ChlSab1.1.dna_rm.all_chr.fa \\\n",
    "                       /input_dir/corona_analysis/annotations/AGM/RSEM_ix/Chlorocebus_sabaeus_rsem"
   ]
  },
  {
   "cell_type": "code",
   "execution_count": null,
   "metadata": {},
   "outputs": [],
   "source": [
    "rsem-calculate-expression --paired-end \\\n",
    "                       --alignments \\\n",
    "                       -p 14 --no-bam-output \\\n",
    "                       AGM_host_GCF_000409795Aligned.toTranscriptome.out.bam \\\n",
    "                      /input_dir/corona_analysis/annotations/AGM/RSEM_ix/Chlorocebus_sabaeus_rsem \\\n",
    "                       AGM_rsem_corona_vero"
   ]
  },
  {
   "cell_type": "markdown",
   "metadata": {},
   "source": [
    "# Differential expression between vero normal and infecteed"
   ]
  },
  {
   "cell_type": "code",
   "execution_count": null,
   "metadata": {},
   "outputs": [],
   "source": [
    "rsem-generate-data-matrix AGM_rsem_control_vero.genes.results AGM_rsem_corona_vero.genes.results > AGM_rsem_counts.txt"
   ]
  },
  {
   "cell_type": "markdown",
   "metadata": {},
   "source": [
    "``` conda install -c conda-forge readline=6.* ```"
   ]
  },
  {
   "cell_type": "code",
   "execution_count": null,
   "metadata": {},
   "outputs": [],
   "source": [
    "rsem-run-ebseq AGM_rsem_counts.txt 1,1 AGM_corona_geneDiff_rsem"
   ]
  },
  {
   "cell_type": "code",
   "execution_count": null,
   "metadata": {},
   "outputs": [],
   "source": [
    "#Use mygene to flip to symbols and find mappings between there and human"
   ]
  }
 ],
 "metadata": {
  "kernelspec": {
   "display_name": "Python 3",
   "language": "python",
   "name": "python3"
  },
  "language_info": {
   "codemirror_mode": {
    "name": "ipython",
    "version": 3
   },
   "file_extension": ".py",
   "mimetype": "text/x-python",
   "name": "python",
   "nbconvert_exporter": "python",
   "pygments_lexer": "ipython3",
   "version": "3.9.1"
  }
 },
 "nbformat": 4,
 "nbformat_minor": 4
}

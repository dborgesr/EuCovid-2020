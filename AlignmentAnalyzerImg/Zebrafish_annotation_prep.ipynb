{
 "cells": [
  {
   "cell_type": "markdown",
   "metadata": {},
   "source": [
    "\n",
    "## Make zebrafish genome annotation directory\n",
    "\n",
    "## Get zebrafish genome fasta\n",
    "\n",
    "Get zebrafish fasta file using 2bit from UCSC\n",
    "\n",
    "## Get zebrafish gene annotations\n",
    "\n",
    "Get zebrafish gene annotations in GTF form from Gencode (v33)\n"
   ]
  },
  {
   "cell_type": "code",
   "execution_count": null,
   "metadata": {},
   "outputs": [],
   "source": [
    "%%bash\n",
    "\n",
    "mkdir -p /data_dir/zebrafish_experiments/annotations/zebrafish\n",
    "cd /data_dir/zebrafish_experiments/annotations/zebrafish\n"
   ]
  },
  {
   "cell_type": "code",
   "execution_count": null,
   "metadata": {},
   "outputs": [],
   "source": [
    "%%bash\n",
    "\n",
    "ANNOTATION_DIR=\"/data_dir/zebrafish_experiments/annotations/zebrafish/\"\n",
    "curl -s -L ftp://ftp.ensembl.org/pub/release-99/fasta/danio_rerio/dna/Danio_rerio.GRCz11.dna_sm.primary_assembly.fa.gz > \\\n",
    "    $ANNOTATION_DIR\"Danio_rerio.GRCz11.dna_sm.primary_assembly.fa.gz\"\n",
    "gunzip $ANNOTATION_DIR\"Danio_rerio.GRCz11.dna_sm.primary_assembly.fa.gz\"\n",
    "#Toss everything except canonical chromosomes\n",
    "awk \"/^>/ {n++} n>27 {exit} {print}\" $ANNOTATION_DIR\"Danio_rerio.GRCz11.dna_sm.primary_assembly.fa\" > GRCz11_filt_dna_sm.fa\n"
   ]
  },
  {
   "cell_type": "code",
   "execution_count": null,
   "metadata": {},
   "outputs": [],
   "source": [
    "%%bash\n",
    "curl -s -L ftp://ftp.ensembl.org/pub/release-99/gtf/danio_rerio/Danio_rerio.GRCz11.99.gtf.gz > \\\n",
    "    $ANNOTATION_DIR\"Danio_rerio.GRCz11.99.gtf.gz\"\n",
    "gunzip $ANNOTATION_DIR\"Danio_rerio.GRCz11.99.gtf.gz\""
   ]
  },
  {
   "cell_type": "markdown",
   "metadata": {},
   "source": [
    "## Download whitelist for chromiums\n"
   ]
  },
  {
   "cell_type": "code",
   "execution_count": null,
   "metadata": {},
   "outputs": [],
   "source": [
    "%%bash\n",
    "#V2\n",
    "curl -s -L https://raw.githubusercontent.com/10XGenomics/cellranger/master/lib/python/cellranger/barcodes/737K-august-2016.txt > \\\n",
    "     /data_dir/zebrafish_experiments/annotations/Chromium_v2_barcodes.txt\n",
    "\n",
    "#V3\n",
    "curl -s -L https://github.com/10XGenomics/cellranger/raw/master/lib/python/cellranger/barcodes/3M-february-2018.txt.gz > \\\n",
    "     /data_dir/zebrafish_experiments/annotations/Chromium_v3_barcodes.txt.gz\n",
    "gunzip /data_dir/zebrafish_experiments/annotations/Chromium_v3_barcodes.txt.gz\n"
   ]
  },
  {
   "cell_type": "markdown",
   "metadata": {},
   "source": [
    "# Make genome annotations for STAR and RSEM\n"
   ]
  },
  {
   "cell_type": "code",
   "execution_count": null,
   "metadata": {},
   "outputs": [],
   "source": [
    "%%bash\n",
    "#Generate genome indices for STAR\n",
    "mkdir -p /data_dir/zebrafish_experiments/annotations/zebrafish/STAR_ix\n",
    "STAR --runThreadN 12 \\\n",
    "     --runMode genomeGenerate --outTmpDir /data_dir/zebrafish_experiments/temp/star_tmp \\\n",
    "     --genomeDir /data_dir/zebrafish_experiments/annotations/zebrafish/STAR_ix \\\n",
    "     --genomeFastaFiles /data_dir/zebrafish_experiments/annotations/zebrafish/GRCz11_filt_dna_sm.fa \\\n",
    "     --sjdbGTFfile /data_dir/zebrafish_experiments/annotations/zebrafish/Danio_rerio.GRCz11.99.gtf \\\n",
    "     --sjdbOverhang 149 --limitGenomeGenerateRAM 30000000000 --genomeSAsparseD 2\n"
   ]
  },
  {
   "cell_type": "code",
   "execution_count": null,
   "metadata": {},
   "outputs": [],
   "source": [
    "%%bash\n",
    "\n",
    "#Generate genome annotations for RSEM\n",
    "rsem-prepare-reference --gtf /data_dir/zebrafish_experiments/annotations/zebrafish/Danio_rerio.GRCz11.99.gtf  \\\n",
    "                       /data_dir/zebrafish_experiments/annotations/zebrafish/GRCz11_filt_dna_sm.fa \\\n",
    "                       /data_dir/zebrafish_experiments/annotations/zebrafish/STAR_ix \n"
   ]
  },
  {
   "cell_type": "markdown",
   "metadata": {},
   "source": [
    "# Generate annotation for Alevin scRNA-seq analysis"
   ]
  },
  {
   "cell_type": "code",
   "execution_count": 4,
   "metadata": {},
   "outputs": [
    {
     "name": "stderr",
     "output_type": "stream",
     "text": [
      "gzip: Danio_rerio.GRCz11.dna_rm.primary_assembly.fa already exists;\tnot overwritten\n"
     ]
    }
   ],
   "source": [
    "%%bash\n",
    "\n",
    "cd /data_dir/zebrafish_experiments/annotations/zebrafish/\n",
    "\n",
    "#Get hard masked GRCz11 genome and filter for only canonical chromosomes\n",
    "curl -s -L ftp://ftp.ensembl.org/pub/release-99/fasta/danio_rerio/dna/Danio_rerio.GRCz11.dna_rm.primary_assembly.fa.gz > \\\n",
    "    /data_dir/zebrafish_experiments/annotations/zebrafish/Danio_rerio.GRCz11.dna_rm.primary_assembly.fa.gz\n",
    "gunzip Danio_rerio.GRCz11.dna_rm.primary_assembly.fa.gz\n",
    "#Toss everything except canonical chromosomes\n",
    "awk \"/^>/ {n++} n>26 {exit} {print}\"  /data_dir/zebrafish_experiments/annotations/zebrafish/Danio_rerio.GRCz11.dna_rm.primary_assembly.fa > GRCz11_filt_dna_rm.fa\n",
    "#Get list of decoy sequences for salmon\n",
    "grep \"^>\" GRCz11_filt_dna_rm.fa | cut -d \" \" -f 1 > decoys.txt\n",
    "sed -i.bak -e 's/>//g' decoys.txt\n"
   ]
  },
  {
   "cell_type": "code",
   "execution_count": 6,
   "metadata": {},
   "outputs": [
    {
     "name": "stderr",
     "output_type": "stream",
     "text": [
      "gzip: Danio_rerio.GRCz11.cdna.all.fa already exists;\tnot overwritten\n"
     ]
    }
   ],
   "source": [
    "%%bash\n",
    "\n",
    "cd /data_dir/zebrafish_experiments/annotations/zebrafish/\n",
    "#Get cDNA of transcripts for GRCz11\n",
    "curl -s -L http://ftp.ensembl.org/pub/release-99/fasta/danio_rerio/cdna/Danio_rerio.GRCz11.cdna.all.fa.gz > \\\n",
    "    Danio_rerio.GRCz11.cdna.all.fa.gz\n",
    "gunzip Danio_rerio.GRCz11.cdna.all.fa.gz\n",
    "\n",
    "#Filter the transcripts for only those in STAR \n",
    "cut -f 1 /data_dir/zebrafish_experiments/annotations/zebrafish/STAR_ix/transcriptInfo.tab | tail -n +2 > in_enst_names.txt\n",
    "awk '{ if ((NR>1)&&($0~/^>/)) { printf(\"\\n%s\", $0); } else if (NR==1) { printf(\"%s\", $0); } else { printf(\"\\t%s\", $0); } }' \\\n",
    "    Danio_rerio.GRCz11.cdna.all.fa \\\n",
    "    | grep -Ff in_enst_names.txt - \\\n",
    "    | tr \"\\t\" \"\\n\" > GRCz11_cdna_filt.fa\n",
    "\n",
    "# coding_genes_hgnc.txt = list of all HGNC protein coding symbols from Biomart using \"protein_coding\" filter\n",
    "#Filter the transcripts to ONLY protein coding\n",
    "awk '{ if ((NR>1)&&($0~/^>/)) { printf(\"\\n%s\", $0); } else if (NR==1) { printf(\"%s\", $0); } else { printf(\"\\t%s\", $0); } }' \\\n",
    "    GRCz11_cdna_filt.fa \\\n",
    "    | grep -Ff zebra_hgnc_protein.txt - \\\n",
    "    | tr \"\\t\" \"\\n\" > GRCz11_cdna_coding_filt.fa\n"
   ]
  },
  {
   "cell_type": "markdown",
   "metadata": {},
   "source": [
    "### Get cDNA rRNA from \n",
    "\n",
    "https://m.ensembl.org/biomart/martview\n",
    "\n",
    "drop sequences in: GRCz11_cDNA_rRNA.fa rememember, JUST ensembl transcript ID w/ version!\n",
    "\n"
   ]
  },
  {
   "cell_type": "code",
   "execution_count": 22,
   "metadata": {},
   "outputs": [],
   "source": [
    "%%bash\n",
    "#Make gentrome for Salmon\n",
    "#mkdir /data_dir/zebrafish_experiments/annotations/zebrafish/salmon_ann\n",
    "cd /data_dir/zebrafish_experiments/annotations/zebrafish/salmon_ann\n",
    "cat /data_dir/zebrafish_experiments/annotations/zebrafish/GRCz11_cdna_coding_filt.fa \\\n",
    "    /data_dir/zebrafish_experiments/annotations/zebrafish/GRCz11_cDNA_rRNA.fa \\\n",
    "    /data_dir/zebrafish_experiments/annotations/zebrafish/GRCz11_filt_dna_rm.fa \\\n",
    "    > gentrome_GRCz11_filt.fa \n",
    "\n",
    "#Full cdna file: Homo_sapiens.GRCh38.cdna.all.fa\n",
    "#Filtered cdna file: Hg38_cdna_coding_filt.fa\n"
   ]
  },
  {
   "cell_type": "code",
   "execution_count": null,
   "metadata": {},
   "outputs": [],
   "source": [
    "%%bash\n",
    "#Reduce ram used w/ sparse\n",
    "salmon index --sparse -t gentrome_GRCz11_filt.fa -d ../decoys.txt -p 14 -i salmon_GRCz11_index\n"
   ]
  },
  {
   "cell_type": "code",
   "execution_count": 29,
   "metadata": {},
   "outputs": [],
   "source": [
    "gtf_parse = \"/data_dir/zebrafish_experiments/annotations/zebrafish/Danio_rerio.GRCz11.99.gtf\"\n",
    "mt_tran_out = \"/data_dir/zebrafish_experiments/annotations/zebrafish/gencode_mt.txt\"\n",
    "out_tran_map = \"/data_dir/zebrafish_experiments/annotations/zebrafish/salmon_GRCz11_gencode_tran2gene.txt\"\n",
    "\n",
    "tran_gene_dict = dict()\n",
    "tran_name_dict = dict()\n",
    "\n",
    "with open(gtf_parse, \"r\") as gene_in:\n",
    "    with open(mt_tran_out,\"w\") as mito_out:\n",
    "        for line in gene_in:\n",
    "            if line.startswith(\"#\"):\n",
    "                continue\n",
    "            else:\n",
    "                arr = line.strip().split(\"\\t\")\n",
    "                if (arr[2] == \"transcript\"):\n",
    "                    tmp_arr = arr[-1].strip(';').strip().split(\";\")\n",
    "                    tmp_arr = tmp_arr[:-1]\n",
    "                    arr_tran = [feature.strip().split(\" \") for feature in tmp_arr]\n",
    "                    cur_tran_dict = {key: value for (key, value) in arr_tran}\n",
    "                    tran_gene_dict[cur_tran_dict[\"transcript_id\"]+\".\"+cur_tran_dict[\"transcript_version\"]] = cur_tran_dict[\"gene_id\"]+\".\"+cur_tran_dict[\"gene_version\"]\n",
    "                    tran_name_dict[cur_tran_dict[\"transcript_id\"]+\".\"+cur_tran_dict[\"transcript_version\"]] = cur_tran_dict[\"gene_name\"]\n",
    "\n",
    "                    if arr[0] == \"MT\":\n",
    "                        mito_out.write(cur_tran_dict[\"transcript_id\"].strip(\"\\\"\")+\".\"+cur_tran_dict[\"transcript_version\"].strip(\"\\\"\") + \"\\n\")\n",
    "                        \n",
    "                        \n",
    "\n",
    "with open(out_tran_map, \"w\") as kal_tran:\n",
    "    for tran in tran_gene_dict.keys():\n",
    "        out_line = tran.replace(\"\\\"\",\"\") + \"\\t\" + tran_gene_dict[tran].replace(\"\\\"\",\"\") + \"\\n\"\n",
    "        kal_tran.write(out_line)\n",
    "        "
   ]
  },
  {
   "cell_type": "code",
   "execution_count": 30,
   "metadata": {},
   "outputs": [],
   "source": [
    "%%bash\n",
    "\n",
    "#Add rRNA to transcript2gene map\n",
    "grep \">\" /data_dir/zebrafish_experiments/annotations/zebrafish/GRCz11_cDNA_rRNA.fa | \\\n",
    "    sed 's/>//' | awk '{print $1 \"\\t\" $1}' \\\n",
    "    >> /data_dir/zebrafish_experiments/annotations/zebrafish/salmon_GRCz11_gencode_tran2gene.txt\n"
   ]
  },
  {
   "cell_type": "code",
   "execution_count": 31,
   "metadata": {},
   "outputs": [],
   "source": [
    "%%bash\n",
    "\n",
    "#Get transcript IDs of rRNA w/ version ID\n",
    "grep \">\" /data_dir/zebrafish_experiments/annotations/zebrafish/GRCz11_cDNA_rRNA.fa | \\\n",
    "    sed 's/>//' > \\\n",
    "    /data_dir/zebrafish_experiments/annotations/zebrafish/rRNA_ensembl.txt\n"
   ]
  },
  {
   "cell_type": "code",
   "execution_count": null,
   "metadata": {},
   "outputs": [],
   "source": []
  }
 ],
 "metadata": {
  "kernelspec": {
   "display_name": "Python 3",
   "language": "python",
   "name": "python3"
  },
  "language_info": {
   "codemirror_mode": {
    "name": "ipython",
    "version": 3
   },
   "file_extension": ".py",
   "mimetype": "text/x-python",
   "name": "python",
   "nbconvert_exporter": "python",
   "pygments_lexer": "ipython3",
   "version": "3.9.1"
  }
 },
 "nbformat": 4,
 "nbformat_minor": 4
}

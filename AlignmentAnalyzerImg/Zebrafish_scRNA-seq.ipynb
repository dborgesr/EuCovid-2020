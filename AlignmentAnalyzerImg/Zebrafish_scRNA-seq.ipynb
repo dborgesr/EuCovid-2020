{
 "cells": [
  {
   "cell_type": "markdown",
   "metadata": {},
   "source": [
    "# Get scRNA-seq from pMN neural progenitors from zebrafish\n",
    "\n",
    "## Paper: [Prdm8 regulates pMN progenitor specification for motor neuron and oligodendrocyte fates by modulating the Shh signaling response](https://dev.biologists.org/content/147/16/dev191023?with-ds=yes)\n",
    "\n",
    "### Bioproject: PRJNA656271\n",
    "\n",
    "Input metadata for raw data stored in PRJNA656271_metadata.txt\n",
    "\n",
    "## Download metadata of SRA runs\n",
    "\n",
    "Navigate to project PRJNA656271 in SRA [here](https://www.ncbi.nlm.nih.gov/Traces/study/?acc=PRJNA656271&o=acc_s%3Aa) and download metadata, rename to \"PRJNA656271_metadata.txt\"\n"
   ]
  },
  {
   "cell_type": "code",
   "execution_count": null,
   "metadata": {},
   "outputs": [],
   "source": [
    "import pandas as pd"
   ]
  },
  {
   "cell_type": "code",
   "execution_count": null,
   "metadata": {},
   "outputs": [],
   "source": [
    "PRJNA656271_meta_in = pd.read_csv(\"PRJNA656271_metadata.txt\", header=0, delimiter=r',')"
   ]
  },
  {
   "cell_type": "code",
   "execution_count": null,
   "metadata": {},
   "outputs": [],
   "source": [
    "PRJNA656271_meta_in.columns"
   ]
  },
  {
   "cell_type": "code",
   "execution_count": null,
   "metadata": {},
   "outputs": [],
   "source": [
    "PRJNA656271_meta_in[[\"Experiment\",\"Run\",\"Developmental_stage\"]]"
   ]
  },
  {
   "cell_type": "markdown",
   "metadata": {},
   "source": [
    "# Get raw sequence data\n",
    "\n",
    "3 developmental stages of pMN zebrafish neurons scRNA-seq in quadruplicates\n",
    "\n",
    "Pull 1 24 hr post fertilization one, SRX8920143 (SRR12424270)\n",
    "\n",
    "\n"
   ]
  },
  {
   "cell_type": "code",
   "execution_count": null,
   "metadata": {},
   "outputs": [],
   "source": [
    "%%bash\n",
    "##prefetch SRA files\n",
    "prefetch --type fastq SRR12424270\n",
    "\n",
    "#Or download directly\n",
    "curl -s -L https://sra-download.ncbi.nlm.nih.gov/traces/sra70/SRR/012133/SRR12424270 > \\\n",
    "    /data_dir/zebrafish_experiments/raw_data/SRR12424270.sra\n",
    "    "
   ]
  },
  {
   "cell_type": "code",
   "execution_count": null,
   "metadata": {},
   "outputs": [],
   "source": [
    "%%bash \n",
    "#Unpack SRA files, toss technicals, zip into fq.gz files\n",
    "parallel-fastq-dump -t 16 --tmpdir /data_dir/zebrafish_experiments/temp/ \\\n",
    "    -s /data_dir/zebrafish_experiments/raw_data/SRR12424270.sra \\\n",
    "    --dumpbase --gzip --skip-technical --readids \\\n",
    "    --read-filter pass --split-files --origfmt \\\n",
    "    --outdir /data_dir/zebrafish_experiments/input_reads/pMN_zebra\n"
   ]
  },
  {
   "cell_type": "code",
   "execution_count": null,
   "metadata": {},
   "outputs": [],
   "source": [
    "parallel-fastq-dump -t 8 --tmpdir /data_dir/zebrafish_experiments/temp/ \\\n",
    "    -s /data_dir/zebrafish_experiments/raw_data/SRR10586525.sra \\\n",
    "    --dumpbase --clip --gzip --skip-technical --readids \\\n",
    "    --read-filter pass --split-files --origfmt \\\n",
    "    --outdir /data_dir/zebrafish_experiments/input_reads/pMN_zebra\n"
   ]
  },
  {
   "cell_type": "code",
   "execution_count": null,
   "metadata": {},
   "outputs": [],
   "source": [
    "\n",
    "#Dump subset of reads from scRNA-seq dataset into 2 files --- CHROMIUM V2\n",
    "fastq-dump     \\\n",
    "    --dumpbase --origfmt  \\\n",
    "    --read-filter pass -N 1000000 -X 11000000   \\\n",
    "    --split-files   --outdir /data_dir/zebrafish_experiments/input_reads/pMN_zebra   \\\n",
    "    /data_dir/zebrafish_experiments/raw_data/SRR10586525\n"
   ]
  },
  {
   "cell_type": "code",
   "execution_count": null,
   "metadata": {},
   "outputs": [],
   "source": [
    "\n",
    "#Test STAR solo workflow using 1M zebrafish chromium V2 reads from SRR10586525\n",
    "##Barcode + UMI at beginning of second read\n",
    "cd /data_dir/zebrafish_experiments/input_reads/pMN_zebra/\n",
    "STAR --runMode alignReads      \\\n",
    "     --genomeDir /data_dir/zebrafish_experiments/annotations/zebrafish/STAR_ix \\\n",
    "     --outSAMtype BAM SortedByCoordinate --runThreadN 8 \\\n",
    "     --outFileNamePrefix /data_dir/zebrafish_experiments/alignment_out/24_hr_post_fert/pMN_24_pf_s1_ \\\n",
    "     --outTmpDir /data_dir/zebrafish_experiments/temp/star2_tmp \\\n",
    "     --outReadsUnmapped Fastx --limitBAMsortRAM 27000000000 \\\n",
    "     --outWigType wiggle --quantMode TranscriptomeSAM \\\n",
    "     --readFilesIn SRR10586525_pass_3.fastq \\\n",
    "                   SRR10586525_pass_2.fastq \\\n",
    "     --soloType CB_UMI_Simple --soloCBwhitelist /data_dir/zebrafish_experiments/annotations/Chromium_v2_barcodes.txt \\\n",
    "     --soloUMIlen 10 --soloCBlen 16 --soloFeatures Gene --soloOutFileNames 24_hr_post_fert_s1_ --soloBarcodeReadLength 101\n"
   ]
  },
  {
   "cell_type": "code",
   "execution_count": null,
   "metadata": {},
   "outputs": [],
   "source": [
    "%%bash\n",
    "\n",
    "#Filter reads using Fastp -- not needed?\n",
    "fastp -p 14 -i /data_dir/zebrafish_experiments/input_reads/pMN_zebra/SRR12424270_pass_1.fastq.gz \\\n",
    "      -I /data_dir/zebrafish_experiments/input_reads/pMN_zebra/SRR12424270_pass_2.fastq.gz  \\\n",
    "      -o /data_dir/zebrafish_experiments/input_reads/pMN_zebra/SRR12424270_filt_1.fastq.gz \\\n",
    "      -O /data_dir/zebrafish_experiments/input_reads/pMN_zebra/SRR12424270_filt_2.fastq.gz \\\n",
    "      -h /data_dir/zebrafish_experiments/input_reads/pMN_zebra/SRR12424270_fastp.html \\\n",
    "      -j /data_dir/zebrafish_experiments/input_reads/pMN_zebra/SRR12424270_fastp.json \n"
   ]
  },
  {
   "cell_type": "code",
   "execution_count": null,
   "metadata": {},
   "outputs": [],
   "source": [
    "%%bash\n",
    "mkdir -p /data_dir/zebrafish_experiments/alignment_out/24_hr_post_fert/\n",
    "\n",
    "cd /data_dir/zebrafish_experiments/input_reads/pMN_zebra/\n",
    "STAR --runMode alignReads      \\\n",
    "     --genomeDir /data_dir/zebrafish_experiments/annotations/zebrafish/STAR_ix \\\n",
    "     --outSAMtype BAM SortedByCoordinate --runThreadN 14 \\\n",
    "     --outFileNamePrefix /data_dir/zebrafish_experiments/alignment_out/24_hr_post_fert/pMN_24_pf_s1_\\\n",
    "     --outTmpDir /data_dir/zebrafish_experiments/temp/star2_tmp \\\n",
    "     --outReadsUnmapped Fastx --limitBAMsortRAM 27000000000 \\\n",
    "     --outWigType wiggle --quantMode TranscriptomeSAM   --readFilesCommand zcat \\\n",
    "     --readFilesIn SRR12424270_filt_1_1M.fq.gz \\\n",
    "                   SRR12424270_filt_2_1M.fq.gz\n",
    "\n",
    "#Single cell lines\n",
    "#     --soloType CB_UMI_Simple --soloCBwhitelist /data_dir/zebrafish_experiments/annotations/Chromium_v3_barcodes.txt \\\n",
    "#     --soloUMIlen 12 --soloFeatures Gene --soloOutFileNames 24_hr_post_fert_s1_ \\\n"
   ]
  },
  {
   "cell_type": "code",
   "execution_count": 7,
   "metadata": {},
   "outputs": [
    {
     "name": "stdout",
     "output_type": "stream",
     "text": [
      "Process is interrupted.\n"
     ]
    }
   ],
   "source": [
    "%%bash\n",
    "\n",
    "cd /data_dir/zebrafish_experiments/input_reads/pMN_zebra/\n",
    "\n",
    "#Attempt doing a hindbrain 24hr post fert sample\n",
    "salmon alevin -l ISR \\\n",
    "              -1 SRR10586525_pass_2.fastq \\\n",
    "              -2 SRR10586525_pass_3.fastq \\\n",
    "              --chromium \\\n",
    "              -i /data_dir/zebrafish_experiments/annotations/zebrafish/salmon_ann/salmon_GRCz11_index \\\n",
    "              -p 3 \\\n",
    "              --mrna /data_dir/zebrafish_experiments/annotations/zebrafish/gencode_mt.txt \\\n",
    "              --rrna /data_dir/zebrafish_experiments/annotations/zebrafish/rRNA_ensembl.txt \\\n",
    "              -o /data_dir/zebrafish_experiments/alignment_out/24_hr_post_fert/pMN_24_pf_s1_salmon_ \\\n",
    "              --tgMap /data_dir/zebrafish_experiments/annotations/zebrafish/salmon_GRCz11_gencode_tran2gene.txt\n"
   ]
  },
  {
   "cell_type": "code",
   "execution_count": null,
   "metadata": {},
   "outputs": [],
   "source": [
    "%%bash\n",
    "cd /data_dir/zebrafish_experiments/input_reads/pMN_zebra/\n",
    "\n",
    "#Attempt doing a hindbrain 24hr post fert sample\n",
    "salmon alevin -l ISR \\\n",
    "              -1 SRR12424270_pass_1.fastq \\\n",
    "              -2 SRR12424270_pass_2.fastq \\\n",
    "              --chromiumV3 \\\n",
    "              -i /data_dir/zebrafish_experiments/annotations/zebrafish/salmon_ann/salmon_GRCz11_index \\\n",
    "              -p 3 \\\n",
    "              --mrna /data_dir/zebrafish_experiments/annotations/zebrafish/gencode_mt.txt \\\n",
    "              --rrna /data_dir/zebrafish_experiments/annotations/zebrafish/rRNA_ensembl.txt \\\n",
    "              -o /data_dir/zebrafish_experiments/alignment_out/24_hr_post_fert/pMN_24_pf_s1_appel_salmon_ \\\n",
    "              --tgMap /data_dir/zebrafish_experiments/annotations/zebrafish/salmon_GRCz11_gencode_tran2gene.txt\n"
   ]
  }
 ],
 "metadata": {
  "kernelspec": {
   "display_name": "Python 3",
   "language": "python",
   "name": "python3"
  },
  "language_info": {
   "codemirror_mode": {
    "name": "ipython",
    "version": 3
   },
   "file_extension": ".py",
   "mimetype": "text/x-python",
   "name": "python",
   "nbconvert_exporter": "python",
   "pygments_lexer": "ipython3",
   "version": "3.9.1"
  }
 },
 "nbformat": 4,
 "nbformat_minor": 4
}

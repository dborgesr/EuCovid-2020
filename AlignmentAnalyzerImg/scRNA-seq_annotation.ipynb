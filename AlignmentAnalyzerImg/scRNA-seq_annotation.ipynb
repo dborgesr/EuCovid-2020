{
 "cells": [
  {
   "cell_type": "markdown",
   "metadata": {},
   "source": [
    "# K-Mer based workflow for scRNA-seq\n",
    "\n",
    "* Compile needed annotation files\n",
    "* Build needed references\n",
    "* Quantify against reference\n",
    "\n",
    "## Get and massage annotation files needed for Salmon human\n",
    "\n",
    "Using all Ensembl-99 as ground truth"
   ]
  },
  {
   "cell_type": "markdown",
   "metadata": {},
   "source": [
    "## Make human genome annotation directory"
   ]
  },
  {
   "cell_type": "code",
   "execution_count": null,
   "metadata": {},
   "outputs": [],
   "source": [
    "%%bash\n",
    "\n",
    "mkdir /input_dir/corona_analysis/annotations/human\n",
    "cd /input_dir/corona_analysis/annotations/human\n"
   ]
  },
  {
   "cell_type": "markdown",
   "metadata": {},
   "source": [
    "## Get human genome fasta\n",
    "Get human fasta file using 2bit from UCSC\n"
   ]
  },
  {
   "cell_type": "code",
   "execution_count": null,
   "metadata": {},
   "outputs": [],
   "source": [
    "%%bash\n",
    "curl -s -L ftp://ftp.ensembl.org/pub/release-99/fasta/homo_sapiens/dna/Homo_sapiens.GRCh38.dna_sm.primary_assembly.fa.gz > \\\n",
    "    /input_dir/corona_analysis/annotations/human/Homo_sapiens.GRCh38.dna_sm.primary_assembly.fa.gz\n",
    "gunzip Homo_sapiens.GRCh38.dna_sm.primary_assembly.fa.gz\n",
    "#Toss everything except canonical chromosomes\n",
    "awk \"/^>/ {n++} n>25 {exit} {print}\" /input_dir/corona_analysis/annotations/human/Homo_sapiens.GRCh38.dna_sm.primary_assembly.fa > GRCh38_filt_dna_sm.fa\n"
   ]
  },
  {
   "cell_type": "markdown",
   "metadata": {},
   "source": [
    "## Get human gene annotations\n",
    "\n",
    "Get human gene annotations in GTF form from Gencode (v33)\n"
   ]
  },
  {
   "cell_type": "code",
   "execution_count": null,
   "metadata": {},
   "outputs": [],
   "source": [
    "%%bash\n",
    "\n",
    "cd /input_dir/corona_analysis/annotations/human/\n",
    "#Get ensembl gtf file\n",
    "curl -s -L ftp://ftp.ensembl.org/pub/release-99/gtf/homo_sapiens/Homo_sapiens.GRCh38.99.gtf.gz > \\\n",
    "    /input_dir/corona_analysis/annotations/human/Homo_sapiens.GRCh38.99.gtf.gz\n",
    "gunzip /input_dir/corona_analysis/annotations/human/Homo_sapiens.GRCh38.99.gtf.gz\n"
   ]
  },
  {
   "cell_type": "markdown",
   "metadata": {},
   "source": [
    "# Make genome annotations for STAR and RSEM\n"
   ]
  },
  {
   "cell_type": "code",
   "execution_count": null,
   "metadata": {},
   "outputs": [],
   "source": [
    "%%bash\n",
    "# Make concatenated GTF of hg38 Ensembl, retroposon, and CoVid\n",
    "cd /data_dir/corona_analysis/annotations/human/\n",
    "cat Homo_sapiens.GRCh38.99.gtf \\\n",
    "    retroposon_hg38.gtf \\\n",
    "    /data_dir/corona_analysis/annotations/CoVid/jx_s2_covid.gtf > \\\n",
    "    Homo_sapiens.GRCh38.99_retroposon_covid.gtf"
   ]
  },
  {
   "cell_type": "code",
   "execution_count": null,
   "metadata": {},
   "outputs": [],
   "source": [
    "%%bash\n",
    "#Make covid + human softmasked genome\n",
    "cd /input_dir/corona_analysis/annotations/human/\n",
    "cat GRCh38_filt_dna_sm.fa /data_dir/corona_analysis/annotations/CoVid/EPI_ISL_407193_edit.fasta > \\\n",
    "    GRCh38_filt_dna_sm_covid.fa\n"
   ]
  },
  {
   "cell_type": "code",
   "execution_count": null,
   "metadata": {},
   "outputs": [],
   "source": [
    "%%bash\n",
    "#Generate genome indices for STAR\n",
    "mkdir /input_dir/corona_analysis/annotations/human/STAR_ix\n",
    "STAR --runThreadN 12 \\\n",
    "     --runMode genomeGenerate --outTmpDir /input_dir/corona_analysis/temp/star2 \\\n",
    "     --genomeDir /input_dir/corona_analysis/annotations/human/STAR_ix \\\n",
    "     --genomeFastaFiles /input_dir/corona_analysis/annotations/human/GRCh38_filt_dna_sm_covid.fa \\\n",
    "     --sjdbGTFfile /input_dir/corona_analysis/annotations/human/Homo_sapiens.GRCh38.99_retroposon_covid.gtf \\\n",
    "     --sjdbOverhang 149 --limitGenomeGenerateRAM 30000000000 --genomeSAsparseD 2\n"
   ]
  },
  {
   "cell_type": "code",
   "execution_count": null,
   "metadata": {},
   "outputs": [],
   "source": [
    "%%bash\n",
    "\n",
    "#Generate genome annotations for RSEM\n",
    "rsem-prepare-reference --gtf /input_dir/corona_analysis/annotations/human/Homo_sapiens.GRCh38.99.gtf  \\\n",
    "                       /input_dir/corona_analysis/annotations/human/GRCh38_filt_dna_sm.fa \\\n",
    "                       /input_dir/corona_analysis/annotations/human/RSEM_ix \n"
   ]
  },
  {
   "cell_type": "markdown",
   "metadata": {},
   "source": [
    "## Get hard masked hg38 human genome"
   ]
  },
  {
   "cell_type": "code",
   "execution_count": null,
   "metadata": {},
   "outputs": [],
   "source": [
    "%%bash\n",
    "\n",
    "cd /input_dir/corona_analysis/annotations/human/\n",
    "\n",
    "#Get hard masked hg38 genome and filter for only canonical chromosomes\n",
    "curl -s -L ftp://ftp.ensembl.org/pub/release-99/fasta/homo_sapiens/dna/Homo_sapiens.GRCh38.dna_rm.primary_assembly.fa.gz > \\\n",
    "    /input_dir/corona_analysis/annotations/human/Homo_sapiens.GRCh38.dna_rm.primary_assembly.fa.gz\n",
    "gunzip Homo_sapiens.GRCh38.dna_rm.primary_assembly.fa.gz\n",
    "#Toss everything except canonical chromosomes\n",
    "awk \"/^>/ {n++} n>25 {exit} {print}\" /input_dir/corona_analysis/annotations/human/Homo_sapiens.GRCh38.dna_rm.primary_assembly.fa > GRCh38_filt_dna_rm.fa\n",
    "#Get list of decoy sequences for salmon\n",
    "grep \"^>\" /input_dir/corona_analysis/annotations/human/GRCh38_filt_dna_rm.fa | cut -d \" \" -f 1 > decoys.txt\n",
    "sed -i.bak -e 's/>//g' decoys.txt\n"
   ]
  },
  {
   "cell_type": "markdown",
   "metadata": {},
   "source": [
    "## Begin making sequence cDNA files for salmon"
   ]
  },
  {
   "cell_type": "code",
   "execution_count": null,
   "metadata": {},
   "outputs": [],
   "source": [
    "%%bash\n",
    "\n",
    "#Get cDNA of transcripts for hg38\n",
    "wget ftp://ftp.ensembl.org/pub/release-99/fasta/homo_sapiens/cdna/Homo_sapiens.GRCh38.cdna.all.fa.gz\n",
    "gunzip Homo_sapiens.GRCh38.cdna.all.fa.gz\n",
    "\n",
    "#Filter the transcripts for only those in STAR \n",
    "cut -f 1 /input_dir/corona_analysis/annotations/human/STAR_ix/transcriptInfo.tab > in_enst_names.txt\n",
    "awk '{ if ((NR>1)&&($0~/^>/)) { printf(\"\\n%s\", $0); } else if (NR==1) { printf(\"%s\", $0); } else { printf(\"\\t%s\", $0); } }' \\\n",
    "    Homo_sapiens.GRCh38.cdna.all.fa \\\n",
    "    | grep -Ff in_enst_names.txt - \\\n",
    "    | tr \"\\t\" \"\\n\" > Hg38_cdna_filt.fa\n",
    "\n",
    "# coding_genes_hgnc.txt = list of all HGNC protein coding symbols\n",
    "#Filter the transcripts to ONLY protein coding\n",
    "awk '{ if ((NR>1)&&($0~/^>/)) { printf(\"\\n%s\", $0); } else if (NR==1) { printf(\"%s\", $0); } else { printf(\"\\t%s\", $0); } }' \\\n",
    "    Hg38_cdna_filt.fa \\\n",
    "    | grep -Ff coding_genes_hgnc.txt - \\\n",
    "    | tr \"\\t\" \"\\n\" > Hg38_cdna_coding_filt.fa\n"
   ]
  },
  {
   "cell_type": "markdown",
   "metadata": {},
   "source": [
    "## scRNA-seq chromium barcodes"
   ]
  },
  {
   "cell_type": "code",
   "execution_count": 2,
   "metadata": {},
   "outputs": [],
   "source": [
    "%%bash\n",
    "#All available here: https://github.com/10XGenomics/cellranger/tree/master/lib/python/cellranger/barcodes\n",
    "##Get whitelist for version 10x v1\n",
    "#curl -s -L https://raw.githubusercontent.com/10XGenomics/cellranger/master/lib/python/cellranger/barcodes/737K-april-2014_rc.txt > \\\n",
    "#    /input_dir/corona_analysis/annotations/human/scRNA_10x_v1_whitelist.txt\n",
    "##Get whitelist for version 10x v2\n",
    "#curl -s -L https://raw.githubusercontent.com/10XGenomics/cellranger/master/lib/python/cellranger/barcodes/737K-august-2016.txt > \\\n",
    "#    /input_dir/corona_analysis/annotations/human/scRNA_10x_v2_whitelist.txt\n",
    "#Get whitelist for version 10x v3\n",
    "curl -s -L  wget https://github.com/10XGenomics/cellranger/raw/master/lib/python/cellranger/barcodes/3M-february-2018.txt.gz > \\\n",
    "    /input_dir/corona_analysis/annotations/human/scRNA_10x_v3_whitelist.txt.gz\n",
    "gunzip /input_dir/corona_analysis/annotations/human/scRNA_10x_v3_whitelist.txt.gz\n"
   ]
  },
  {
   "cell_type": "markdown",
   "metadata": {},
   "source": [
    "### Get rRNA from \n",
    "\n",
    "https://www.genenames.org/data/genegroup/#!/group/848\n",
    "\n",
    "Flip to ENST using Biomart and feed into rRNA_ensembl.txt to get rRNA_ensembl_cdna.fa\n",
    "\n"
   ]
  },
  {
   "cell_type": "markdown",
   "metadata": {},
   "source": [
    "## Get LINE element cDNA and make GTF"
   ]
  },
  {
   "cell_type": "code",
   "execution_count": null,
   "metadata": {},
   "outputs": [],
   "source": [
    "%%bash \n",
    "#Add custom relevant T-cell loci\n",
    "cd /data_dir/corona_analysis/annotations/human/\n",
    "#Add LINE element loci\n",
    "sed 's/^chr//' /data_dir/corona_analysis/annotations/hsflnil1_hg38_sorted.bed  > t.bed\n",
    "#Add innate immunity loci\n",
    "echo -ne \"19\\t47903455\\t47963540\\tLoci_hCRISPR1\\t0\\t+\\t0\\t0\\t128,128,128\\n\" >> t.bed\n",
    "echo -ne \"19\\t50090483\\t50148547\\tLoci_hCRISPR2\\t0\\t+\\t0\\t0\\t128,128,128\\n\" >> t.bed\n",
    "echo -ne \"19\\t49020448\\t49057114\\tLoci_hCRISPR3\\t0\\t+\\t0\\t0\\t128,128,128\\n\" >> t.bed\n",
    "echo -ne \"7\\t142440833\\t142539173\\tLoci_hCRISPR1_TCRB\\t0\\t+\\t0\\t0\\t128,128,128\\n\" >> t.bed\n",
    "echo -ne \"7\\t38340582\\t38379445\\tLoci_hCRISPR2_TCRG\\t0\\t+\\t0\\t0\\t128,128,128\\n\" >> t.bed\n",
    "    \n",
    "sort-bed t.bed > t2.bed\n",
    "bedToGenePred t2.bed t2.genepred\n",
    "genePredToGtf file ./t2.genepred retroposon_hg38.gtf\n",
    "\n",
    "bedtools getfasta -name -fi GRCh38_filt_dna_sm.fa -bed t2.bed -fo hsflnil1_hg38_sorted.fa\n",
    "rm t.bed  t2.bed t2.genepred t2.gtf\n"
   ]
  },
  {
   "cell_type": "markdown",
   "metadata": {},
   "source": [
    "## Get CoVid cDNA\n"
   ]
  },
  {
   "cell_type": "code",
   "execution_count": null,
   "metadata": {},
   "outputs": [],
   "source": [
    "%%bash\n",
    "\n",
    "#Add cDNA of CoVid \n",
    "cd /data_dir/corona_analysis/annotations/CoVid\n",
    "bedtools getfasta -fi EPI_ISL_407193_edit.fasta -bed jx_s2_covid.gtf > EPI_ISL_407193_edit_cdna.fa\n",
    "#Uniquify transcripts\n",
    "cat EPI_ISL_407193_edit_cdna.fa | grep '^>' | sed 's/>//' | sort -u > uniq_cdna_covid.txt\n",
    "seqkit grep -f uniq_cdna_covid.txt EPI_ISL_407193_edit_cdna.fa | seqkit rmdup -n -o EPI_ISL_407193_edit_cdna_uniq.fa\n"
   ]
  },
  {
   "cell_type": "markdown",
   "metadata": {},
   "source": [
    "## Concatenate all files together for gentrome"
   ]
  },
  {
   "cell_type": "code",
   "execution_count": null,
   "metadata": {},
   "outputs": [],
   "source": [
    "%%bash\n",
    "#Make gentrome for Salmon\n",
    "mkdir /data_dir/corona_analysis/annotations/human/salmon_ann\n",
    "cd /data_dir/corona_analysis/annotations/human/salmon_ann\n",
    "cat /data_dir/corona_analysis/annotations/human/Hg38_cdna_coding_filt.fa \\\n",
    "    /data_dir/corona_analysis/annotations/human/rRNA_ensembl_cdna.fa \\\n",
    "    /data_dir/corona_analysis/annotations/human/hsflnil1_hg38_sorted.fa \\\n",
    "    /data_dir/corona_analysis/annotations/CoVid/EPI_ISL_407193_edit_cdna_uniq.fa \\\n",
    "    /data_dir/corona_analysis/annotations/human/GRCh38_filt_dna_rm.fa \\\n",
    "    > gentrome_hg38_filt.fa \n",
    "\n",
    "#Full cdna file: Homo_sapiens.GRCh38.cdna.all.fa\n",
    "#Filtered cdna file: Hg38_cdna_coding_filt.fa\n"
   ]
  },
  {
   "cell_type": "code",
   "execution_count": null,
   "metadata": {},
   "outputs": [],
   "source": [
    "%%bash\n",
    "#Reduce ram used w/ sparse\n",
    "salmon index --sparse -t gentrome_hg38_filt.fa -d ../decoys.txt -p 13 -i salmon_hg38_index\n"
   ]
  },
  {
   "cell_type": "markdown",
   "metadata": {},
   "source": [
    "## Make transcript 2 gene map and rRNA / mtRNA annotation"
   ]
  },
  {
   "cell_type": "code",
   "execution_count": null,
   "metadata": {},
   "outputs": [],
   "source": [
    "%%bash\n",
    "\n",
    "#Get transcript IDs of rRNA w/ version ID\n",
    "grep \">\" /input_dir/corona_analysis/annotations/human/rRNA_ensembl_cdna.fa | sed 's/>//' | \\\n",
    "    awk '{print $1\"\\trRNA-all\"}' > /input_dir/corona_analysis/annotations/human/rRNA_ensembl.txt\n"
   ]
  },
  {
   "cell_type": "code",
   "execution_count": null,
   "metadata": {},
   "outputs": [],
   "source": [
    "gtf_parse = \"/input_dir/corona_analysis/annotations/human/Homo_sapiens.GRCh38.99.gtf\"\n",
    "mt_tran_out = \"/input_dir/corona_analysis/annotations/human/gencode_mt.txt\"\n",
    "out_tran_map = \"/input_dir/corona_analysis/annotations/human/salmon_grch38_gencode_tran2gene.txt\"\n",
    "rrna_tran_in = \"/input_dir/corona_analysis/annotations/human/rRNA_ensembl.txt\"\n",
    "\n",
    "#Keep track of relevant transcripts\n",
    "rRNA_tran = dict()\n",
    "tran_gene_dict = dict()\n",
    "tran_name_dict = dict()\n",
    "\n",
    "with open(rrna_tran_in, \"r\") as rRNA_text:\n",
    "    for line in rRNA_text:\n",
    "        arr = line.strip().split()\n",
    "        rRNA_tran[arr[0]] = arr[1]\n",
    "\n",
    "with open(gtf_parse, \"r\") as gene_in:\n",
    "    with open(mt_tran_out,\"w\") as mito_out:\n",
    "        for line in gene_in:\n",
    "            if line.startswith(\"#\"):\n",
    "                continue\n",
    "            else:\n",
    "                arr = line.strip().split(\"\\t\")\n",
    "                if (arr[2] == \"transcript\"):\n",
    "                    tmp_arr = arr[-1].strip(';').strip().split(\";\")\n",
    "                    tmp_arr = tmp_arr[:-1]\n",
    "                    arr_tran = [feature.strip().split(\" \") for feature in tmp_arr]\n",
    "                    cur_tran_dict = {key: value for (key, value) in arr_tran}\n",
    "                    tran_id = cur_tran_dict['transcript_id'].replace(\"\\\"\",\"\")\n",
    "                    tran_ver = cur_tran_dict['transcript_version'].replace(\"\\\"\",\"\")\n",
    "                    tran_str = f\"{tran_id}.{tran_ver}\"\n",
    "                    gene_id = cur_tran_dict['gene_id'].replace(\"\\\"\",\"\")\n",
    "                    gene_ver = cur_tran_dict['gene_version'].replace(\"\\\"\",\"\")\n",
    "                    gene_name = cur_tran_dict['gene_name'].replace(\"\\\"\",\"\")\n",
    "                    #Only add transcript if NOT rRNA\n",
    "                    if (tran_str not in rRNA_tran):\n",
    "                        tran_gene_dict[tran_str] = f\"{gene_id}.{gene_ver}\"\n",
    "                        tran_name_dict[tran_str] = gene_name\n",
    "                    #If mitochondrial gene add to mt gene txt file\n",
    "                    if arr[0] == \"MT\":\n",
    "                        mito_out.write(f\"{tran_str}\\t{gene_name}\\n\")\n",
    "                        \n",
    "with open(out_tran_map, \"w\") as kal_tran:\n",
    "    for tran in tran_gene_dict.keys():\n",
    "        out_line = f\"{tran}\\t{tran_name_dict[tran]}\\n\"\n",
    "        kal_tran.write(out_line)\n",
    "        "
   ]
  },
  {
   "cell_type": "code",
   "execution_count": null,
   "metadata": {},
   "outputs": [],
   "source": [
    "%%bash\n",
    "\n",
    "#Add rRNA to transcript2gene map\n",
    "grep \">\" /input_dir/corona_analysis/annotations/human/rRNA_ensembl_cdna.fa | sed 's/>//' | \\\n",
    "    awk '{print $1\"\\trRNA-all\"}' >> /input_dir/corona_analysis/annotations/human/salmon_grch38_gencode_tran2gene.txt\n"
   ]
  },
  {
   "cell_type": "code",
   "execution_count": null,
   "metadata": {},
   "outputs": [],
   "source": [
    "%%bash\n",
    "\n",
    "#Add LINE elements to transcript2gene map\n",
    "grep \">\" /input_dir/corona_analysis/annotations/human/hsflnil1_hg38_sorted.fa | \\\n",
    "     sed 's/>//' | awk '{print $1\"\\t\"$1 }' >> /input_dir/corona_analysis/annotations/human/salmon_grch38_gencode_tran2gene.txt\n"
   ]
  },
  {
   "cell_type": "code",
   "execution_count": null,
   "metadata": {},
   "outputs": [],
   "source": [
    "%%bash\n",
    "\n",
    "#Add CoVid to transcript2gene map\n",
    "cd /input_dir/corona_analysis/annotations/CoVid/\n",
    "grep \">\" EPI_ISL_407193_edit_cdna_uniq.fa | \\\n",
    "     sed 's/>//' | awk '{print $1\"\\tCoVid-19-EPI_ISL_407193\" }' >> /input_dir/corona_analysis/annotations/human/salmon_grch38_gencode_tran2gene.txt\n"
   ]
  },
  {
   "cell_type": "code",
   "execution_count": null,
   "metadata": {},
   "outputs": [],
   "source": []
  }
 ],
 "metadata": {
  "kernelspec": {
   "display_name": "Python 3",
   "language": "python",
   "name": "python3"
  },
  "language_info": {
   "codemirror_mode": {
    "name": "ipython",
    "version": 3
   },
   "file_extension": ".py",
   "mimetype": "text/x-python",
   "name": "python",
   "nbconvert_exporter": "python",
   "pygments_lexer": "ipython3",
   "version": "3.6.9"
  }
 },
 "nbformat": 4,
 "nbformat_minor": 4
}

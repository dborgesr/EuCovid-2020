{
 "cells": [
  {
   "cell_type": "markdown",
   "metadata": {},
   "source": [
    "\n",
    "## Make human genome annotation directory\n",
    "\n",
    "## Get human genome fasta\n",
    "\n",
    "Get human fasta file using 2bit from UCSC\n",
    "\n",
    "## Get human gene annotations\n",
    "\n",
    "Get human gene annotations in GTF form from Gencode (v33)\n"
   ]
  },
  {
   "cell_type": "code",
   "execution_count": null,
   "metadata": {},
   "outputs": [],
   "source": [
    "%%bash\n",
    "\n",
    "mkdir /input_dir/corona_analysis/annotations/human\n",
    "cd /input_dir/corona_analysis/annotations/human\n"
   ]
  },
  {
   "cell_type": "code",
   "execution_count": null,
   "metadata": {},
   "outputs": [],
   "source": [
    "%%bash\n",
    "curl -s -L ftp://ftp.ensembl.org/pub/release-99/fasta/homo_sapiens/dna/Homo_sapiens.GRCh38.dna_sm.primary_assembly.fa.gz > \\\n",
    "    /input_dir/corona_analysis/annotations/human/Homo_sapiens.GRCh38.dna_sm.primary_assembly.fa.gz\n",
    "gunzip Homo_sapiens.GRCh38.dna_sm.primary_assembly.fa.gz\n",
    "#Toss everything except canonical chromosomes\n",
    "awk \"/^>/ {n++} n>25 {exit} {print}\" /input_dir/corona_analysis/annotations/human/Homo_sapiens.GRCh38.dna_sm.primary_assembly.fa > GRCh38_filt_dna_sm.fa\n"
   ]
  },
  {
   "cell_type": "code",
   "execution_count": null,
   "metadata": {},
   "outputs": [],
   "source": [
    "%%bash\n",
    "curl -s -L ftp://ftp.ensembl.org/pub/release-99/gtf/homo_sapiens/Homo_sapiens.GRCh38.99.gtf.gz > \\\n",
    "    /input_dir/corona_analysis/annotations/human/Homo_sapiens.GRCh38.99.gtf.gz\n",
    "gunzip /input_dir/corona_analysis/annotations/human/Homo_sapiens.GRCh38.99.gtf.gz"
   ]
  },
  {
   "cell_type": "markdown",
   "metadata": {},
   "source": [
    "# Get reference transcriptome for normal BLFs\n",
    "\n",
    "Transcriptome comes in the form of 3 normal controls RNA-seq BALF sequenced on Illumina Hiseq 2000\n",
    "\n",
    "* SRX7253176 - SRR10571724 Ctrl1\n",
    "* SRX7253170 - SRR10571730 Ctlr2\n",
    "* SRX7253168 - SRR10571732 Ctlr3\n"
   ]
  },
  {
   "cell_type": "code",
   "execution_count": null,
   "metadata": {},
   "outputs": [],
   "source": [
    "%%bash\n",
    "##prefetch SRA files\n",
    "prefetch -o /input_dir/corona_analysis/input_reads/BALF_control/SRX7253176.sra SRX7253176\n",
    "prefetch -o /input_dir/corona_analysis/input_reads/BALF_control/SRX7253170.sra SRX7253170\n",
    "prefetch -o /input_dir/corona_analysis/input_reads/BALF_control/SRX7253168.sra SRX7253168\n"
   ]
  },
  {
   "cell_type": "code",
   "execution_count": null,
   "metadata": {},
   "outputs": [],
   "source": [
    "%%bash \n",
    "#Unpack SRA files, toss technicals, zip into fq.gz files\n",
    "parallel-fastq-dump -t 8 --tmpdir /input_dir/corona_analysis/temp/ \\\n",
    "    -s /input_dir/corona_analysis/input_reads/BALF_control/SRX7253176.sra \\\n",
    "    --dumpbase --clip --gzip --skip-technical --readids \\\n",
    "    --read-filter pass --split-files \\\n",
    "    --outdir /input_dir/corona_analysis/input_reads/BALF_control/\n",
    "\n",
    "parallel-fastq-dump -t 8 --tmpdir /input_dir/corona_analysis/temp/ \\\n",
    "    -s /input_dir/corona_analysis/input_reads/BALF_control/SRX7253170.sra \\\n",
    "    --dumpbase --clip --gzip --skip-technical --readids \\\n",
    "    --read-filter pass --split-files \\\n",
    "    --outdir /input_dir/corona_analysis/input_reads/BALF_control/\n",
    "\n",
    "parallel-fastq-dump -t 8 --tmpdir /input_dir/corona_analysis/temp/ \\\n",
    "    -s /input_dir/corona_analysis/input_reads/BALF_control/SRX7253168.sra \\\n",
    "    --dumpbase --clip --gzip --skip-technical --readids \\\n",
    "    --read-filter pass --split-files \\\n",
    "    --outdir /input_dir/corona_analysis/input_reads/BALF_control/\n"
   ]
  },
  {
   "cell_type": "code",
   "execution_count": null,
   "metadata": {},
   "outputs": [],
   "source": [
    "%%bash\n",
    "\n",
    "#Filter input RNA-seq reads from control BALF lung of 3 donors\n",
    "#Ctrl1\n",
    "fastp -p 14 -i /input_dir/corona_analysis/input_reads/BALF_control/SRX7253176_pass_1.fastq.gz \\\n",
    "      -I /input_dir/corona_analysis/input_reads/BALF_control/SRX7253176_pass_2.fastq.gz \\\n",
    "      -o /input_dir/corona_analysis/input_reads/BALF_control/SRX7253176_filt_1.fq.gz \\\n",
    "      -O /input_dir/corona_analysis/input_reads/BALF_control/SRX7253176_filt_2.fq.gz \\\n",
    "      -h /input_dir/corona_analysis/input_reads/BALF_control/SRX7253176_fastp.html \\\n",
    "      -j /input_dir/corona_analysis/input_reads/BALF_control/SRX7253176_fastp.json \n",
    "\n",
    "#Ctrl2\n",
    "fastp -p 14 -i /input_dir/corona_analysis/input_reads/BALF_control/SRX7253170_pass_1.fastq.gz \\\n",
    "      -I /input_dir/corona_analysis/input_reads/BALF_control/SRX7253170_pass_2.fastq.gz \\\n",
    "      -o /input_dir/corona_analysis/input_reads/BALF_control/SRX7253170_filt_1.fq.gz \\\n",
    "      -O /input_dir/corona_analysis/input_reads/BALF_control/SRX7253170_filt_2.fq.gz \\\n",
    "      -h /input_dir/corona_analysis/input_reads/BALF_control/SRX7253170_fastp.html \\\n",
    "      -j /input_dir/corona_analysis/input_reads/BALF_control/SRX7253170_fastp.json \n",
    "\n",
    "#Ctrl3\n",
    "fastp -p 14 -i /input_dir/corona_analysis/input_reads/BALF_control/SRX7253168_pass_1.fastq.gz \\\n",
    "      -I /input_dir/corona_analysis/input_reads/BALF_control/SRX7253168_pass_2.fastq.gz \\\n",
    "      -o /input_dir/corona_analysis/input_reads/BALF_control/SRX7253168_filt_1.fq.gz \\\n",
    "      -O /input_dir/corona_analysis/input_reads/BALF_control/SRX7253168_filt_2.fq.gz \\\n",
    "      -h /input_dir/corona_analysis/input_reads/BALF_control/SRX7253168_fastp.html \\\n",
    "      -j /input_dir/corona_analysis/input_reads/BALF_control/SRX7253168_fastp.json \n"
   ]
  },
  {
   "cell_type": "code",
   "execution_count": null,
   "metadata": {},
   "outputs": [],
   "source": [
    "%%bash\n",
    "mkdir /input_dir/corona_analysis/alignment_out/BALF_control_quant/\n",
    "\n",
    "#Align reads against human transcriptome for BALF control\n",
    "cd /input_dir/corona_analysis/input_reads/BALF_control\n",
    "#Ctlr1\n",
    "STAR --runMode alignReads      \\\n",
    "     --genomeDir /input_dir/corona_analysis/annotations/human/STAR_ix \\\n",
    "     --outSAMtype BAM SortedByCoordinate --runThreadN 14 \\\n",
    "     --outFileNamePrefix /input_dir/corona_analysis/alignment_out/BALF_control_quant/BALF_control_s1_\\\n",
    "     --outTmpDir /input_dir/corona_analysis/temp/star2 \\\n",
    "     --outReadsUnmapped Fastx --limitBAMsortRAM 27000000000 \\\n",
    "     --outWigType wiggle --quantMode TranscriptomeSAM   --readFilesCommand zcat \\\n",
    "     --readFilesIn SRX7253176_filt_1.fq.gz \\\n",
    "                   SRX7253176_filt_2.fq.gz\n",
    "#Ctlr2\n",
    "STAR --runMode alignReads      \\\n",
    "     --genomeDir /input_dir/corona_analysis/annotations/human/STAR_ix \\\n",
    "     --outSAMtype BAM SortedByCoordinate --runThreadN 14 \\\n",
    "     --outFileNamePrefix /input_dir/corona_analysis/alignment_out/BALF_control_quant/BALF_control_s2_\\\n",
    "     --outTmpDir /input_dir/corona_analysis/temp/star2 \\\n",
    "     --outReadsUnmapped Fastx --limitBAMsortRAM 27000000000 \\\n",
    "     --outWigType wiggle --quantMode TranscriptomeSAM   --readFilesCommand zcat \\\n",
    "     --readFilesIn SRX7253170_filt_1.fq.gz \\\n",
    "                   SRX7253170_filt_2.fq.gz\n",
    "\n",
    "#Ctlr3\n",
    "STAR --runMode alignReads      \\\n",
    "     --genomeDir /input_dir/corona_analysis/annotations/human/STAR_ix \\\n",
    "     --outSAMtype BAM SortedByCoordinate --runThreadN 14 \\\n",
    "     --outFileNamePrefix /input_dir/corona_analysis/alignment_out/BALF_control_quant/BALF_control_s3_\\\n",
    "     --outTmpDir /input_dir/corona_analysis/temp/star2 \\\n",
    "     --outReadsUnmapped Fastx --limitBAMsortRAM 27000000000 \\\n",
    "     --outWigType wiggle --quantMode TranscriptomeSAM   --readFilesCommand zcat \\\n",
    "     --readFilesIn SRX7253168_filt_1.fq.gz \\\n",
    "                   SRX7253168_filt_2.fq.gz\n"
   ]
  },
  {
   "cell_type": "code",
   "execution_count": null,
   "metadata": {},
   "outputs": [],
   "source": [
    "%%bash\n",
    "\n",
    "cd /input_dir/corona_analysis/alignment_out/BALF_control_quant/\n",
    "#Quantify expression in control BALF samples 1-3\n",
    "\n",
    "#Ctlr1\n",
    "rsem-calculate-expression --paired-end \\\n",
    "                       --alignments \\\n",
    "                       -p 14 --no-bam-output \\\n",
    "                       BALF_control_s1_Aligned.toTranscriptome.out.bam \\\n",
    "                      /input_dir/corona_analysis/annotations/human/RSEM_ix \\\n",
    "                       BALF_control_rsem_s1_\n",
    "#Ctlr2\n",
    "rsem-calculate-expression --paired-end \\\n",
    "                       --alignments \\\n",
    "                       -p 14 --no-bam-output \\\n",
    "                       BALF_control_s2_Aligned.toTranscriptome.out.bam \\\n",
    "                      /input_dir/corona_analysis/annotations/human/RSEM_ix \\\n",
    "                       BALF_control_rsem_s2_\n",
    "#Ctlr3\n",
    "rsem-calculate-expression --paired-end \\\n",
    "                       --alignments \\\n",
    "                       -p 14 --no-bam-output \\\n",
    "                       BALF_control_s3_Aligned.toTranscriptome.out.bam \\\n",
    "                      /input_dir/corona_analysis/annotations/human/RSEM_ix \\\n",
    "                       BALF_control_rsem_s3_\n"
   ]
  },
  {
   "cell_type": "markdown",
   "metadata": {},
   "source": [
    "# Get transcriptome for infected BLFs\n",
    "\n",
    "Transcriptome data comes in the form of RNA-seq from paper [Xiong et al 2020](https://www.tandfonline.com/doi/full/10.1080/22221751.2020.1747363). 2 patients Brancheolar Lavage Fluid (BALF) had RNA-seq libraries generated and sequenced on MiSeq\n",
    "CRR119897 - patient2_rep2\n",
    "CRR119896 - patient2_rep1\n",
    "CRR119895 - patient1_rep2\n",
    "CRR119894 - patient1_rep1"
   ]
  },
  {
   "cell_type": "code",
   "execution_count": null,
   "metadata": {},
   "outputs": [],
   "source": [
    "%%bash\n",
    "mkdir /input_dir/corona_analysis/input_reads/BALF_rna\n",
    "\n",
    "#Get fq.gz from database for \n",
    "curl -s -L ftp://download.big.ac.cn/gsa3/CRA002390/CRR119897/CRR119897_f1.fq.gz  > \\\n",
    "    /input_dir/corona_analysis/input_reads/BALF_rna/CRR119897_f1.fq.gz\n",
    "curl -s -L ftp://download.big.ac.cn/gsa3/CRA002390/CRR119897/CRR119897_r2.fq.gz  > \\\n",
    "    /input_dir/corona_analysis/input_reads/BALF_rna/CRR119897_r2.fq.gz\n",
    "    \n",
    "curl -s -L ftp://download.big.ac.cn/gsa3/CRA002390/CRR119896/CRR119896_f1.fq.gz  > \\\n",
    "    /input_dir/corona_analysis/input_reads/BALF_rna/CRR119896_f1.fq.gz\n",
    "curl -s -L ftp://download.big.ac.cn/gsa3/CRA002390/CRR119896/CRR119896_r2.fq.gz  > \\\n",
    "    /input_dir/corona_analysis/input_reads/BALF_rna/CRR119896_r2.fq.gz\n",
    "    \n",
    "curl -s -L ftp://download.big.ac.cn/gsa3/CRA002390/CRR119895/CRR119895_f1.fq.gz  > \\\n",
    "    /input_dir/corona_analysis/input_reads/BALF_rna/CRR119895_f1.fq.gz\n",
    "curl -s -L ftp://download.big.ac.cn/gsa3/CRA002390/CRR119895/CRR119895_r2.fq.gz  > \\\n",
    "    /input_dir/corona_analysis/input_reads/BALF_rna/CRR119895_r2.fq.gz\n",
    "    \n",
    "curl -s -L ftp://download.big.ac.cn/gsa3/CRA002390/CRR119894/CRR119894_f1.fq.gz  > \\\n",
    "    /input_dir/corona_analysis/input_reads/BALF_rna/CRR119894_f1.fq.gz\n",
    "curl -s -L ftp://download.big.ac.cn/gsa3/CRA002390/CRR119894/CRR119894_r2.fq.gz  > \\\n",
    "    /input_dir/corona_analysis/input_reads/BALF_rna/CRR119894_r2.fq.gz\n",
    "    "
   ]
  },
  {
   "cell_type": "code",
   "execution_count": null,
   "metadata": {},
   "outputs": [],
   "source": [
    "# Filter reads and QC runs using Fastp\n",
    "\n",
    "fastp -p 8 -i /input_dir/corona_analysis/input_reads/BALF_rna/CRR119897_f1.fq.gz \\\n",
    "      -I /input_dir/corona_analysis/input_reads/BALF_rna/CRR119897_r2.fq.gz \\\n",
    "      -o /input_dir/corona_analysis/input_reads/BALF_rna/CRR119897_filt_1.fq.gz \\\n",
    "      -O /input_dir/corona_analysis/input_reads/BALF_rna/CRR119897_filt_2.fq.gz \\\n",
    "      -h /input_dir/corona_analysis/input_reads/BALF_rna/CRR119897_fastp.html \\\n",
    "      -j /input_dir/corona_analysis/input_reads/BALF_rna/CRR119897_fastp.json \n",
    "\n",
    "fastp -p 8 -i /input_dir/corona_analysis/input_reads/BALF_rna/CRR119896_f1.fq.gz \\\n",
    "      -I /input_dir/corona_analysis/input_reads/BALF_rna/CRR119896_r2.fq.gz \\\n",
    "      -o /input_dir/corona_analysis/input_reads/BALF_rna/CRR119896_filt_1.fq.gz \\\n",
    "      -O /input_dir/corona_analysis/input_reads/BALF_rna/CRR119896_filt_2.fq.gz \\\n",
    "      -h /input_dir/corona_analysis/input_reads/BALF_rna/CRR119896_fastp.html \\\n",
    "      -j /input_dir/corona_analysis/input_reads/BALF_rna/CRR119896_fastp.json \n",
    "\n",
    "fastp -p 8 -i /input_dir/corona_analysis/input_reads/BALF_rna/CRR119895_f1.fq.gz \\\n",
    "      -I /input_dir/corona_analysis/input_reads/BALF_rna/CRR119895_r2.fq.gz \\\n",
    "      -o /input_dir/corona_analysis/input_reads/BALF_rna/CRR119895_filt_1.fq.gz \\\n",
    "      -O /input_dir/corona_analysis/input_reads/BALF_rna/CRR119895_filt_2.fq.gz \\\n",
    "      -h /input_dir/corona_analysis/input_reads/BALF_rna/CRR119895_fastp.html \\\n",
    "      -j /input_dir/corona_analysis/input_reads/BALF_rna/CRR119895_fastp.json \n",
    "\n",
    "fastp -p 8 -i /input_dir/corona_analysis/input_reads/BALF_rna/CRR119894_f1.fq.gz \\\n",
    "      -I /input_dir/corona_analysis/input_reads/BALF_rna/CRR119894_r2.fq.gz \\\n",
    "      -o /input_dir/corona_analysis/input_reads/BALF_rna/CRR119894_filt_1.fq.gz \\\n",
    "      -O /input_dir/corona_analysis/input_reads/BALF_rna/CRR119894_filt_2.fq.gz \\\n",
    "      -h /input_dir/corona_analysis/input_reads/BALF_rna/CRR119894_fastp.html \\\n",
    "      -j /input_dir/corona_analysis/input_reads/BALF_rna/CRR119894_fastp.json \n"
   ]
  },
  {
   "cell_type": "markdown",
   "metadata": {},
   "source": [
    "# Make genome annotations for STAR and RSEM\n"
   ]
  },
  {
   "cell_type": "code",
   "execution_count": null,
   "metadata": {},
   "outputs": [],
   "source": [
    "%%bash\n",
    "#Generate genome indices for STAR\n",
    "mkdir /input_dir/corona_analysis/annotations/human/STAR_ix\n",
    "STAR --runThreadN 12 \\\n",
    "     --runMode genomeGenerate --outTmpDir /input_dir/corona_analysis/temp/star2 \\\n",
    "     --genomeDir /input_dir/corona_analysis/annotations/human/STAR_ix \\\n",
    "     --genomeFastaFiles /input_dir/corona_analysis/annotations/human/GRCh38_filt_dna_sm.fa \\\n",
    "     --sjdbGTFfile /input_dir/corona_analysis/annotations/human/Homo_sapiens.GRCh38.99.gtf \\\n",
    "     --sjdbOverhang 149 --limitGenomeGenerateRAM 30000000000 --genomeSAsparseD 2\n"
   ]
  },
  {
   "cell_type": "code",
   "execution_count": null,
   "metadata": {},
   "outputs": [],
   "source": [
    "%%bash\n",
    "\n",
    "#Generate genome annotations for RSEM\n",
    "rsem-prepare-reference --gtf /input_dir/corona_analysis/annotations/human/Homo_sapiens.GRCh38.99.gtf  \\\n",
    "                       /input_dir/corona_analysis/annotations/human/GRCh38_filt_dna_sm.fa \\\n",
    "                       /input_dir/corona_analysis/annotations/human/RSEM_ix \n"
   ]
  },
  {
   "cell_type": "markdown",
   "metadata": {},
   "source": [
    "# Align reads to human transcriptome using STAR"
   ]
  },
  {
   "cell_type": "code",
   "execution_count": null,
   "metadata": {},
   "outputs": [],
   "source": [
    "%%bash\n",
    "\n",
    "#Align coronavirus BALF reads to human transcriptome\n",
    "cd /input_dir/corona_analysis/input_reads/BALF_rna\n",
    "#Patient 1\n",
    "STAR --runMode alignReads      \\\n",
    "     --genomeDir /input_dir/corona_analysis/annotations/human/STAR_ix \\\n",
    "     --outSAMtype BAM SortedByCoordinate --runThreadN 14 \\\n",
    "     --outFileNamePrefix /input_dir/corona_analysis/alignment_out/BALF_corona_s1_\\\n",
    "     --outTmpDir /input_dir/corona_analysis/temp/star2 \\\n",
    "     --outReadsUnmapped Fastx --limitBAMsortRAM 27000000000 \\\n",
    "     --outWigType wiggle --quantMode TranscriptomeSAM   --readFilesCommand zcat \\\n",
    "     --readFilesIn CRR119894_filt_1.fq.gz,CRR119895_filt_1.fq.gz \\\n",
    "                   CRR119894_filt_2.fq.gz,CRR119895_filt_2.fq.gz\n",
    "#Patient 2\n",
    "STAR --runMode alignReads      \\\n",
    "     --genomeDir /input_dir/corona_analysis/annotations/human/STAR_ix \\\n",
    "     --outSAMtype BAM SortedByCoordinate --runThreadN 14 \\\n",
    "     --outFileNamePrefix /input_dir/corona_analysis/alignment_out/BALF_corona_s2_\\\n",
    "     --outTmpDir /input_dir/corona_analysis/temp/star2 \\\n",
    "     --outReadsUnmapped Fastx --limitBAMsortRAM 27000000000 \\\n",
    "     --outWigType wiggle --quantMode TranscriptomeSAM   --readFilesCommand zcat \\\n",
    "     --readFilesIn CRR119896_filt_1.fq.gz,CRR119897_filt_1.fq.gz \\\n",
    "                   CRR119896_filt_2.fq.gz,CRR119897_filt_2.fq.gz\n"
   ]
  },
  {
   "cell_type": "code",
   "execution_count": null,
   "metadata": {},
   "outputs": [],
   "source": [
    "%%bash \n",
    "\n",
    "cd /input_dir/corona_analysis/alignment_out/\n",
    "#Quantify infected BALF transcriptome\n",
    "rsem-calculate-expression --paired-end \\\n",
    "                       --alignments \\\n",
    "                       -p 14 --no-bam-output \\\n",
    "                       BALF_corona_s1_Aligned.toTranscriptome.out.bam \\\n",
    "                      /input_dir/corona_analysis/annotations/human/RSEM_ix \\\n",
    "                       BALF_infected_s1_\n"
   ]
  },
  {
   "cell_type": "code",
   "execution_count": null,
   "metadata": {},
   "outputs": [],
   "source": [
    "%%bash\n",
    "\n",
    "#Quantify infected BALF transcriptome\n",
    "rsem-calculate-expression --paired-end \\\n",
    "                       --alignments \\\n",
    "                       -p 14 --no-bam-output \\\n",
    "                       BALF_corona_s2_Aligned.toTranscriptome.out.bam \\\n",
    "                      /input_dir/corona_analysis/annotations/human/RSEM_ix \\\n",
    "                       BALF_infected_s2_\n"
   ]
  },
  {
   "cell_type": "markdown",
   "metadata": {},
   "source": [
    "# Differential expression between vero normal and infected"
   ]
  },
  {
   "cell_type": "code",
   "execution_count": null,
   "metadata": {},
   "outputs": [],
   "source": [
    "%%bash\n",
    "cd /input_dir/corona_analysis/alignment_out/\n",
    "rsem-generate-data-matrix BALF_control_quant/BALF_control_rsem_s1_.genes.results \\\n",
    "                          BALF_control_quant/BALF_control_rsem_s2_.genes.results \\\n",
    "                          BALF_control_quant/BALF_control_rsem_s3_.genes.results \\\n",
    "                          BALF_infected_quant/BALF_infected_s1_.genes.results \\\n",
    "                          BALF_infected_quant/BALF_infected_s2_.genes.results \\\n",
    "                            > BALF_rsem_gene_counts.txt\n",
    "\n",
    "rsem-generate-data-matrix BALF_control_quant/BALF_control_rsem_s1_.isoforms.results \\\n",
    "                          BALF_control_quant/BALF_control_rsem_s2_.isoforms.results \\\n",
    "                          BALF_control_quant/BALF_control_rsem_s3_.isoforms.results \\\n",
    "                          BALF_infected_quant/BALF_infected_s1_.isoforms.results \\\n",
    "                          BALF_infected_quant/BALF_infected_s2_.isoforms.results \\\n",
    "                            > BALF_rsem_isoform_counts.txt\n"
   ]
  },
  {
   "cell_type": "code",
   "execution_count": null,
   "metadata": {},
   "outputs": [],
   "source": [
    "%%bash\n",
    "cd /input_dir/corona_analysis/diffExp_out/\n",
    "rsem-run-ebseq BALF_rsem_gene_counts.txt 3,2 BALF_corona_geneDiff_rsem.txt"
   ]
  }
 ],
 "metadata": {
  "kernelspec": {
   "display_name": "Python 3",
   "language": "python",
   "name": "python3"
  },
  "language_info": {
   "codemirror_mode": {
    "name": "ipython",
    "version": 3
   },
   "file_extension": ".py",
   "mimetype": "text/x-python",
   "name": "python",
   "nbconvert_exporter": "python",
   "pygments_lexer": "ipython3",
   "version": "3.6.9"
  }
 },
 "nbformat": 4,
 "nbformat_minor": 4
}

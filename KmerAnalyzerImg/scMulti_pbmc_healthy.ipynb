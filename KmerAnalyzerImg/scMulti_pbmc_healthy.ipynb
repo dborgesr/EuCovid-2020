{
 "cells": [
  {
   "cell_type": "markdown",
   "metadata": {},
   "source": [
    "# PBMCs from healthy \n",
    "\n",
    "[Scalable, multimodal profiling of chromatin accessibility and protein levels in single cells](https://www.biorxiv.org/content/10.1101/2020.09.08.286914v1.full.pdf)\n",
    "\n",
    "[GEO dataset GSE149689](https://www.ncbi.nlm.nih.gov/geo/query/acc.cgi?acc=GSE156478)\n",
    "\n",
    "[SRA dataset PRJNA658080](https://www.ncbi.nlm.nih.gov/bioproject/PRJNA658080)\n",
    "\n",
    "Used Chromium V1 chemistry from 10x Genomics for scATAC-seq w/ readlayout for STARsolo:\n",
    "10x v1\n",
    "* Whitelist, 737K-april-2014_rc.txt\n",
    "* CB length, 14\n",
    "* UMI start, 15\n",
    "* UMI length, 10 (courtesy ATpoint)\n",
    "\n",
    "Also has epitope based \"ASAP-Seq\" to get surface epitope information for a bunch of proteins\n"
   ]
  },
  {
   "cell_type": "code",
   "execution_count": 1,
   "metadata": {},
   "outputs": [],
   "source": [
    "\n",
    "import pandas as pd"
   ]
  },
  {
   "cell_type": "code",
   "execution_count": 3,
   "metadata": {},
   "outputs": [],
   "source": [
    "PRJNA629752_meta_in = pd.read_csv(\"PRJNA658080_SRA_datatable.txt\", header=0, delimiter=r',')"
   ]
  },
  {
   "cell_type": "code",
   "execution_count": 11,
   "metadata": {},
   "outputs": [
    {
     "data": {
      "text/plain": [
       "Index(['ab_tags', 'Run', 'Assay Type', 'AvgSpotLen', 'Bases', 'BioProject',\n",
       "       'BioSample', 'Bytes', 'Center Name', 'Consent', 'DATASTORE filetype',\n",
       "       'DATASTORE provider', 'DATASTORE region', 'Experiment',\n",
       "       'GEO_Accession (exp)', 'Instrument', 'LibraryLayout',\n",
       "       'LibrarySelection', 'LibrarySource', 'lysis_buffer', 'Organism',\n",
       "       'Platform', 'ReleaseDate', 'Sample Name', 'source_name', 'SRA Study',\n",
       "       'target_molecule'],\n",
       "      dtype='object')"
      ]
     },
     "execution_count": 11,
     "metadata": {},
     "output_type": "execute_result"
    }
   ],
   "source": [
    "PRJNA629752_meta_in.columns"
   ]
  },
  {
   "cell_type": "code",
   "execution_count": 12,
   "metadata": {},
   "outputs": [
    {
     "data": {
      "text/html": [
       "<div>\n",
       "<style scoped>\n",
       "    .dataframe tbody tr th:only-of-type {\n",
       "        vertical-align: middle;\n",
       "    }\n",
       "\n",
       "    .dataframe tbody tr th {\n",
       "        vertical-align: top;\n",
       "    }\n",
       "\n",
       "    .dataframe thead th {\n",
       "        text-align: right;\n",
       "    }\n",
       "</style>\n",
       "<table border=\"1\" class=\"dataframe\">\n",
       "  <thead>\n",
       "    <tr style=\"text-align: right;\">\n",
       "      <th></th>\n",
       "      <th>Experiment</th>\n",
       "      <th>Run</th>\n",
       "      <th>source_name</th>\n",
       "      <th>Assay Type</th>\n",
       "      <th>target_molecule</th>\n",
       "    </tr>\n",
       "  </thead>\n",
       "  <tbody>\n",
       "    <tr>\n",
       "      <th>0</th>\n",
       "      <td>SRX8970539</td>\n",
       "      <td>SRR12476601</td>\n",
       "      <td>Peripheral blood mononuclear cells</td>\n",
       "      <td>ATAC-seq</td>\n",
       "      <td>Accessible chromatin</td>\n",
       "    </tr>\n",
       "    <tr>\n",
       "      <th>1</th>\n",
       "      <td>SRX8970540</td>\n",
       "      <td>SRR12476602</td>\n",
       "      <td>Peripheral blood mononuclear cells</td>\n",
       "      <td>ATAC-seq</td>\n",
       "      <td>Accessible chromatin</td>\n",
       "    </tr>\n",
       "    <tr>\n",
       "      <th>2</th>\n",
       "      <td>SRX8970541</td>\n",
       "      <td>SRR12476603</td>\n",
       "      <td>Peripheral blood mononuclear cells</td>\n",
       "      <td>OTHER</td>\n",
       "      <td>Cell Surface Markers</td>\n",
       "    </tr>\n",
       "    <tr>\n",
       "      <th>3</th>\n",
       "      <td>SRX8970542</td>\n",
       "      <td>SRR12476604</td>\n",
       "      <td>Peripheral blood mononuclear cells</td>\n",
       "      <td>OTHER</td>\n",
       "      <td>Cell Surface Markers</td>\n",
       "    </tr>\n",
       "    <tr>\n",
       "      <th>4</th>\n",
       "      <td>SRX8970543</td>\n",
       "      <td>SRR12476605</td>\n",
       "      <td>Peripheral blood mononuclear cells</td>\n",
       "      <td>OTHER</td>\n",
       "      <td>Cell Surface Markers</td>\n",
       "    </tr>\n",
       "    <tr>\n",
       "      <th>5</th>\n",
       "      <td>SRX8970544</td>\n",
       "      <td>SRR12476606</td>\n",
       "      <td>Peripheral blood mononuclear cells</td>\n",
       "      <td>OTHER</td>\n",
       "      <td>Cell Surface Markers</td>\n",
       "    </tr>\n",
       "    <tr>\n",
       "      <th>6</th>\n",
       "      <td>SRX8970545</td>\n",
       "      <td>SRR12476607</td>\n",
       "      <td>Peripheral blood mononuclear cells</td>\n",
       "      <td>ATAC-seq</td>\n",
       "      <td>Accessible chromatin</td>\n",
       "    </tr>\n",
       "    <tr>\n",
       "      <th>7</th>\n",
       "      <td>SRX8970546</td>\n",
       "      <td>SRR12476608</td>\n",
       "      <td>Peripheral blood mononuclear cells</td>\n",
       "      <td>OTHER</td>\n",
       "      <td>Cell Surface Markers</td>\n",
       "    </tr>\n",
       "    <tr>\n",
       "      <th>8</th>\n",
       "      <td>SRX8970547</td>\n",
       "      <td>SRR12476609</td>\n",
       "      <td>Peripheral blood mononuclear cells</td>\n",
       "      <td>ATAC-seq</td>\n",
       "      <td>Accessible chromatin</td>\n",
       "    </tr>\n",
       "    <tr>\n",
       "      <th>9</th>\n",
       "      <td>SRX8970548</td>\n",
       "      <td>SRR12476610</td>\n",
       "      <td>Peripheral blood mononuclear cells</td>\n",
       "      <td>ATAC-seq</td>\n",
       "      <td>Accessible chromatin</td>\n",
       "    </tr>\n",
       "    <tr>\n",
       "      <th>10</th>\n",
       "      <td>SRX8970549</td>\n",
       "      <td>SRR12476611</td>\n",
       "      <td>Peripheral blood mononuclear cells</td>\n",
       "      <td>OTHER</td>\n",
       "      <td>Cell Surface Markers for Hashing</td>\n",
       "    </tr>\n",
       "    <tr>\n",
       "      <th>11</th>\n",
       "      <td>SRX8970550</td>\n",
       "      <td>SRR12476612</td>\n",
       "      <td>Peripheral blood mononuclear cells</td>\n",
       "      <td>ATAC-seq</td>\n",
       "      <td>Accessible chromatin</td>\n",
       "    </tr>\n",
       "    <tr>\n",
       "      <th>12</th>\n",
       "      <td>SRX8970551</td>\n",
       "      <td>SRR12476613</td>\n",
       "      <td>Peripheral blood mononuclear cells</td>\n",
       "      <td>OTHER</td>\n",
       "      <td>Cell Surface Markers</td>\n",
       "    </tr>\n",
       "    <tr>\n",
       "      <th>13</th>\n",
       "      <td>SRX8970552</td>\n",
       "      <td>SRR12476614</td>\n",
       "      <td>Peripheral blood mononuclear cells</td>\n",
       "      <td>OTHER</td>\n",
       "      <td>Intracellular Markers</td>\n",
       "    </tr>\n",
       "  </tbody>\n",
       "</table>\n",
       "</div>"
      ],
      "text/plain": [
       "    Experiment          Run                         source_name Assay Type  \\\n",
       "0   SRX8970539  SRR12476601  Peripheral blood mononuclear cells   ATAC-seq   \n",
       "1   SRX8970540  SRR12476602  Peripheral blood mononuclear cells   ATAC-seq   \n",
       "2   SRX8970541  SRR12476603  Peripheral blood mononuclear cells      OTHER   \n",
       "3   SRX8970542  SRR12476604  Peripheral blood mononuclear cells      OTHER   \n",
       "4   SRX8970543  SRR12476605  Peripheral blood mononuclear cells      OTHER   \n",
       "5   SRX8970544  SRR12476606  Peripheral blood mononuclear cells      OTHER   \n",
       "6   SRX8970545  SRR12476607  Peripheral blood mononuclear cells   ATAC-seq   \n",
       "7   SRX8970546  SRR12476608  Peripheral blood mononuclear cells      OTHER   \n",
       "8   SRX8970547  SRR12476609  Peripheral blood mononuclear cells   ATAC-seq   \n",
       "9   SRX8970548  SRR12476610  Peripheral blood mononuclear cells   ATAC-seq   \n",
       "10  SRX8970549  SRR12476611  Peripheral blood mononuclear cells      OTHER   \n",
       "11  SRX8970550  SRR12476612  Peripheral blood mononuclear cells   ATAC-seq   \n",
       "12  SRX8970551  SRR12476613  Peripheral blood mononuclear cells      OTHER   \n",
       "13  SRX8970552  SRR12476614  Peripheral blood mononuclear cells      OTHER   \n",
       "\n",
       "                     target_molecule  \n",
       "0               Accessible chromatin  \n",
       "1               Accessible chromatin  \n",
       "2               Cell Surface Markers  \n",
       "3               Cell Surface Markers  \n",
       "4               Cell Surface Markers  \n",
       "5               Cell Surface Markers  \n",
       "6               Accessible chromatin  \n",
       "7               Cell Surface Markers  \n",
       "8               Accessible chromatin  \n",
       "9               Accessible chromatin  \n",
       "10  Cell Surface Markers for Hashing  \n",
       "11              Accessible chromatin  \n",
       "12              Cell Surface Markers  \n",
       "13             Intracellular Markers  "
      ]
     },
     "execution_count": 12,
     "metadata": {},
     "output_type": "execute_result"
    }
   ],
   "source": [
    "PRJNA629752_meta_in[[\"Experiment\",\"Run\",\"source_name\", \"Assay Type\", \"target_molecule\"]]"
   ]
  },
  {
   "cell_type": "code",
   "execution_count": null,
   "metadata": {},
   "outputs": [],
   "source": [
    "#Start w/ PBMC ATAC-seq SRR12476610 \"Broad_LibC_ATAC\""
   ]
  },
  {
   "cell_type": "code",
   "execution_count": null,
   "metadata": {},
   "outputs": [],
   "source": [
    "#Prefetch SRA file\n",
    "prefetch --progress -o /fast_dir/seq_data/raw_sra/SRR12476610.sra SRR12476610\n"
   ]
  },
  {
   "cell_type": "code",
   "execution_count": null,
   "metadata": {},
   "outputs": [],
   "source": [
    "#Dump SRA file into fastq.gz\n",
    "parallel-fastq-dump -t 8 --tmpdir /fast_dir/seq_data/raw_sra/temp \\\n",
    "    -s /fast_dir/seq_data/raw_sra/SRR12476610.sra \\\n",
    "    --dumpbase --clip --readids --gzip \\\n",
    "    --read-filter pass --split-files --origfmt \\\n",
    "    --outdir /fast_dir/seq_data/input_reads/pbmc/\n"
   ]
  },
  {
   "cell_type": "code",
   "execution_count": null,
   "metadata": {},
   "outputs": [],
   "source": [
    "cd /fast_dir/seq_data/input_reads/pbmc/\n",
    "#Filter reads and check quality, turn on UMI processing and max read length=0 to not toss first read\n",
    "fastp -p 12 -i SRR12476610_pass_1.fastq.gz \\\n",
    "      -I SRR12476610_pass_2.fastq.gz \\\n",
    "      -o SRR12476610_filt_1.fq.gz \\\n",
    "      -O SRR12476610_filt_2.fq.gz \\\n",
    "      -h SRR12476610_fastp.html \\\n",
    "      -j SRR12476610_fastp.json \n",
    "#      --umi --umi_loc read1 --umi_len 26 -l 0   #Finds and appends Barcode to read name, not what i want\n"
   ]
  },
  {
   "cell_type": "code",
   "execution_count": null,
   "metadata": {},
   "outputs": [],
   "source": [
    "snaptools index-genome \\\n",
    "        --input-fasta=/input_dir/corona_analysis/annotations/human/GRCh38_filt_dna_sm_covid.fa \\\n",
    "        --output-prefix=/input_dir/corona_analysis/annotations/human/hg38_covid_mm \\\n",
    "        --aligner=minimap2 \\\n",
    "        --path-to-aligner=/opt/conda/envs/env/bin/ \\\n",
    "        --num-threads=12"
   ]
  },
  {
   "cell_type": "code",
   "execution_count": null,
   "metadata": {},
   "outputs": [],
   "source": [
    "#Quantify scRNA-seq reads\n",
    "cd /fast_dir/seq_data/input_reads/pbmc\n",
    "snaptools align-paired-end \\\n",
    "        --input-reference=/input_dir/corona_analysis/annotations/human/GRCh38_filt_dna_sm_covid.fa \\\n",
    "        --input-fastq1=SRR12476610_filt_1.fq.gz \\\n",
    "        --input-fastq2=SRR12476610_filt_2.fq.gz \\\n",
    "        --output-bam=/fast_dir/seq_data/alignment_out/pbmc/SRR12476610_hg38_covid.bam \\\n",
    "        --path-to-aligner=/opt/conda/envs/env/bin/ \\\n",
    "        --aligner=minimap2 \\\n",
    "        --read-fastq-command=zcat \\\n",
    "        --min-cov=0 \\\n",
    "        --num-threads=5 \\\n",
    "        --if-sort=True \\\n",
    "        --tmp-folder=/fast_dir/seq_data/raw_sra/temp/ \\\n",
    "        --overwrite=TRUE        "
   ]
  },
  {
   "cell_type": "code",
   "execution_count": null,
   "metadata": {},
   "outputs": [],
   "source": [
    "MAESTRO scatac-init --platform 10x-genomics --format fastq --species GRCh38 \\\n",
    "--fastq-dir /fast_dir/seq_data/input_reads/pbmc --fastq-prefix SRR12476601_pass_ \\\n",
    "--cores 8 --directory /fast_dir/seq_data/scATAC/10X_PBMC_MAESTRO_healthy --outprefix 10X_PBMC_healthy \\\n",
    "--peak-cutoff 100 --count-cutoff 1000 --frip-cutoff 0.2 --cell-cutoff 50 \\\n",
    "--fasta /input_dir/corona_analysis/annotations/human/GRCh38_filt_dna_sm_covid.fa \\\n",
    "--whitelist /input_dir/corona_analysis/annotations/human/scRNA_10x_v1_whitelist.txt \\\n",
    "--rpmodel Enhanced \n",
    "#--annotation --method RP-based --signature human.immune.CIBERSORT\n",
    "#--giggleannotation annotations/MAESTRO/giggle.all \\"
   ]
  }
 ],
 "metadata": {
  "kernelspec": {
   "display_name": "Python 3",
   "language": "python",
   "name": "python3"
  },
  "language_info": {
   "codemirror_mode": {
    "name": "ipython",
    "version": 3
   },
   "file_extension": ".py",
   "mimetype": "text/x-python",
   "name": "python",
   "nbconvert_exporter": "python",
   "pygments_lexer": "ipython3",
   "version": "3.9.1"
  }
 },
 "nbformat": 4,
 "nbformat_minor": 4
}

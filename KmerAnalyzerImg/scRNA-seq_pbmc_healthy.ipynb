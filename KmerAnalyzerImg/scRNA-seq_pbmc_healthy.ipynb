{
 "cells": [
  {
   "cell_type": "markdown",
   "metadata": {},
   "source": [
    "# Getting healthy PBMC data from\n",
    "[Single-cell RNA sequencing unveils the shared and the distinct cytotoxic hallmarks of human TCRVδ1 and TCRVδ2 γδ T lymphocytes](https://www.pnas.org/content/116/24/11906)\n",
    "\n",
    "Used Chromium V2 chemistry for scRNA-seq of healthy blood PBMCs\n",
    "\n",
    "* Donor1 - SRR8718858\n",
    "* Donor1 - SRR8718859\n",
    "* Donor2 - SRR8718860\n",
    "* Donor2 - SRR8718861\n",
    "* Donor3 - SRR8718862\n",
    "* Donor3 - SRR8718863\n"
   ]
  },
  {
   "cell_type": "code",
   "execution_count": null,
   "metadata": {},
   "outputs": [],
   "source": [
    "%%bash \n",
    "\n",
    "#Pull healthy PBMC scRNA-seq Chromium V2 SRA file\n",
    "cd /input_dir/crispr_analysis/input_reads\n",
    "prefetch -o /input_dir/crispr_analysis/input_reads/pbmc/SRR8718860.sra SRR8718860\n"
   ]
  },
  {
   "cell_type": "code",
   "execution_count": null,
   "metadata": {},
   "outputs": [],
   "source": [
    "%%bash\n",
    "#Dump SRA file into reads using parallel-fastq-dump (preferred)\n",
    "parallel-fastq-dump -t 8 --tmpdir /input_dir/crispr_analysis/temp/ \\\n",
    "    -s /input_dir/crispr_analysis/input_reads/pbmc/SRR8718860.sra \\\n",
    "    --dumpbase --clip --readids --gzip \\\n",
    "    --read-filter pass --split-files --origfmt \\\n",
    "    --outdir /input_dir/crispr_analysis/input_reads/pbmc\n"
   ]
  },
  {
   "cell_type": "code",
   "execution_count": null,
   "metadata": {},
   "outputs": [],
   "source": [
    "#Dump SRA file into reads using fasterq (meh atm, no gzip)\n",
    "fasterq-dump --skip-technical -e 8 -s -3 -O /fast_dir/seq_data/input_reads/pbmc \\\n",
    "    -t /fast_dir/seq_data/raw_sra/temp \\\n",
    "    SRR8718860\n"
   ]
  },
  {
   "cell_type": "code",
   "execution_count": null,
   "metadata": {},
   "outputs": [],
   "source": [
    "%%bash\n",
    "\n",
    "cd /data_dir/crispr_analysis/input_reads/pbmc\n",
    "#Filter reads and check quality, turn on UMI processing and max read length=0 to not toss first read\n",
    "fastp -p 12 -i SRR8718860_pass_1.fastq.gz \\\n",
    "      -I SRR8718860_pass_2.fastq.gz \\\n",
    "      -o SRR8718860_filt_1.fq.gz \\\n",
    "      -O SRR8718860_filt_2.fq.gz \\\n",
    "      -h SRR8718860_fastp.html \\\n",
    "      -j SRR8718860_fastp.json \n",
    "#      --umi --umi_loc read1 --umi_len 26 -l 0   #Finds and appends Barcode to read name, not what i want\n"
   ]
  },
  {
   "cell_type": "code",
   "execution_count": null,
   "metadata": {},
   "outputs": [],
   "source": [
    "%%bash\n",
    "#Set directory\n",
    "#mkdir /input_dir/crispr_analysis/alignment_out/pbmc/\n",
    "cd /data_dir/crispr_analysis/input_reads/pbmc\n"
   ]
  },
  {
   "cell_type": "code",
   "execution_count": null,
   "metadata": {},
   "outputs": [],
   "source": [
    "%%bash\n",
    "\n",
    "#Quantify using k-mer based Salmon Alevin\n",
    "salmon alevin -l ISR \\\n",
    "              -1 SRR8718860_filt_1.fq.gz \\\n",
    "              -2 SRR8718860_filt_2.fq.gz \\\n",
    "              --chromium \\\n",
    "              -i /data_dir/corona_analysis/annotations/human/salmon_ann/salmon_hg38_index \\\n",
    "              -p 10 --dumpMtx \\\n",
    "              --mrna /data_dir/corona_analysis/annotations/human/gencode_mt.txt \\\n",
    "              --rrna /data_dir/corona_analysis/annotations/human/rRNA_ensembl.txt \\\n",
    "              -o /data_dir/crispr_analysis/alignment_out/pbmc/donor_2_1 \\\n",
    "              --tgMap /data_dir/corona_analysis/annotations/human/salmon_grch38_gencode_tran2gene.txt\n"
   ]
  },
  {
   "cell_type": "code",
   "execution_count": null,
   "metadata": {},
   "outputs": [],
   "source": [
    "%%bash\n",
    "\n",
    "#Quantify using alignment based STAR\n",
    "STAR --runMode alignReads \\\n",
    "     --genomeDir /input_dir/corona_analysis/annotations/human/STAR_ix \\\n",
    "     --outSAMtype BAM SortedByCoordinate --runThreadN 14 \\\n",
    "     --outFileNamePrefix /input_dir/crispr_analysis/alignment_out/pbmc/donor_1_1_star/ \\\n",
    "     --outTmpDir /input_dir/crispr_analysis/temp/star1 \\\n",
    "     --outReadsUnmapped Fastx --limitBAMsortRAM 90000000000 \\\n",
    "     --outWigType wiggle --quantMode TranscriptomeSAM --readFilesCommand zcat \\\n",
    "     --soloType CB_UMI_Simple --soloCBwhitelist /input_dir/corona_analysis/annotations/human/scRNA_10x_v2_whitelist.txt \\\n",
    "     --soloFeatures Gene --outSAMattributes NH HI nM AS CR UR CB UB GX GN sS sQ sM \\\n",
    "    --readFilesIn SRR8718860_filt_2.fq.gz SRR8718860_filt_1.fq.gz\n",
    "\n"
   ]
  }
 ],
 "metadata": {
  "kernelspec": {
   "display_name": "Python 3",
   "language": "python",
   "name": "python3"
  },
  "language_info": {
   "codemirror_mode": {
    "name": "ipython",
    "version": 3
   },
   "file_extension": ".py",
   "mimetype": "text/x-python",
   "name": "python",
   "nbconvert_exporter": "python",
   "pygments_lexer": "ipython3",
   "version": "3.9.1"
  }
 },
 "nbformat": 4,
 "nbformat_minor": 4
}

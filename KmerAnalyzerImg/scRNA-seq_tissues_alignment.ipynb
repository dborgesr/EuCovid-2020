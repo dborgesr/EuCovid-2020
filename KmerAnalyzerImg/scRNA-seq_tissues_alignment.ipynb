{
 "cells": [
  {
   "cell_type": "code",
   "execution_count": null,
   "metadata": {},
   "outputs": [],
   "source": [
    "%%bash\n",
    "#Get whitelist for version 10x v2\n",
    "curl -s -L https://github.com/BUStools/getting_started/releases/download/velocity_tutorial/10xv2_whitelist.txt > \\\n",
    "    /input_dir/corona_analysis/annotations/human/scRNA_10x_v2_whitelist.txt\n",
    "    "
   ]
  },
  {
   "cell_type": "code",
   "execution_count": null,
   "metadata": {},
   "outputs": [],
   "source": [
    "%%bash\n",
    "mkdir /input_dir/corona_analysis/alignment_out/kidney_scRNA_control/\n",
    "\n",
    "#Align reads against human transcriptome for BALF control\n",
    "# CB: 1-6,22-27,43-48\n",
    "# UMI: 49-54   \n",
    "cd /input_dir/corona_analysis/input_reads/kidney_scRNA_control\n",
    "#Ctlr1\n",
    "STAR --runMode alignReads      \\\n",
    "     --genomeDir /input_dir/corona_analysis/annotations/human/STAR_ix \\\n",
    "     --outSAMtype BAM SortedByCoordinate --runThreadN 14 \\\n",
    "     --outFileNamePrefix /input_dir/corona_analysis/alignment_out/kidney_scRNA_control/kidney_scRNA_c1_ \\\n",
    "     --outTmpDir /input_dir/corona_analysis/temp/star2 \\\n",
    "     --outReadsUnmapped Fastx --limitBAMsortRAM 27000000000 \\\n",
    "     --outWigType wiggle --quantMode TranscriptomeSAM  \\\n",
    "     --soloType CB_UMI_Complex --soloCBposition  0_0_0_6 0_22_0_27 0_43_0_48 --soloUMIposition  0_49_0_54 \\\n",
    "     --soloFeatures Gene --soloOutFileNames kidney_scRNA_c1_solo_ --soloCBwhitelist None \\\n",
    "     --readFilesIn t2.fq \\\n",
    "                   t1.fq\n",
    "    --readFilesIn SRX7253176_filt_1.fq.gz \\\n",
    "                   SRX7253176_filt_2.fq.gz\n",
    "\n"
   ]
  },
  {
   "cell_type": "code",
   "execution_count": null,
   "metadata": {},
   "outputs": [],
   "source": [
    "%%bash\n",
    "\n",
    "cd /input_dir/corona_analysis/alignment_out/kidney_scRNA_control/\n",
    "#Quantify expression in control BALF samples 1-3\n",
    "\n",
    "#Ctlr1\n",
    "rsem-calculate-expression --paired-end \\\n",
    "                       --alignments \\\n",
    "                       -p 14 --no-bam-output \\\n",
    "                       kidney_scRNA_control1_Aligned.toTranscriptome.out.bam \\\n",
    "                      /input_dir/corona_analysis/annotations/human/RSEM_ix \\\n",
    "                       kidney_scRNA_rsem_control1_"
   ]
  }
 ],
 "metadata": {
  "kernelspec": {
   "display_name": "Python 3",
   "language": "python",
   "name": "python3"
  },
  "language_info": {
   "codemirror_mode": {
    "name": "ipython",
    "version": 3
   },
   "file_extension": ".py",
   "mimetype": "text/x-python",
   "name": "python",
   "nbconvert_exporter": "python",
   "pygments_lexer": "ipython3",
   "version": "3.9.1"
  }
 },
 "nbformat": 4,
 "nbformat_minor": 4
}

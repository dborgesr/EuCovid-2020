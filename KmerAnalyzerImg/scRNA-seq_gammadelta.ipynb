{
 "cells": [
  {
   "cell_type": "markdown",
   "metadata": {},
   "source": [
    "# Getting PBMC data from:\n",
    "\n",
    "\n",
    "Donor1 - SRR8718858\n",
    "Donor1 - SRR8718859\n",
    "Donor2 - SRR8718860\n",
    "Donor2 - SRR8718861\n",
    "Donor3 - SRR8718862\n",
    "Donor3 - SRR8718863\n"
   ]
  },
  {
   "cell_type": "code",
   "execution_count": null,
   "metadata": {},
   "outputs": [],
   "source": [
    "%%bash \n",
    "\n",
    "cd /input_dir/crispr_analysis/input_reads\n",
    "\n",
    "prefetch -o /input_dir/crispr_analysis/input_reads/pbmc/SRR8718858.sra SRR8718858\n",
    "prefetch -o /input_dir/crispr_analysis/input_reads/pbmc/SRR8718860.sra SRR8718860\n"
   ]
  },
  {
   "cell_type": "code",
   "execution_count": null,
   "metadata": {},
   "outputs": [],
   "source": [
    "%%bash\n",
    "\n",
    "parallel-fastq-dump -t 8 --tmpdir /input_dir/crispr_analysis/temp/ \\\n",
    "    -s /input_dir/crispr_analysis/input_reads/pbmc/SRR8718858.sra \\\n",
    "    --dumpbase --clip --readids \\\n",
    "    --read-filter pass --split-files --origfmt \\\n",
    "    --outdir /input_dir/crispr_analysis/input_reads/pbmc\n",
    "\n",
    "parallel-fastq-dump -t 8 --tmpdir /input_dir/crispr_analysis/temp/ \\\n",
    "    -s /input_dir/crispr_analysis/input_reads/pbmc/SRR8718860.sra \\\n",
    "    --dumpbase --clip --readids \\\n",
    "    --read-filter pass --split-files --origfmt \\\n",
    "    --outdir /input_dir/crispr_analysis/input_reads/pbmc\n"
   ]
  },
  {
   "cell_type": "code",
   "execution_count": null,
   "metadata": {},
   "outputs": [],
   "source": [
    "%%bash\n",
    "mkdir /input_dir/crispr_analysis/alignment_out/pbmc/\n"
   ]
  },
  {
   "cell_type": "code",
   "execution_count": null,
   "metadata": {},
   "outputs": [],
   "source": [
    "%%bash\n",
    "cd /input_dir/crispr_analysis/input_reads/pbmc\n",
    "#Attempt doing a sample from landscape\n",
    "salmon alevin -l ISR \\\n",
    "              -1 SRR8718858_pass_1.fastq \\\n",
    "              -2 SRR8718858_pass_2.fastq \\\n",
    "              --chromium \\\n",
    "              -i /input_dir/corona_analysis/annotations/human/salmon_ann/salmon_hg38_index \\\n",
    "              -p 3 \\\n",
    "              --mrna /input_dir/corona_analysis/annotations/human/gencode_mt.txt \\\n",
    "              --rrna /input_dir/corona_analysis/annotations/human/rRNA_ensembl.txt \\\n",
    "              -o /input_dir/crispr_analysis/alignment_out/pbmc/donor_1_1 \\\n",
    "              --tgMap /input_dir/corona_analysis/annotations/human/salmon_grch38_gencode_tran2gene.txt\n"
   ]
  },
  {
   "cell_type": "code",
   "execution_count": null,
   "metadata": {},
   "outputs": [],
   "source": [
    "\n",
    "salmon alevin -l ISR \\\n",
    "              -1 SRR8718860_pass_1.fastq \\\n",
    "              -2 SRR8718860_pass_2.fastq \\\n",
    "              --chromium \\\n",
    "              -i /input_dir/corona_analysis/annotations/human/salmon_ann/salmon_hg38_index \\\n",
    "              -p 10 \\\n",
    "              --mrna /input_dir/corona_analysis/annotations/human/gencode_mt.txt \\\n",
    "              --rrna /input_dir/corona_analysis/annotations/human/rRNA_ensembl.txt \\\n",
    "              -o /input_dir/crispr_analysis/alignment_out/pbmc/donor_2_1 \\\n",
    "              --tgMap /input_dir/corona_analysis/annotations/human/salmon_grch38_gencode_tran2gene.txt\n"
   ]
  },
  {
   "cell_type": "code",
   "execution_count": null,
   "metadata": {},
   "outputs": [],
   "source": [
    "%%bash\n",
    "#Get whitelist for version 10x v2\n",
    "curl -s -L https://github.com/BUStools/getting_started/releases/download/velocity_tutorial/10xv2_whitelist.txt > \\\n",
    "    /input_dir/corona_analysis/annotations/human/scRNA_10x_v2_whitelist.txt\n",
    "    "
   ]
  },
  {
   "cell_type": "code",
   "execution_count": null,
   "metadata": {},
   "outputs": [],
   "source": [
    "%%bash\n",
    "\n",
    "#Align reads against human transcriptome for PBMC from donors  \n",
    "cd /input_dir/crispr_analysis/alignment_out/pbmc/\n",
    "#Ctlr1\n",
    "STAR --runMode alignReads      \\\n",
    "     --genomeDir /input_dir/corona_analysis/annotations/human/STAR_ix \\\n",
    "     --outSAMtype BAM SortedByCoordinate --runThreadN 14 \\\n",
    "     --outFileNamePrefix /input_dir/crispr_analysis/alignment_out/pbmc/donor_1_1_star \\\n",
    "     --outTmpDir /input_dir/crispr_analysis/temp/star1 \\\n",
    "     --outReadsUnmapped Fastx --limitBAMsortRAM 90000000000 \\\n",
    "     --outWigType wiggle --quantMode TranscriptomeSAM  \\\n",
    "     --soloType CB_UMI_Simple --soloCBwhitelist /input_dir/corona_analysis/annotations/human/scRNA_10x_v2_whitelist.txt \\\n",
    "     --soloFeatures Gene --soloOutFileNames pbmc_scRNA_d1_solo_ \\\n",
    "    --readFilesIn SRR8718860_pass_1.fastq \\\n",
    "                   SRR8718858_pass_2.fastq\n",
    "\n"
   ]
  },
  {
   "cell_type": "code",
   "execution_count": null,
   "metadata": {},
   "outputs": [],
   "source": [
    "%%bash\n",
    "\n",
    "cd /input_dir/corona_analysis/alignment_out/kidney_scRNA_control/\n",
    "#Quantify expression in control BALF samples 1-3\n",
    "\n",
    "#Ctlr1\n",
    "rsem-calculate-expression --paired-end \\\n",
    "                       --alignments \\\n",
    "                       -p 14 --no-bam-output \\\n",
    "                       kidney_scRNA_control1_Aligned.toTranscriptome.out.bam \\\n",
    "                      /input_dir/corona_analysis/annotations/human/RSEM_ix \\\n",
    "                       kidney_scRNA_rsem_control1_"
   ]
  }
 ],
 "metadata": {
  "kernelspec": {
   "display_name": "Python 3",
   "language": "python",
   "name": "python3"
  },
  "language_info": {
   "codemirror_mode": {
    "name": "ipython",
    "version": 3
   },
   "file_extension": ".py",
   "mimetype": "text/x-python",
   "name": "python",
   "nbconvert_exporter": "python",
   "pygments_lexer": "ipython3",
   "version": "3.8.2"
  }
 },
 "nbformat": 4,
 "nbformat_minor": 4
}
